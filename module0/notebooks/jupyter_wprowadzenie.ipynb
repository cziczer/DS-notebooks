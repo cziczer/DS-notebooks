{
 "cells": [
  {
   "cell_type": "markdown",
   "metadata": {},
   "source": [
    "## Najczęściej używane polecenia\n",
    "* `Tab` - pomoc w dokończeniu słowa np. `pri` + `TAB` da nam `print` (jeśli jest kilka możliwości dokończenia słowa, to wtedy wyświetli się lista możliwych słów).\n",
    "* `Shift + Tab` + kursor w odpowiednim miejscu - dokumentacja funkcji/modułu. Bardzo przydatne, kiedy chcesz sprawdzić, co robi ta funkcja, jakie przyjmuje parametry, co zwraca itd.\n",
    "\n",
    "**Uwaga!** Uważaj, gdzie stoi kursor, bo to nadaje kontekst. \n",
    "\n",
    "* `ESC + A` lub `CTRL + M + A` - dodanie nowej komórki powyżej obecnej (*A* od *\"above\"*)\n",
    "* `ESC + B` lub `CTRL + M + B` - dodanie nowej komórki poniżej obecnej (*B* od *\"below\"*)\n",
    "* `ESC + X` lub `CTRL + M + X` - wycięcie komórki\n",
    "* `ESC + H` lub `CTRL + M + H` - wszystkie skróty"
   ]
  },
  {
   "cell_type": "markdown",
   "metadata": {},
   "source": [
    "## Polecenia w jednym miejscu\n",
    "Wszystkich poleceń jest naprawdę dużo i próba ich zapamiętania byłaby raczej nadużyciem. Po to mamy komputery, aby nam pomagały :). Dlatego możesz skupić się na zapamiętaniu tylko jednego skrótu, który umożliwia w sposób interaktywny odnalezienie innego polecenia.\n",
    "\n",
    "### Chrome\n",
    "* MAC: `cmd + shift + P`\n",
    "* Windows/Linux: `ctrl + shift + P`"
   ]
  },
  {
   "cell_type": "markdown",
   "metadata": {},
   "source": [
    "## Zapis kodu do pliku \n",
    "Poniżej widać, jak powstaje plik. W tym przypadku jest z nazwą `fe.py` i zawiera całą zawartość uruchomionej komórki. To może się przydać trochę później, więc zapamiętaj, że jest taka możliwość :)."
   ]
  },
  {
   "cell_type": "code",
   "execution_count": 1,
   "metadata": {},
   "outputs": [
    {
     "name": "stdout",
     "output_type": "stream",
     "text": [
      "Overwriting fe.py\n"
     ]
    }
   ],
   "source": [
    "%%writefile fe.py\n",
    "\n",
    "def feature_engineering(data):\n",
    "    data['year'] = data['datetime'].dt.year\n",
    "    data['diff_year'] = data['year'] - 2010\n",
    "    data['month'] = data['datetime'].dt.month\n",
    "    data['day'] = data['datetime'].dt.day\n",
    "    data['hour'] = data['datetime'].dt.hour\n",
    "    data['minute'] = data['datetime'].dt.minute\n",
    "    data['dayofweek'] = data['datetime'].dt.dayofweek\n",
    "    data['weekofyear'] = data['datetime'].dt.weekofyear\n",
    "    data['weekend'] = data.dayofweek.map(lambda x: int(x in [5,6]) )\n",
    "    data['time_of_day'] = data['hour'].map(cat_hour)\n",
    "    \n",
    "    data['dayofyear'] = data['datetime'].dt.dayofyear\n",
    "    data['day_'] = data[ ['year', 'dayofyear'] ].apply(lambda x: x['dayofyear'] + int(str(x['year'])[-1]) * 365  , axis=1)\n",
    "    \n",
    "    data['rush_hour'] = data['datetime'].apply(lambda i: min([np.fabs(9-i.hour), np.fabs(20-i.hour)]))\n",
    "    data.loc[:,('rush_hour')] = data['datetime'].apply(lambda i: np.fabs(14-i.hour))\n",
    "    data.loc[data['workingday'] != 0].loc[:,('rush_hour')] = 0\n",
    "    \n",
    "    data['holiday'] = data[['month', 'day', 'holiday', 'year']].apply(lambda x: (x['holiday'], 1)[x['year'] == 2012 and x['month'] == 10 and (x['day'] in [30])], axis = 1)\n",
    "    data['holiday'] = data[['month', 'day', 'holiday']].apply(lambda x: (x['holiday'], 1)[x['month'] == 12 and (x['day'] in [24, 26, 31])], axis = 1)\n",
    "    \n",
    "    data['workingday'] = data[['month', 'day', 'workingday']].apply(lambda x: (x['workingday'], 0)[x['month'] == 12 and x['day'] in [24, 31]], axis = 1)\n",
    "    data['peak'] = data[['hour', 'workingday']].apply(lambda x: (0, 1)[(x['workingday'] == 1 and  ( x['hour'] == 8 or 17 <= x['hour'] <= 18 or 12 <= x['hour'] <= 12)) or (x['workingday'] == 0 and  10 <= x['hour'] <= 19)], axis = 1)\n",
    "    data['sticky'] = data[['humidity', 'workingday']].apply(lambda x: (0, 1)[x['workingday'] == 1 and x['humidity'] >= 60], axis = 1)\n",
    "\n",
    "    return data\n",
    "\n",
    "print(\"done\")"
   ]
  },
  {
   "cell_type": "code",
   "execution_count": 2,
   "metadata": {},
   "outputs": [],
   "source": [
    "%pycat fe.py"
   ]
  },
  {
   "cell_type": "code",
   "execution_count": 3,
   "metadata": {},
   "outputs": [
    {
     "name": "stdout",
     "output_type": "stream",
     "text": [
      "done\n"
     ]
    }
   ],
   "source": [
    "%run fe.py"
   ]
  },
  {
   "cell_type": "markdown",
   "metadata": {},
   "source": [
    "## Interaktywny postęp\n",
    "Zrobienie paska postępu jest proste. Wystarczy zastosować w tym celu funkcję `tqdm`. Przyda się nam w kolejnych modułach."
   ]
  },
  {
   "cell_type": "code",
   "execution_count": 4,
   "metadata": {},
   "outputs": [
    {
     "name": "stderr",
     "output_type": "stream",
     "text": [
      "100%|████████████████████████████████████████████████████████████████████████████████| 100/100 [00:11<00:00,  9.06it/s]\n"
     ]
    }
   ],
   "source": [
    "from tqdm import tqdm\n",
    "import time\n",
    "\n",
    "for i in tqdm(range(100)):\n",
    "    time.sleep(0.1)"
   ]
  },
  {
   "cell_type": "markdown",
   "metadata": {},
   "source": [
    "## Przydatne linki:\n",
    "1. [Github: Wprowadzenie techniczne do narzędzi uczenia maszynowego](https://github.com/dataworkshop/webinar-jupyter)\n",
    "2. [Webinar: Wprowadzenie techniczne do narzędzi uczenia maszynowego](https://www.youtube.com/watch?time_continue=909&v=e7B0cSLZ5U0)\n",
    "3. [10 Tricks for Data Scientists using Jupyter Notebooks](https://towardsdatascience.com/10-tricks-for-data-scientists-using-jupyter-notebooks-f28387f73f77)\n",
    "4. [Awesome Jupyter](https://github.com/markusschanta/awesome-jupyter)\n",
    "5. [Advanced Jupyter Notebook Tricks](https://blog.dominodatalab.com/lesser-known-ways-of-using-notebooks/)\n",
    "6. [Jupyter Lab: Evolution of the Jupyter Notebook](https://towardsdatascience.com/jupyter-lab-evolution-of-the-jupyter-notebook-5297cacde6b)\n",
    "7. [A gallery of interesting Jupyter Notebooks](https://github.com/jupyter/jupyter/wiki/A-gallery-of-interesting-Jupyter-Notebooks)"
   ]
  }
 ],
 "metadata": {
  "kernelspec": {
   "display_name": "Python 3 (ipykernel)",
   "language": "python",
   "name": "python3"
  },
  "language_info": {
   "codemirror_mode": {
    "name": "ipython",
    "version": 3
   },
   "file_extension": ".py",
   "mimetype": "text/x-python",
   "name": "python",
   "nbconvert_exporter": "python",
   "pygments_lexer": "ipython3",
   "version": "3.9.14"
  }
 },
 "nbformat": 4,
 "nbformat_minor": 2
}
