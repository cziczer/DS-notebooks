{
 "cells": [
  {
   "cell_type": "markdown",
   "metadata": {},
   "source": [
    "# Predykcja płci po imieniu\n",
    "\n",
    "### Celem jest zrobienie prostej, ale już wartościowej predykcji.\n",
    "\n",
    "* [pandas](https://bit.ly/3sy04Jw) - biblioteka do wczytania i manipulacji danymi\n",
    "* [numpy](https://bit.ly/2Pe9A65) - biblioteka do pracy z wektorami/macierzami, pandas wewnątrz również używa `numpy`\n",
    "* [sklearn](https://bit.ly/3fzXLlF) - biblioteka, która zawiera konkretne implementacje algorytmów uczenia maszynowego (wymawia się *[saɪ-kit-lə:n]*, to jest skrócona wersja od `\"science-kit-learn\"`)"
   ]
  },
  {
   "cell_type": "code",
   "execution_count": 3,
   "metadata": {},
   "outputs": [],
   "source": [
    "import pandas as pd\n",
    "\n",
    "#modele (algorytmy)\n",
    "from sklearn.dummy import DummyClassifier           # <== Najprostszy możliwy model \n",
    "from sklearn.linear_model import LogisticRegression # <== Regresja logistyczna (liniowa)\n",
    "\n",
    "#metryka sukcesu\n",
    "from sklearn.metrics import accuracy_score"
   ]
  },
  {
   "cell_type": "markdown",
   "metadata": {},
   "source": [
    "**Uwaga!** nazwa modułu (*LogisticRegression*) wskazuje, że jest to regresja logistyczna, natomiast to jest podklasa regresji liniowej (czyli pod spodem jest zwykła regresja liniowa + dodatkowa funkcja na końcu)."
   ]
  },
  {
   "cell_type": "markdown",
   "metadata": {},
   "source": [
    "## Wczytujemy dane\n",
    "\n",
    "Dane są w formacie `.csv`, `pandas` umożliwia w jednym wierszu wczytanie danych w formacie `.csv`: `.read_csv()`. Po uruchomieniu tej linii `df` będzie zawierać dane wczytane z pliku w postaci tabelarycznej (czyli wiersze i kolumny)."
   ]
  },
  {
   "cell_type": "code",
   "execution_count": 4,
   "metadata": {},
   "outputs": [
    {
     "data": {
      "text/html": [
       "<div>\n",
       "<style scoped>\n",
       "    .dataframe tbody tr th:only-of-type {\n",
       "        vertical-align: middle;\n",
       "    }\n",
       "\n",
       "    .dataframe tbody tr th {\n",
       "        vertical-align: top;\n",
       "    }\n",
       "\n",
       "    .dataframe thead th {\n",
       "        text-align: right;\n",
       "    }\n",
       "</style>\n",
       "<table border=\"1\" class=\"dataframe\">\n",
       "  <thead>\n",
       "    <tr style=\"text-align: right;\">\n",
       "      <th></th>\n",
       "      <th>name</th>\n",
       "      <th>gender</th>\n",
       "    </tr>\n",
       "  </thead>\n",
       "  <tbody>\n",
       "    <tr>\n",
       "      <th>0</th>\n",
       "      <td>Abdon</td>\n",
       "      <td>m</td>\n",
       "    </tr>\n",
       "    <tr>\n",
       "      <th>1</th>\n",
       "      <td>Abel</td>\n",
       "      <td>m</td>\n",
       "    </tr>\n",
       "    <tr>\n",
       "      <th>2</th>\n",
       "      <td>Abercjusz</td>\n",
       "      <td>m</td>\n",
       "    </tr>\n",
       "    <tr>\n",
       "      <th>3</th>\n",
       "      <td>Abraham</td>\n",
       "      <td>m</td>\n",
       "    </tr>\n",
       "    <tr>\n",
       "      <th>4</th>\n",
       "      <td>Absalon</td>\n",
       "      <td>m</td>\n",
       "    </tr>\n",
       "  </tbody>\n",
       "</table>\n",
       "</div>"
      ],
      "text/plain": [
       "        name gender\n",
       "0      Abdon      m\n",
       "1       Abel      m\n",
       "2  Abercjusz      m\n",
       "3    Abraham      m\n",
       "4    Absalon      m"
      ]
     },
     "execution_count": 4,
     "metadata": {},
     "output_type": "execute_result"
    }
   ],
   "source": [
    "df = pd.read_csv(\"polish_names.csv\")\n",
    "df.head()"
   ]
  },
  {
   "cell_type": "markdown",
   "metadata": {},
   "source": [
    "## Sprawdzamy dane\n",
    "\n",
    "Na początek chcemy wiedzieć bardzo proste rzeczy:\n",
    "1. Ile jest wierszy (wszystkich obiektów)?\n",
    "2. Ile jest kolumn (cech obiektów)?\n",
    "3. Która zmienna jest zmienną docelową (ang. *target variable*)?\n",
    "4. Jaki problem jest do rozwiązania (klasyfikacja czy regresja)?\n",
    "5. W przypadku klasyfikacji, ile (dwie czy więcej) i jakie unikalne wartości ma zmienna docelowa?\n",
    "6. Jak wygląda rozkład unikalnych wartości zmiennej docelowej (czy jest mniej więcej po równo, czy jednak są bardzo popularne/rzadkie klasy)?\n",
    "7. Czy są brakujące dane?"
   ]
  },
  {
   "cell_type": "code",
   "execution_count": 5,
   "metadata": {},
   "outputs": [
    {
     "name": "stdout",
     "output_type": "stream",
     "text": [
      "<class 'pandas.core.frame.DataFrame'>\n",
      "RangeIndex: 1705 entries, 0 to 1704\n",
      "Data columns (total 2 columns):\n",
      " #   Column  Non-Null Count  Dtype \n",
      "---  ------  --------------  ----- \n",
      " 0   name    1705 non-null   object\n",
      " 1   gender  1705 non-null   object\n",
      "dtypes: object(2)\n",
      "memory usage: 26.8+ KB\n"
     ]
    }
   ],
   "source": [
    "df.info()"
   ]
  },
  {
   "cell_type": "markdown",
   "metadata": {},
   "source": [
    "- Druga linia \"mówi\": `1705 entries`, to jest ilość wierszy (obiektów).\n",
    "- Trzecia linia \"mówi\": `total 2 columns`, co oznacza, że mamy 2 kolumny (cechy).\n",
    "- Następnie mamy informację o każdej kolumnie i liczbę wartości (`non-null`). \n",
    "- Jeśli kolumna X ma mniej `non-null` wierszy niż całość, to oznacza, że dla tej cechy mamy brakujące wartości (ang. *missing data*), z którymi trzeba będzie sobie \"jakoś\" poradzić.\n",
    "- W naszym przypadku (na początku) wszystko jest bardzo proste. Mamy wszystkie wartości i tylko jedną cechę - **imię**. A druga kolumna to jest zmienna docelowa (eng. *target variable*), czyli czy imię jest **męskie** czy **żeńskie** (tylko dwie wartości, więc klasyfikacja binarna). \n",
    "- Ostatnia linia `memory usage` mówi, ile pamięci RAM zużywa, w tym przypadku bardzo mało (jedynie 26.7 KB)."
   ]
  },
  {
   "cell_type": "markdown",
   "metadata": {},
   "source": [
    "## Jak wyglądają dane?\n",
    "Zobacz 10 losowych wierszy."
   ]
  },
  {
   "cell_type": "code",
   "execution_count": 6,
   "metadata": {},
   "outputs": [
    {
     "data": {
      "text/html": [
       "<div>\n",
       "<style scoped>\n",
       "    .dataframe tbody tr th:only-of-type {\n",
       "        vertical-align: middle;\n",
       "    }\n",
       "\n",
       "    .dataframe tbody tr th {\n",
       "        vertical-align: top;\n",
       "    }\n",
       "\n",
       "    .dataframe thead th {\n",
       "        text-align: right;\n",
       "    }\n",
       "</style>\n",
       "<table border=\"1\" class=\"dataframe\">\n",
       "  <thead>\n",
       "    <tr style=\"text-align: right;\">\n",
       "      <th></th>\n",
       "      <th>name</th>\n",
       "      <th>gender</th>\n",
       "    </tr>\n",
       "  </thead>\n",
       "  <tbody>\n",
       "    <tr>\n",
       "      <th>447</th>\n",
       "      <td>Epifani</td>\n",
       "      <td>m</td>\n",
       "    </tr>\n",
       "    <tr>\n",
       "      <th>631</th>\n",
       "      <td>Iwo</td>\n",
       "      <td>m</td>\n",
       "    </tr>\n",
       "    <tr>\n",
       "      <th>948</th>\n",
       "      <td>Męcimir</td>\n",
       "      <td>m</td>\n",
       "    </tr>\n",
       "    <tr>\n",
       "      <th>1449</th>\n",
       "      <td>Więcerad</td>\n",
       "      <td>m</td>\n",
       "    </tr>\n",
       "    <tr>\n",
       "      <th>230</th>\n",
       "      <td>Bożeciecha</td>\n",
       "      <td>f</td>\n",
       "    </tr>\n",
       "    <tr>\n",
       "      <th>908</th>\n",
       "      <td>Marcelina</td>\n",
       "      <td>f</td>\n",
       "    </tr>\n",
       "    <tr>\n",
       "      <th>1602</th>\n",
       "      <td>Heliasz</td>\n",
       "      <td>m</td>\n",
       "    </tr>\n",
       "    <tr>\n",
       "      <th>1204</th>\n",
       "      <td>Rufina</td>\n",
       "      <td>f</td>\n",
       "    </tr>\n",
       "    <tr>\n",
       "      <th>1291</th>\n",
       "      <td>Stosław</td>\n",
       "      <td>m</td>\n",
       "    </tr>\n",
       "    <tr>\n",
       "      <th>516</th>\n",
       "      <td>Florentyna</td>\n",
       "      <td>f</td>\n",
       "    </tr>\n",
       "  </tbody>\n",
       "</table>\n",
       "</div>"
      ],
      "text/plain": [
       "            name gender\n",
       "447      Epifani      m\n",
       "631          Iwo      m\n",
       "948      Męcimir      m\n",
       "1449    Więcerad      m\n",
       "230   Bożeciecha      f\n",
       "908    Marcelina      f\n",
       "1602     Heliasz      m\n",
       "1204      Rufina      f\n",
       "1291     Stosław      m\n",
       "516   Florentyna      f"
      ]
     },
     "execution_count": 6,
     "metadata": {},
     "output_type": "execute_result"
    }
   ],
   "source": [
    "df.sample(10)"
   ]
  },
  {
   "cell_type": "markdown",
   "metadata": {},
   "source": [
    "- Kolumna `name` zawiera imię i czasem są dość ciekawe :).\n",
    "- Kolumna `gender` zawiera płeć, gdzie **`m`** oznacza imię męskie a **`f`** - imię żeńskie\n",
    "\n",
    "Sprawdźmy, jaki jest rozkład imion **męskich** i **żeńskich**."
   ]
  },
  {
   "cell_type": "code",
   "execution_count": 7,
   "metadata": {},
   "outputs": [
    {
     "data": {
      "text/plain": [
       "m    1033\n",
       "f     672\n",
       "Name: gender, dtype: int64"
      ]
     },
     "execution_count": 7,
     "metadata": {},
     "output_type": "execute_result"
    }
   ],
   "source": [
    "df['gender'].value_counts()"
   ]
  },
  {
   "cell_type": "markdown",
   "metadata": {},
   "source": [
    "- Męskich imion jest prawie 2 razy więcej (**1033** do **672**).\n",
    "- Dalej będzie widać, czy jest to dla nas jakiś problem (np. przez to, że imion żeńskich jest mniej, jakość modelu jest gorsza. Jeśli tak, to będziemy później myśleć, co z tym zrobić).\n",
    "\n",
    "Pamiętasz, że model oczekuje na reprezentację liczbową zamiast słowną? Teraz mamy transformować: `m => 1, f => 0`.\n",
    "\n",
    "Pomoże nam w tym funkcja [`map`](https://pandas.pydata.org/pandas-docs/stable/generated/pandas.Series.map.html). Żeby lepiej zrozumieć, jak działa funkcja .map(), zróbmy to w kilku krokach.\n",
    "\n",
    "Funkcja `transform_string_into_number` zwraca to samo, co dostała, to tak zwana funkcja [funkcja tożsamościowa](https://pl.wikipedia.org/wiki/Funkcja_to%C5%BCsamo%C5%9Bciowa). Robimy to po to, żeby poznać składnię."
   ]
  },
  {
   "cell_type": "code",
   "execution_count": 8,
   "metadata": {},
   "outputs": [
    {
     "data": {
      "text/plain": [
       "0    m\n",
       "1    m\n",
       "2    m\n",
       "3    m\n",
       "4    m\n",
       "Name: gender, dtype: object"
      ]
     },
     "execution_count": 8,
     "metadata": {},
     "output_type": "execute_result"
    }
   ],
   "source": [
    "def transform_string_into_number(string):\n",
    "    return string\n",
    "    \n",
    "df['gender'].head().map( transform_string_into_number )"
   ]
  },
  {
   "cell_type": "markdown",
   "metadata": {},
   "source": [
    "Teraz dodajmy logikę do funkcji `transform_string_into_number`"
   ]
  },
  {
   "cell_type": "code",
   "execution_count": 9,
   "metadata": {},
   "outputs": [
    {
     "data": {
      "text/plain": [
       "0    1\n",
       "1    1\n",
       "2    1\n",
       "3    1\n",
       "4    1\n",
       "Name: gender, dtype: int64"
      ]
     },
     "execution_count": 9,
     "metadata": {},
     "output_type": "execute_result"
    }
   ],
   "source": [
    "def transform_string_into_number(string):\n",
    "    return int(string == 'm')\n",
    "    \n",
    "df['gender'].head().map( transform_string_into_number )"
   ]
  },
  {
   "cell_type": "markdown",
   "metadata": {},
   "source": [
    "Użyjmy teraz anonimowej funkcji (*lambda*), żeby zmniejszyć ilość kodu. Wynik mapowania przypisujemy do nowej kolumny o nazwie `target`.\n",
    "\n",
    "*Zwróć uwagę*, że *lambda* nie ma słowa kluczowego `return`, bo to z definicji ma być jednowierszowa logika (wynik, który zostanie zwrócony)."
   ]
  },
  {
   "cell_type": "code",
   "execution_count": 10,
   "metadata": {},
   "outputs": [
    {
     "data": {
      "text/html": [
       "<div>\n",
       "<style scoped>\n",
       "    .dataframe tbody tr th:only-of-type {\n",
       "        vertical-align: middle;\n",
       "    }\n",
       "\n",
       "    .dataframe tbody tr th {\n",
       "        vertical-align: top;\n",
       "    }\n",
       "\n",
       "    .dataframe thead th {\n",
       "        text-align: right;\n",
       "    }\n",
       "</style>\n",
       "<table border=\"1\" class=\"dataframe\">\n",
       "  <thead>\n",
       "    <tr style=\"text-align: right;\">\n",
       "      <th></th>\n",
       "      <th>name</th>\n",
       "      <th>gender</th>\n",
       "      <th>target</th>\n",
       "    </tr>\n",
       "  </thead>\n",
       "  <tbody>\n",
       "    <tr>\n",
       "      <th>0</th>\n",
       "      <td>Abdon</td>\n",
       "      <td>m</td>\n",
       "      <td>1</td>\n",
       "    </tr>\n",
       "    <tr>\n",
       "      <th>1</th>\n",
       "      <td>Abel</td>\n",
       "      <td>m</td>\n",
       "      <td>1</td>\n",
       "    </tr>\n",
       "    <tr>\n",
       "      <th>2</th>\n",
       "      <td>Abercjusz</td>\n",
       "      <td>m</td>\n",
       "      <td>1</td>\n",
       "    </tr>\n",
       "    <tr>\n",
       "      <th>3</th>\n",
       "      <td>Abraham</td>\n",
       "      <td>m</td>\n",
       "      <td>1</td>\n",
       "    </tr>\n",
       "    <tr>\n",
       "      <th>4</th>\n",
       "      <td>Absalon</td>\n",
       "      <td>m</td>\n",
       "      <td>1</td>\n",
       "    </tr>\n",
       "    <tr>\n",
       "      <th>5</th>\n",
       "      <td>Achacjusz</td>\n",
       "      <td>m</td>\n",
       "      <td>1</td>\n",
       "    </tr>\n",
       "    <tr>\n",
       "      <th>6</th>\n",
       "      <td>Achacy</td>\n",
       "      <td>m</td>\n",
       "      <td>1</td>\n",
       "    </tr>\n",
       "    <tr>\n",
       "      <th>7</th>\n",
       "      <td>Achilles</td>\n",
       "      <td>m</td>\n",
       "      <td>1</td>\n",
       "    </tr>\n",
       "    <tr>\n",
       "      <th>8</th>\n",
       "      <td>Ada</td>\n",
       "      <td>f</td>\n",
       "      <td>0</td>\n",
       "    </tr>\n",
       "    <tr>\n",
       "      <th>9</th>\n",
       "      <td>Adalbert</td>\n",
       "      <td>m</td>\n",
       "      <td>1</td>\n",
       "    </tr>\n",
       "  </tbody>\n",
       "</table>\n",
       "</div>"
      ],
      "text/plain": [
       "        name gender  target\n",
       "0      Abdon      m       1\n",
       "1       Abel      m       1\n",
       "2  Abercjusz      m       1\n",
       "3    Abraham      m       1\n",
       "4    Absalon      m       1\n",
       "5  Achacjusz      m       1\n",
       "6     Achacy      m       1\n",
       "7   Achilles      m       1\n",
       "8        Ada      f       0\n",
       "9   Adalbert      m       1"
      ]
     },
     "execution_count": 10,
     "metadata": {},
     "output_type": "execute_result"
    }
   ],
   "source": [
    "df['target'] = df['gender'].map( lambda x: int(x == 'm') )\n",
    "df.head(10)"
   ]
  },
  {
   "cell_type": "markdown",
   "metadata": {},
   "source": [
    "## Feature engineering\n",
    "Dodajmy pierwszą cechę, np.będzie to długość imienia. Załóżmy, że ilość literek może wpłynąć na predykcję, czy imię jest męskie czy żeńskie.\n",
    "\n",
    "Dlaczego akurat tak? Od czegoś musimy zacząć i to jest jedna z prostszych cech, którą można wnioskować na podstawie słowa. Czy jest skuteczna? Właśnie to chcemy sprawdzić."
   ]
  },
  {
   "cell_type": "markdown",
   "metadata": {},
   "source": [
    "## Zadanie 1.3.1\n",
    "Twoim zadaniem jest stworzyć nową cechę (kolumnę), która będzie zawierać długość imienia (możesz stworzyć więcej niż jedną cechę, o ile masz na to pomysły).\n",
    "\n",
    "*Podpowiedź*: długość w Python mierzy się przy pomocy funkcji `len`, np. `len(\"Abc\")`."
   ]
  },
  {
   "cell_type": "code",
   "execution_count": 11,
   "metadata": {},
   "outputs": [
    {
     "data": {
      "text/html": [
       "<div>\n",
       "<style scoped>\n",
       "    .dataframe tbody tr th:only-of-type {\n",
       "        vertical-align: middle;\n",
       "    }\n",
       "\n",
       "    .dataframe tbody tr th {\n",
       "        vertical-align: top;\n",
       "    }\n",
       "\n",
       "    .dataframe thead th {\n",
       "        text-align: right;\n",
       "    }\n",
       "</style>\n",
       "<table border=\"1\" class=\"dataframe\">\n",
       "  <thead>\n",
       "    <tr style=\"text-align: right;\">\n",
       "      <th></th>\n",
       "      <th>name</th>\n",
       "      <th>gender</th>\n",
       "      <th>target</th>\n",
       "      <th>len_name</th>\n",
       "    </tr>\n",
       "  </thead>\n",
       "  <tbody>\n",
       "    <tr>\n",
       "      <th>1522</th>\n",
       "      <td>Wyszomir</td>\n",
       "      <td>m</td>\n",
       "      <td>1</td>\n",
       "      <td>8</td>\n",
       "    </tr>\n",
       "    <tr>\n",
       "      <th>1560</th>\n",
       "      <td>Żalina</td>\n",
       "      <td>f</td>\n",
       "      <td>0</td>\n",
       "      <td>6</td>\n",
       "    </tr>\n",
       "    <tr>\n",
       "      <th>819</th>\n",
       "      <td>Lesława</td>\n",
       "      <td>f</td>\n",
       "      <td>0</td>\n",
       "      <td>7</td>\n",
       "    </tr>\n",
       "    <tr>\n",
       "      <th>1588</th>\n",
       "      <td>Elizeusz</td>\n",
       "      <td>m</td>\n",
       "      <td>1</td>\n",
       "      <td>8</td>\n",
       "    </tr>\n",
       "    <tr>\n",
       "      <th>471</th>\n",
       "      <td>Eulalia</td>\n",
       "      <td>f</td>\n",
       "      <td>0</td>\n",
       "      <td>7</td>\n",
       "    </tr>\n",
       "    <tr>\n",
       "      <th>1408</th>\n",
       "      <td>Urban</td>\n",
       "      <td>m</td>\n",
       "      <td>1</td>\n",
       "      <td>5</td>\n",
       "    </tr>\n",
       "    <tr>\n",
       "      <th>1673</th>\n",
       "      <td>Nepomucen</td>\n",
       "      <td>m</td>\n",
       "      <td>1</td>\n",
       "      <td>9</td>\n",
       "    </tr>\n",
       "    <tr>\n",
       "      <th>1534</th>\n",
       "      <td>Zbyszko</td>\n",
       "      <td>m</td>\n",
       "      <td>1</td>\n",
       "      <td>7</td>\n",
       "    </tr>\n",
       "    <tr>\n",
       "      <th>1205</th>\n",
       "      <td>Rufus</td>\n",
       "      <td>m</td>\n",
       "      <td>1</td>\n",
       "      <td>5</td>\n",
       "    </tr>\n",
       "    <tr>\n",
       "      <th>805</th>\n",
       "      <td>Leon</td>\n",
       "      <td>m</td>\n",
       "      <td>1</td>\n",
       "      <td>4</td>\n",
       "    </tr>\n",
       "  </tbody>\n",
       "</table>\n",
       "</div>"
      ],
      "text/plain": [
       "           name gender  target  len_name\n",
       "1522   Wyszomir      m       1         8\n",
       "1560     Żalina      f       0         6\n",
       "819     Lesława      f       0         7\n",
       "1588   Elizeusz      m       1         8\n",
       "471     Eulalia      f       0         7\n",
       "1408      Urban      m       1         5\n",
       "1673  Nepomucen      m       1         9\n",
       "1534    Zbyszko      m       1         7\n",
       "1205      Rufus      m       1         5\n",
       "805        Leon      m       1         4"
      ]
     },
     "execution_count": 11,
     "metadata": {},
     "output_type": "execute_result"
    }
   ],
   "source": [
    "df['len_name'] = df['name'].map(lambda x: len(x))\n",
    "df.sample(10)"
   ]
  },
  {
   "cell_type": "markdown",
   "metadata": {},
   "source": [
    "## Pierwszy model\n",
    "- Zróbmy nasz pierwszy model (eng. *basic model*), który będzie dość prosty, wręcz \"głupi\", zresztą ma on taką nazwę `DummyClassifier`.\n",
    "- Bardzo polecam zaczynać od czegoś bardzo prostego, to pomoże zrozumieć, gdzie jesteś teraz i mieć pierwszy wynik, z którym możemy się porównywać (np. jeśli później spędzimy kilka tygodni robiąc coś bardziej zaawansowanego, a być może warto było zastosować tylko najprostszy model?)\n",
    "- Idea polega na tym, że model patrzy tylko na zmienną docelową, jak często występują te czy inne klasy (w naszym przypadku imię męskie lub żeńskie).\n",
    "\n",
    "\n",
    "## Przygotujmy dane\n",
    "Metoda odpowiedzialna do trenowania modelu ma nazwę: **`fit`** i oczekuje ona 2 argumentów:\n",
    "- Pierwszy argument to jest **macierz/tablica** cech (**Uwaga**: cecha może być jedna, ale to nadal ma być tablica, nie wektor!)\n",
    "- Drugi argument to **wektor** zmiennej docelowej (eng. *target variable*)\n",
    "\n",
    "\n",
    "**Podpowiedź**:\n",
    "- `[1, 2, 3, 4, 5]` => to jest wektor\n",
    "- `[[1], [2], [3], [4], [5]]` => to jest wektor wektorów, czyli macierz/tablica (w tym przypadku tylko z jedną cechę dla każdego obiektu)\n",
    "- `[[1, 10], [2, 20], [3, 30], [4, 40], [5, 50]]` => to jest wektor wektorów, czyli macierz (w tym przypadku dwie cechy dla każdego obiektu)"
   ]
  },
  {
   "cell_type": "markdown",
   "metadata": {},
   "source": [
    "Teraz przygotujmy `X`, `y` i wytrenujmy pierwszy model."
   ]
  },
  {
   "cell_type": "code",
   "execution_count": 12,
   "metadata": {},
   "outputs": [
    {
     "name": "stderr",
     "output_type": "stream",
     "text": [
      "C:\\Users\\Mateusz\\anaconda3\\lib\\site-packages\\sklearn\\dummy.py:131: FutureWarning: The default value of strategy will change from stratified to prior in 0.24.\n",
      "  warnings.warn(\"The default value of strategy will change from \"\n"
     ]
    }
   ],
   "source": [
    "X = df[ ['len_name'] ].values\n",
    "y = df['target'].values\n",
    "\n",
    "model = DummyClassifier()\n",
    "model.fit(X, y)\n",
    "y_pred = model.predict(X)"
   ]
  },
  {
   "cell_type": "markdown",
   "metadata": {},
   "source": [
    "Jak już masz tablicę **X** (cechy dla naszych obiektów) i wektor **y** (odpowiedzi dla obiektów lub zmienną docelową [eng. *target variable*]), to już możemy zacząć budować model.\n",
    "\n",
    "Ten proces składa się z prostych trzech kroków:\n",
    "1. Wybór modelu (algorytmu) i utworzenie instancji\n",
    "2. Trenowanie modelu (podając X i y) => **`fit(X_train, y_train)`**\n",
    "3. Predykcja modelu (w tym przypadku podajemy tylko cechy, bo odpowiedź zwraca model) => **`predict(X_test)`**\n",
    "\n",
    "*Swoją drogą*, zwykle odpowiedź z modelu jest przypisywana do zmiennej `y_pred` (oczywiście możesz tą zmienną nazwać, jak tylko chcesz), ale polecam trzymać się tej konwencji.\n",
    "\n",
    "Teraz możemy przypisać `y_pred` do nowej kolumny i zobaczyć, ile przydzielił imion męskich, a ile żeńskich."
   ]
  },
  {
   "cell_type": "code",
   "execution_count": 13,
   "metadata": {},
   "outputs": [
    {
     "data": {
      "text/plain": [
       "1    1048\n",
       "0     657\n",
       "Name: gender_pred, dtype: int64"
      ]
     },
     "execution_count": 13,
     "metadata": {},
     "output_type": "execute_result"
    }
   ],
   "source": [
    "df['gender_pred'] = y_pred\n",
    "df['gender_pred'].value_counts()"
   ]
  },
  {
   "cell_type": "markdown",
   "metadata": {},
   "source": [
    "Zobaczmy teraz, w ilu przypadkach model podał inną odpowiedź, niż była w rzeczywistości."
   ]
  },
  {
   "cell_type": "code",
   "execution_count": 14,
   "metadata": {},
   "outputs": [
    {
     "data": {
      "text/plain": [
       "(785, 5)"
      ]
     },
     "execution_count": 14,
     "metadata": {},
     "output_type": "execute_result"
    }
   ],
   "source": [
    "df[ df.target != y_pred ].shape # błędna odpowiedź"
   ]
  },
  {
   "cell_type": "markdown",
   "metadata": {},
   "source": [
    "Pamiętaj, że `1` oznacza imię męskie oraz `0` oznacza imię żeńskie.\n",
    "\n",
    "Zwróć uwagę, w ilu przypadkach (`df[ df.target != y_pred ].shape`) z 1705 model pomylił się. Model był o tyle \"mądry\", że jedynie uwzględnił ówczesny rozkład (przypomnę, że było 1033 vs 672) i to dlatego uznał, że imię męskie ma występować częściej. Oczywiście takie podejście jest błędne... ale już można wyciągnąć ciekawe wnioski o tym, jak łatwo zniekształcić rzeczywistość modelu podając pewne dane częściej lub rzadziej. \n",
    "\n",
    "*Swoją drogą* ciekawy [artykuł](https://medium.com/@angebassa/data-alone-isnt-ground-truth-9e733079dfd4) o tym, że dane nie są prawdą absolutną.\n",
    "\n",
    "Kolejnym krokiem jest zmierzenie jakości. Dla uproszczenia będziemy patrzeć na `accuracy`, czyli dokładność naszego modelu (w tej chwili opuścimy inne możliwe metryki, żeby uprościć początek)."
   ]
  },
  {
   "cell_type": "code",
   "execution_count": 15,
   "metadata": {},
   "outputs": [
    {
     "data": {
      "text/plain": [
       "0.5395894428152492"
      ]
     },
     "execution_count": 15,
     "metadata": {},
     "output_type": "execute_result"
    }
   ],
   "source": [
    "accuracy_score(y, y_pred)"
   ]
  },
  {
   "cell_type": "markdown",
   "metadata": {},
   "source": [
    "Mamy ok. 50%, wynik jest bardzo bliski do losowego (50% zawsze możemy osiągnąć, po prostu podrzucając monetę).\n",
    "\n",
    "**Uwaga!** `accuracy_score` sprawdza, jak wiele wartości dla wektora `y_pred` pokrywa się z wektorem `y` i pokazuje wynik w procentach. Więcej o metrykach będzie w następnym module."
   ]
  },
  {
   "cell_type": "markdown",
   "metadata": {},
   "source": [
    "### Losowość\n",
    "`DummyClassifier` ignoruje cechy i zwraca zawsze ten sam wynik, o ile ustawisz `random_state`. Jeśli nie ustawisz `random_state`, to wynik za każdym razem będzie się trochę różnił (możesz to sprawdzić)."
   ]
  },
  {
   "cell_type": "code",
   "execution_count": 16,
   "metadata": {},
   "outputs": [
    {
     "data": {
      "text/plain": [
       "0.5237536656891496"
      ]
     },
     "execution_count": 16,
     "metadata": {},
     "output_type": "execute_result"
    }
   ],
   "source": [
    "model = DummyClassifier(random_state=0)\n",
    "model.fit(X, y)\n",
    "y_pred = model.predict(X)\n",
    "accuracy_score(y, y_pred)"
   ]
  },
  {
   "cell_type": "markdown",
   "metadata": {},
   "source": [
    "## Liniowy model\n",
    "\n",
    "Użyjmy teraz modelu liniowego `LogisticRegression` (pamiętaj, że regresja logistyczna to jest regresja liniowa + na końcu funkcja binarna, która zwraca 0 lub 1).\n",
    "\n",
    "Jest wiele parametrów, które można sprecyzować dla modelu. W tym przypadku zdefiniujemy tylko `solver`, czyli algorytm, który jest wykorzystywany do obliczania modelu. Na tym etapie nie ma dużego znaczenia, który wybierzemy, więc użyjemy domyślnego dla `LogisticRegression`.\n",
    "\n",
    "*Swoją drogą* nazwa `LogisticRegression` jest dość myląca, bo sama nazwa wskazuje na robienie regresji, jednak w rzeczywistości robi się klasyfikację. Skąd taka nazwa? Jak to często bywa w życiu, są na to pewne powody historyczne :D.\n",
    "\n",
    "Może jeszcze raz powtórzę, na wszelki wypadek `LogisticRegression` to jest liniowy model dla **klasyfikacji** (nie regresji). Nazwa jest jaka jest, warto z zapamiętać :)."
   ]
  },
  {
   "cell_type": "code",
   "execution_count": 17,
   "metadata": {},
   "outputs": [
    {
     "data": {
      "text/plain": [
       "0.6058651026392962"
      ]
     },
     "execution_count": 17,
     "metadata": {},
     "output_type": "execute_result"
    }
   ],
   "source": [
    "model = LogisticRegression(solver='lbfgs')\n",
    "model.fit(X, y)\n",
    "y_pred = model.predict(X)\n",
    "accuracy_score(y, y_pred)"
   ]
  },
  {
   "cell_type": "markdown",
   "metadata": {},
   "source": [
    "Jak widać, jakość modelu już jest lepsza. Udało się nam osiągnąć **~61%** dokładności. Sprawdźmy, jak wygląda rozkład odpowiedzi."
   ]
  },
  {
   "cell_type": "code",
   "execution_count": 18,
   "metadata": {},
   "outputs": [
    {
     "data": {
      "text/plain": [
       "1    1705\n",
       "Name: gender_pred, dtype: int64"
      ]
     },
     "execution_count": 18,
     "metadata": {},
     "output_type": "execute_result"
    }
   ],
   "source": [
    "df['gender_pred'] = y_pred\n",
    "df['gender_pred'].value_counts()"
   ]
  },
  {
   "cell_type": "markdown",
   "metadata": {},
   "source": [
    "To oznacza, że model zawsze zwrócił `1` (każde imię to imię męskie), bo akurat ta klasa była bardziej popularna. Zróbmy eksperyment, jeśli manualnie przypiszesz zawsze odpowiedź `1`,\n",
    "to dostaniesz ten sam wynik."
   ]
  },
  {
   "cell_type": "code",
   "execution_count": 19,
   "metadata": {},
   "outputs": [
    {
     "data": {
      "text/plain": [
       "0.6058651026392962"
      ]
     },
     "execution_count": 19,
     "metadata": {},
     "output_type": "execute_result"
    }
   ],
   "source": [
    "y_pred = [1]*X.shape[0] #ilość jedynek powinna zgadzać się z ilością wierszy w macierzy X\n",
    "accuracy_score(y, y_pred)"
   ]
  },
  {
   "cell_type": "markdown",
   "metadata": {},
   "source": [
    "Dlaczego tak się dzieje?\n",
    "\n",
    "Na obecnych cechach model liniowy nie potrafił się lepiej nauczyć i uznał, że takie podejście jest najbardziej rozsądne. \n",
    "\n",
    "Dlaczego `accuracy` jest ok. 61% przy tak głupim podejściu? To wynika ze słabości tej metryki, która bardzo zależy od rozkładu (więcej o tym w drugim module).\n",
    "\n",
    "Zaraz dodamy kolejną cechę, ale już można zauważyć, że poprzednia komórka składająca się z 4 linijek kodu będzie się powtarzać. To oznacza, że warto zrobić osobną funkcję, żeby ułatwić sobie życie w przyszłości. Niech to będzie funkcja o nazwie: `train_and_predict_model`."
   ]
  },
  {
   "cell_type": "code",
   "execution_count": 20,
   "metadata": {},
   "outputs": [],
   "source": [
    "def train_and_predict_model(X, y, model, success_metric=accuracy_score):\n",
    "    model.fit(X, y)\n",
    "    y_pred = model.predict(X)\n",
    "    \n",
    "    print(\"Distribution:\")\n",
    "    print( pd.Series(y_pred).value_counts() )\n",
    "    \n",
    "    return success_metric(y, y_pred)"
   ]
  },
  {
   "cell_type": "markdown",
   "metadata": {},
   "source": [
    "**Uwaga!** \n",
    "Możemy sobie wywołać `success_metric(y, y_pred)`, co przy wcześniejszej deklaracji `success_metric=accuracy_score` oznacza, że `accuracy_score` dostanie te same parametry, które przekazaliśmy do `success_metric`. Python umożliwia przekazywanie parametrów domyślnych do funkcji w taki sposób (co nie jest możliwe np. w takich językach jak Java czy PHP, ale jest normalne dla wszystkich języków funkcyjnych)."
   ]
  },
  {
   "cell_type": "markdown",
   "metadata": {},
   "source": [
    "## Cechy\n",
    "Popracujemy nad samogłoskami. Być może ich liczba i kolejność wpływa na to, czy jest to imię męskie czy żeńskie."
   ]
  },
  {
   "cell_type": "code",
   "execution_count": 21,
   "metadata": {},
   "outputs": [
    {
     "name": "stdout",
     "output_type": "stream",
     "text": [
      "Distribution:\n",
      "1    1082\n",
      "0     623\n",
      "dtype: int64\n"
     ]
    },
    {
     "data": {
      "text/plain": [
       "0.7143695014662756"
      ]
     },
     "execution_count": 21,
     "metadata": {},
     "output_type": "execute_result"
    }
   ],
   "source": [
    "vowels = ['a', 'ą', 'e', 'ę', 'i', 'o', 'u', 'y']\n",
    "\n",
    "def how_many_vowels(name):\n",
    "    count = sum( map(lambda x: int(x in vowels), name.lower()) )\n",
    "    \n",
    "    return count\n",
    "\n",
    "#how_many_vowels('Jana')\n",
    "\n",
    "df['count_vowels'] = df['name'].map(how_many_vowels)\n",
    "train_and_predict_model(df[['len_name', 'count_vowels'] ], y, LogisticRegression(solver='lbfgs'))"
   ]
  },
  {
   "cell_type": "markdown",
   "metadata": {},
   "source": [
    "Udało się polepszyć wynik o 10 punktów procentowych! Bardzo dobrze,  próbujmy dalej. Nowa cecha będzie sprawdzać, czy pierwsza litera jest samogłoską czy nie.\n",
    "\n",
    "Zwróć uwagę, że rozkład odpowiedzi już jest w miarę sensowny **1082** vs **623** (nie tylko same \"1\", czyli imiona męskie)."
   ]
  },
  {
   "cell_type": "code",
   "execution_count": 22,
   "metadata": {},
   "outputs": [
    {
     "name": "stdout",
     "output_type": "stream",
     "text": [
      "Distribution:\n",
      "1    1705\n",
      "dtype: int64\n"
     ]
    },
    {
     "data": {
      "text/plain": [
       "0.6058651026392962"
      ]
     },
     "execution_count": 22,
     "metadata": {},
     "output_type": "execute_result"
    }
   ],
   "source": [
    "def first_is_vowel(name):\n",
    "    return name.lower()[0] in vowels\n",
    "\n",
    "#first_is_vowel('Ada')\n",
    "\n",
    "df['first_is_vowel'] = df['name'].map(first_is_vowel)\n",
    "\n",
    "train_and_predict_model(df[['len_name', 'first_is_vowel'] ], y, LogisticRegression(solver='lbfgs'))"
   ]
  },
  {
   "cell_type": "markdown",
   "metadata": {},
   "source": [
    "Jak widać, ta cecha w ogóle nie wpłynęła na jakość modelu... To jest normalnie. Tak naprawdę dość często będziemy próbować różnych pomysłów i większość z nich może nie działać. Trzeba być na to przygotowanym i żyć wg zasady: `Fail fast, learn faster`. \n",
    "\n",
    "Zwróć uwagę, że tym razem model zwrócił tylko 1 (imię męskie), czyli nie potrafił \"wymyślić\" nic lepszego. To oznacza, że cecha \"czy pierwsza litera to samogłoska?\" jest bezużyteczna (dla modelu liniowego).\n",
    "\n",
    "Idziemy dalej. Sprawdźmy teraz razem trzy cechy: długość imienia, ilość samogłosek oraz czy pierwsza litera to samogłoska."
   ]
  },
  {
   "cell_type": "code",
   "execution_count": 23,
   "metadata": {},
   "outputs": [
    {
     "name": "stdout",
     "output_type": "stream",
     "text": [
      "Distribution:\n",
      "1    1106\n",
      "0     599\n",
      "dtype: int64\n"
     ]
    },
    {
     "data": {
      "text/plain": [
       "0.7296187683284457"
      ]
     },
     "execution_count": 23,
     "metadata": {},
     "output_type": "execute_result"
    }
   ],
   "source": [
    "X = df[['len_name', 'count_vowels', 'first_is_vowel'] ]\n",
    "train_and_predict_model(X, y, LogisticRegression(solver='lbfgs'))"
   ]
  },
  {
   "cell_type": "markdown",
   "metadata": {},
   "source": [
    "Udało się ulepszyć model o kolejne **1.5%** (**0.714** vs **0.729**). Bardzo dobrze, idziemy dalej.\n",
    "\n",
    "Tylko najpierw poznajmy lepiej funkcję `.factorize()`."
   ]
  },
  {
   "cell_type": "code",
   "execution_count": 24,
   "metadata": {},
   "outputs": [
    {
     "data": {
      "text/plain": [
       "(array([0, 1, 2, 0], dtype=int64),\n",
       " array(['blue', 'green', 'yellow'], dtype=object))"
      ]
     },
     "execution_count": 24,
     "metadata": {},
     "output_type": "execute_result"
    }
   ],
   "source": [
    "pd.factorize(['blue', 'green', 'yellow', 'blue'])"
   ]
  },
  {
   "cell_type": "markdown",
   "metadata": {},
   "source": [
    "Jak widzisz, `pd.factorize()` zwróciła tuple z dwoma wynikami.\n",
    "- pierwsze to są unikalne ID `array([0, 1, 2, 0])`\n",
    "- drugi to etykietki do ID'ków, zobacz `blue=0` lub `yellow=2` (czyli `yellow`  ma indeks dwa w tablice `['blue', 'green', 'yellow']`)\n",
    "\n",
    "W naszym przypadku będą potrzebne przekazać ID'ki dla modelu, czyli potrzebujemy tylko pierwszą część wyniku:\n",
    "`pd.factorize(['blue', 'green', 'yellow', 'blue'])[0]`. Zwróć uwagę, że na końcu pojawiło się `[0]`."
   ]
  },
  {
   "cell_type": "code",
   "execution_count": 25,
   "metadata": {},
   "outputs": [
    {
     "data": {
      "text/plain": [
       "array([0, 1, 2, 0], dtype=int64)"
      ]
     },
     "execution_count": 25,
     "metadata": {},
     "output_type": "execute_result"
    }
   ],
   "source": [
    "pd.factorize(['blue', 'green', 'yellow', 'blue'])[0]"
   ]
  },
  {
   "cell_type": "markdown",
   "metadata": {},
   "source": [
    "Funkcję `.factorize()` możemy zrobić w taki sposób: `pd.factorize()` lub w taki `df['new_column'].factorize()` wynik działania będzie identyczny, ale druga wersja czasem jest wygodniejsza w pisaniu.\n",
    "\n",
    "Wróćmy do naszych cech, czyli przypiszmy każdej literce unikalny ID."
   ]
  },
  {
   "cell_type": "code",
   "execution_count": 26,
   "metadata": {},
   "outputs": [
    {
     "name": "stdout",
     "output_type": "stream",
     "text": [
      "Distribution:\n",
      "1    1106\n",
      "0     599\n",
      "dtype: int64\n"
     ]
    },
    {
     "data": {
      "text/plain": [
       "0.7296187683284457"
      ]
     },
     "execution_count": 26,
     "metadata": {},
     "output_type": "execute_result"
    }
   ],
   "source": [
    "df['first_letter'] = df['name'].map(lambda x: x.lower()[0])\n",
    "df['first_letter_cnt'] = df['first_letter'].factorize()[0]\n",
    "\n",
    "X = df[['len_name', 'count_vowels', 'first_is_vowel', 'first_letter_cnt'] ]\n",
    "train_and_predict_model(X, y, LogisticRegression(solver='lbfgs'))"
   ]
  },
  {
   "cell_type": "markdown",
   "metadata": {},
   "source": [
    "## Kolejne pomysły na nowe cechy\n",
    "1. Pobierzmy wszystkie samogłoski (ang. *vowels*), zakładając, że to może mieć wpływ. Na przykład **Sławomir** ma trzy samogłoski w tej kolejności: **aoi**, natomiast **Patrycja** również ma trzy samogłoski, ale inna kombinacja: **aya**. Dla każdej kombinacji pojawi się unikalny ID.\n",
    "2. Zróbmy podobnie, tylko tym razem spółgłoski (ang. *consonants*)."
   ]
  },
  {
   "cell_type": "code",
   "execution_count": 27,
   "metadata": {},
   "outputs": [
    {
     "name": "stdout",
     "output_type": "stream",
     "text": [
      "Distribution:\n",
      "1    1129\n",
      "0     576\n",
      "dtype: int64\n"
     ]
    },
    {
     "data": {
      "text/plain": [
       "0.73841642228739"
      ]
     },
     "execution_count": 27,
     "metadata": {},
     "output_type": "execute_result"
    }
   ],
   "source": [
    "def get_all_vowels(name):\n",
    "    all_vowels = [letter for letter in name.lower() if letter in vowels]\n",
    "    \n",
    "    return ''.join(all_vowels)\n",
    "    \n",
    "#get_all_vowels('Sławomir')\n",
    "\n",
    "df['all_vowels'] = df['name'].map(get_all_vowels)\n",
    "df['all_vowels_cnt'] = pd.factorize(df['all_vowels'])[0]\n",
    "\n",
    "\n",
    "X = df[['len_name', 'count_vowels', 'first_is_vowel', 'first_letter_cnt', 'all_vowels_cnt'] ]\n",
    "train_and_predict_model(X, y, LogisticRegression(solver='lbfgs'))"
   ]
  },
  {
   "cell_type": "code",
   "execution_count": 28,
   "metadata": {},
   "outputs": [
    {
     "name": "stdout",
     "output_type": "stream",
     "text": [
      "Distribution:\n",
      "1    1111\n",
      "0     594\n",
      "dtype: int64\n"
     ]
    },
    {
     "data": {
      "text/plain": [
       "0.7313782991202346"
      ]
     },
     "execution_count": 28,
     "metadata": {},
     "output_type": "execute_result"
    }
   ],
   "source": [
    "def get_all_consonants(name):\n",
    "    all_consonants = [letter for letter in name.lower() if letter not in vowels]\n",
    "    \n",
    "    return ''.join(all_consonants)\n",
    "    \n",
    "#get_all_consonants('Sławomir')\n",
    "\n",
    "df['all_consonants'] = df['name'].map(get_all_consonants)\n",
    "df['all_consonants_cnt'] = pd.factorize(df['all_consonants'])[0]\n",
    "\n",
    "X = df[['len_name', 'count_vowels', 'first_is_vowel', 'first_letter_cnt', 'all_consonants_cnt'] ]\n",
    "train_and_predict_model(X, y, LogisticRegression(solver='lbfgs', max_iter=200))"
   ]
  },
  {
   "cell_type": "markdown",
   "metadata": {},
   "source": [
    "Trochę lepiej (zwłaszcza pierwszy pomysł z samogłoskami): **0.729** vs **0.738**. Spółgłoski trochę poprawiły model, ale mniej: **0.729** vs **0.731**. To raczej ma sens, prawda? Samogłoski mają większy wpływ na to, czy imię jest męskie czy żeńskie. \n",
    "\n",
    "Kontynuując myśl. Kolejna cecha, która może mieć wpływ, to jaka jest ostatnia litera. Jeśli jest to samogłoska, to raczej jest to imię żeńskie, na przykład: **Kamila** i **Kamil**, **Adriana** i **Adrian** czy **Jana** i **Jan**. Sprawdźmy to."
   ]
  },
  {
   "cell_type": "code",
   "execution_count": 29,
   "metadata": {},
   "outputs": [
    {
     "name": "stdout",
     "output_type": "stream",
     "text": [
      "Distribution:\n",
      "1    964\n",
      "0    741\n",
      "dtype: int64\n"
     ]
    },
    {
     "data": {
      "text/plain": [
       "0.9524926686217009"
      ]
     },
     "execution_count": 29,
     "metadata": {},
     "output_type": "execute_result"
    }
   ],
   "source": [
    "def last_is_vowel(name):\n",
    "    return name.lower()[-1] in vowels\n",
    "\n",
    "#last_is_vowel('Ada')\n",
    "\n",
    "df['last_is_vowel'] = df['name'].map(last_is_vowel)\n",
    "\n",
    "X = df[['last_is_vowel'] ]\n",
    "train_and_predict_model(X, y, LogisticRegression(solver='lbfgs', max_iter=200))"
   ]
  },
  {
   "cell_type": "markdown",
   "metadata": {},
   "source": [
    "Wow! Czy to widzisz? Tylko jedna cecha potrafi od razu dać tak dobry wynik - **95%**. To dlatego proces `feature engineering` jest takim ważnym procesem. \n",
    "\n",
    "Musisz się przyzwyczaić, że najpierw trzeba się namęczyć, ale jest szansa, że właśnie dzięki metodzie prób i błędów wymyślisz bardzo sensowną cechę.\n",
    "\n",
    "*Swoją drogą*, czy możesz przypomnieć sobie męskie imię, które kończy się na \"a\"?"
   ]
  },
  {
   "cell_type": "code",
   "execution_count": 30,
   "metadata": {},
   "outputs": [
    {
     "name": "stdout",
     "output_type": "stream",
     "text": [
      "Distribution:\n",
      "1    964\n",
      "0    741\n",
      "dtype: int64\n"
     ]
    },
    {
     "data": {
      "text/plain": [
       "0.9524926686217009"
      ]
     },
     "execution_count": 30,
     "metadata": {},
     "output_type": "execute_result"
    }
   ],
   "source": [
    "feats = ['last_is_vowel', 'len_name', 'count_vowels', 'first_is_vowel', 'all_vowels_cnt', 'all_consonants_cnt']\n",
    "X = df[ feats ]\n",
    "train_and_predict_model(X, y, LogisticRegression(solver='lbfgs', max_iter=200))"
   ]
  },
  {
   "cell_type": "markdown",
   "metadata": {},
   "source": [
    "Pochwal się na Slacku w kanale #pml7_module1, że udało Ci się przejść przez lekcję 1.3 i wytrenować pierwszy model, śmiało załącz screen z wynikiem :) "
   ]
  },
  {
   "cell_type": "markdown",
   "metadata": {},
   "source": [
    "### Ciekawostka\n",
    "Sprawdźmy, jak często imię męskie kończy się na \"a\" i imię żeńskie nie kończy się na literkę \"a\"."
   ]
  },
  {
   "cell_type": "code",
   "execution_count": 31,
   "metadata": {},
   "outputs": [
    {
     "data": {
      "text/plain": [
       "Index(['name', 'gender', 'target', 'len_name', 'gender_pred', 'count_vowels',\n",
       "       'first_is_vowel', 'first_letter', 'first_letter_cnt', 'all_vowels',\n",
       "       'all_vowels_cnt', 'all_consonants', 'all_consonants_cnt',\n",
       "       'last_is_vowel'],\n",
       "      dtype='object')"
      ]
     },
     "execution_count": 31,
     "metadata": {},
     "output_type": "execute_result"
    }
   ],
   "source": [
    "df.columns"
   ]
  },
  {
   "cell_type": "code",
   "execution_count": 32,
   "metadata": {},
   "outputs": [
    {
     "data": {
      "text/html": [
       "<div>\n",
       "<style scoped>\n",
       "    .dataframe tbody tr th:only-of-type {\n",
       "        vertical-align: middle;\n",
       "    }\n",
       "\n",
       "    .dataframe tbody tr th {\n",
       "        vertical-align: top;\n",
       "    }\n",
       "\n",
       "    .dataframe thead th {\n",
       "        text-align: right;\n",
       "    }\n",
       "</style>\n",
       "<table border=\"1\" class=\"dataframe\">\n",
       "  <thead>\n",
       "    <tr style=\"text-align: right;\">\n",
       "      <th></th>\n",
       "      <th>name</th>\n",
       "      <th>gender</th>\n",
       "      <th>target</th>\n",
       "      <th>len_name</th>\n",
       "      <th>gender_pred</th>\n",
       "      <th>count_vowels</th>\n",
       "      <th>first_is_vowel</th>\n",
       "      <th>first_letter</th>\n",
       "      <th>first_letter_cnt</th>\n",
       "      <th>all_vowels</th>\n",
       "      <th>all_vowels_cnt</th>\n",
       "      <th>all_consonants</th>\n",
       "      <th>all_consonants_cnt</th>\n",
       "      <th>last_is_vowel</th>\n",
       "      <th>lst_letter_a</th>\n",
       "    </tr>\n",
       "  </thead>\n",
       "  <tbody>\n",
       "    <tr>\n",
       "      <th>142</th>\n",
       "      <td>Barnaba</td>\n",
       "      <td>m</td>\n",
       "      <td>1</td>\n",
       "      <td>7</td>\n",
       "      <td>1</td>\n",
       "      <td>3</td>\n",
       "      <td>False</td>\n",
       "      <td>b</td>\n",
       "      <td>1</td>\n",
       "      <td>aaa</td>\n",
       "      <td>3</td>\n",
       "      <td>brnb</td>\n",
       "      <td>116</td>\n",
       "      <td>True</td>\n",
       "      <td>True</td>\n",
       "    </tr>\n",
       "    <tr>\n",
       "      <th>219</th>\n",
       "      <td>Bonawentura</td>\n",
       "      <td>m</td>\n",
       "      <td>1</td>\n",
       "      <td>11</td>\n",
       "      <td>1</td>\n",
       "      <td>5</td>\n",
       "      <td>False</td>\n",
       "      <td>b</td>\n",
       "      <td>1</td>\n",
       "      <td>oaeua</td>\n",
       "      <td>102</td>\n",
       "      <td>bnwntr</td>\n",
       "      <td>178</td>\n",
       "      <td>True</td>\n",
       "      <td>True</td>\n",
       "    </tr>\n",
       "    <tr>\n",
       "      <th>765</th>\n",
       "      <td>Kosma</td>\n",
       "      <td>m</td>\n",
       "      <td>1</td>\n",
       "      <td>5</td>\n",
       "      <td>1</td>\n",
       "      <td>2</td>\n",
       "      <td>False</td>\n",
       "      <td>k</td>\n",
       "      <td>9</td>\n",
       "      <td>oa</td>\n",
       "      <td>86</td>\n",
       "      <td>ksm</td>\n",
       "      <td>598</td>\n",
       "      <td>True</td>\n",
       "      <td>True</td>\n",
       "    </tr>\n",
       "    <tr>\n",
       "      <th>1574</th>\n",
       "      <td>Batszeba</td>\n",
       "      <td>m</td>\n",
       "      <td>1</td>\n",
       "      <td>8</td>\n",
       "      <td>1</td>\n",
       "      <td>3</td>\n",
       "      <td>False</td>\n",
       "      <td>b</td>\n",
       "      <td>1</td>\n",
       "      <td>aea</td>\n",
       "      <td>11</td>\n",
       "      <td>btszb</td>\n",
       "      <td>1201</td>\n",
       "      <td>True</td>\n",
       "      <td>True</td>\n",
       "    </tr>\n",
       "  </tbody>\n",
       "</table>\n",
       "</div>"
      ],
      "text/plain": [
       "             name gender  target  len_name  gender_pred  count_vowels  \\\n",
       "142       Barnaba      m       1         7            1             3   \n",
       "219   Bonawentura      m       1        11            1             5   \n",
       "765         Kosma      m       1         5            1             2   \n",
       "1574     Batszeba      m       1         8            1             3   \n",
       "\n",
       "      first_is_vowel first_letter  first_letter_cnt all_vowels  \\\n",
       "142            False            b                 1        aaa   \n",
       "219            False            b                 1      oaeua   \n",
       "765            False            k                 9         oa   \n",
       "1574           False            b                 1        aea   \n",
       "\n",
       "      all_vowels_cnt all_consonants  all_consonants_cnt  last_is_vowel  \\\n",
       "142                3           brnb                 116           True   \n",
       "219              102         bnwntr                 178           True   \n",
       "765               86            ksm                 598           True   \n",
       "1574              11          btszb                1201           True   \n",
       "\n",
       "      lst_letter_a  \n",
       "142           True  \n",
       "219           True  \n",
       "765           True  \n",
       "1574          True  "
      ]
     },
     "execution_count": 32,
     "metadata": {},
     "output_type": "execute_result"
    }
   ],
   "source": [
    "df['lst_letter_a'] = df.name.map(lambda x: x[-1] == 'a')\n",
    "\n",
    "df[ (df.gender == 'm') & df.lst_letter_a ]"
   ]
  },
  {
   "cell_type": "markdown",
   "metadata": {},
   "source": [
    "Mamy 4 męskie imiona, które kończą się na literkę \"a\". \n",
    "\n",
    "*Swoją drogą*, jak pytałem ludzi (chociażby podczas [DW Tour](https://bit.ly/3sArJJC)) czy imię Batszeba jest męskie czy żeńskie, to głosy podzieliły się mniej więcej pół na pół :). Jaka jest Twoja opinia? Czy Batszeba to imię męskie czy żeńskie i dlaczego tak uważasz? \n",
    "\n",
    "Sprawdźmy, ile żeńskich imion nie kończy się na literkę \"a\".\n",
    "\n",
    "*Zwróć uwagę*, że znak tyldy `~` neguję znak, to oznacza, że `(~df.lst_letter_a)` jest tym samym co `(False == df.lst_letter_a)`"
   ]
  },
  {
   "cell_type": "code",
   "execution_count": 33,
   "metadata": {},
   "outputs": [
    {
     "data": {
      "text/html": [
       "<div>\n",
       "<style scoped>\n",
       "    .dataframe tbody tr th:only-of-type {\n",
       "        vertical-align: middle;\n",
       "    }\n",
       "\n",
       "    .dataframe tbody tr th {\n",
       "        vertical-align: top;\n",
       "    }\n",
       "\n",
       "    .dataframe thead th {\n",
       "        text-align: right;\n",
       "    }\n",
       "</style>\n",
       "<table border=\"1\" class=\"dataframe\">\n",
       "  <thead>\n",
       "    <tr style=\"text-align: right;\">\n",
       "      <th></th>\n",
       "      <th>name</th>\n",
       "      <th>gender</th>\n",
       "      <th>target</th>\n",
       "      <th>len_name</th>\n",
       "      <th>gender_pred</th>\n",
       "      <th>count_vowels</th>\n",
       "      <th>first_is_vowel</th>\n",
       "      <th>first_letter</th>\n",
       "      <th>first_letter_cnt</th>\n",
       "      <th>all_vowels</th>\n",
       "      <th>all_vowels_cnt</th>\n",
       "      <th>all_consonants</th>\n",
       "      <th>all_consonants_cnt</th>\n",
       "      <th>last_is_vowel</th>\n",
       "      <th>lst_letter_a</th>\n",
       "    </tr>\n",
       "  </thead>\n",
       "  <tbody>\n",
       "    <tr>\n",
       "      <th>156</th>\n",
       "      <td>Beatrice</td>\n",
       "      <td>f</td>\n",
       "      <td>0</td>\n",
       "      <td>8</td>\n",
       "      <td>1</td>\n",
       "      <td>4</td>\n",
       "      <td>False</td>\n",
       "      <td>b</td>\n",
       "      <td>1</td>\n",
       "      <td>eaie</td>\n",
       "      <td>67</td>\n",
       "      <td>btrc</td>\n",
       "      <td>129</td>\n",
       "      <td>True</td>\n",
       "      <td>False</td>\n",
       "    </tr>\n",
       "    <tr>\n",
       "      <th>157</th>\n",
       "      <td>Beatrycze</td>\n",
       "      <td>f</td>\n",
       "      <td>0</td>\n",
       "      <td>9</td>\n",
       "      <td>1</td>\n",
       "      <td>4</td>\n",
       "      <td>False</td>\n",
       "      <td>b</td>\n",
       "      <td>1</td>\n",
       "      <td>eaye</td>\n",
       "      <td>68</td>\n",
       "      <td>btrcz</td>\n",
       "      <td>130</td>\n",
       "      <td>True</td>\n",
       "      <td>False</td>\n",
       "    </tr>\n",
       "    <tr>\n",
       "      <th>171</th>\n",
       "      <td>Berenike</td>\n",
       "      <td>f</td>\n",
       "      <td>0</td>\n",
       "      <td>8</td>\n",
       "      <td>1</td>\n",
       "      <td>4</td>\n",
       "      <td>False</td>\n",
       "      <td>b</td>\n",
       "      <td>1</td>\n",
       "      <td>eeie</td>\n",
       "      <td>78</td>\n",
       "      <td>brnk</td>\n",
       "      <td>142</td>\n",
       "      <td>True</td>\n",
       "      <td>False</td>\n",
       "    </tr>\n",
       "    <tr>\n",
       "      <th>257</th>\n",
       "      <td>Carmen</td>\n",
       "      <td>f</td>\n",
       "      <td>0</td>\n",
       "      <td>6</td>\n",
       "      <td>1</td>\n",
       "      <td>2</td>\n",
       "      <td>False</td>\n",
       "      <td>c</td>\n",
       "      <td>2</td>\n",
       "      <td>ae</td>\n",
       "      <td>1</td>\n",
       "      <td>crmn</td>\n",
       "      <td>207</td>\n",
       "      <td>False</td>\n",
       "      <td>False</td>\n",
       "    </tr>\n",
       "    <tr>\n",
       "      <th>611</th>\n",
       "      <td>Inez</td>\n",
       "      <td>f</td>\n",
       "      <td>0</td>\n",
       "      <td>4</td>\n",
       "      <td>1</td>\n",
       "      <td>2</td>\n",
       "      <td>True</td>\n",
       "      <td>i</td>\n",
       "      <td>7</td>\n",
       "      <td>ie</td>\n",
       "      <td>226</td>\n",
       "      <td>nz</td>\n",
       "      <td>478</td>\n",
       "      <td>False</td>\n",
       "      <td>False</td>\n",
       "    </tr>\n",
       "    <tr>\n",
       "      <th>1215</th>\n",
       "      <td>Salome</td>\n",
       "      <td>f</td>\n",
       "      <td>0</td>\n",
       "      <td>6</td>\n",
       "      <td>1</td>\n",
       "      <td>3</td>\n",
       "      <td>False</td>\n",
       "      <td>s</td>\n",
       "      <td>17</td>\n",
       "      <td>aoe</td>\n",
       "      <td>157</td>\n",
       "      <td>slm</td>\n",
       "      <td>926</td>\n",
       "      <td>True</td>\n",
       "      <td>False</td>\n",
       "    </tr>\n",
       "    <tr>\n",
       "      <th>1570</th>\n",
       "      <td>Abigail</td>\n",
       "      <td>f</td>\n",
       "      <td>0</td>\n",
       "      <td>7</td>\n",
       "      <td>1</td>\n",
       "      <td>4</td>\n",
       "      <td>True</td>\n",
       "      <td>a</td>\n",
       "      <td>0</td>\n",
       "      <td>aiai</td>\n",
       "      <td>413</td>\n",
       "      <td>bgl</td>\n",
       "      <td>1197</td>\n",
       "      <td>False</td>\n",
       "      <td>False</td>\n",
       "    </tr>\n",
       "    <tr>\n",
       "      <th>1639</th>\n",
       "      <td>Ingrid</td>\n",
       "      <td>f</td>\n",
       "      <td>0</td>\n",
       "      <td>6</td>\n",
       "      <td>1</td>\n",
       "      <td>2</td>\n",
       "      <td>True</td>\n",
       "      <td>i</td>\n",
       "      <td>7</td>\n",
       "      <td>ii</td>\n",
       "      <td>228</td>\n",
       "      <td>ngrd</td>\n",
       "      <td>481</td>\n",
       "      <td>False</td>\n",
       "      <td>False</td>\n",
       "    </tr>\n",
       "    <tr>\n",
       "      <th>1663</th>\n",
       "      <td>Margot</td>\n",
       "      <td>f</td>\n",
       "      <td>0</td>\n",
       "      <td>6</td>\n",
       "      <td>1</td>\n",
       "      <td>2</td>\n",
       "      <td>False</td>\n",
       "      <td>m</td>\n",
       "      <td>12</td>\n",
       "      <td>ao</td>\n",
       "      <td>0</td>\n",
       "      <td>mrgt</td>\n",
       "      <td>1263</td>\n",
       "      <td>False</td>\n",
       "      <td>False</td>\n",
       "    </tr>\n",
       "    <tr>\n",
       "      <th>1666</th>\n",
       "      <td>Miriam</td>\n",
       "      <td>f</td>\n",
       "      <td>0</td>\n",
       "      <td>6</td>\n",
       "      <td>1</td>\n",
       "      <td>3</td>\n",
       "      <td>False</td>\n",
       "      <td>m</td>\n",
       "      <td>12</td>\n",
       "      <td>iia</td>\n",
       "      <td>249</td>\n",
       "      <td>mrm</td>\n",
       "      <td>1265</td>\n",
       "      <td>False</td>\n",
       "      <td>False</td>\n",
       "    </tr>\n",
       "  </tbody>\n",
       "</table>\n",
       "</div>"
      ],
      "text/plain": [
       "           name gender  target  len_name  gender_pred  count_vowels  \\\n",
       "156    Beatrice      f       0         8            1             4   \n",
       "157   Beatrycze      f       0         9            1             4   \n",
       "171    Berenike      f       0         8            1             4   \n",
       "257      Carmen      f       0         6            1             2   \n",
       "611        Inez      f       0         4            1             2   \n",
       "1215     Salome      f       0         6            1             3   \n",
       "1570    Abigail      f       0         7            1             4   \n",
       "1639     Ingrid      f       0         6            1             2   \n",
       "1663     Margot      f       0         6            1             2   \n",
       "1666     Miriam      f       0         6            1             3   \n",
       "\n",
       "      first_is_vowel first_letter  first_letter_cnt all_vowels  \\\n",
       "156            False            b                 1       eaie   \n",
       "157            False            b                 1       eaye   \n",
       "171            False            b                 1       eeie   \n",
       "257            False            c                 2         ae   \n",
       "611             True            i                 7         ie   \n",
       "1215           False            s                17        aoe   \n",
       "1570            True            a                 0       aiai   \n",
       "1639            True            i                 7         ii   \n",
       "1663           False            m                12         ao   \n",
       "1666           False            m                12        iia   \n",
       "\n",
       "      all_vowels_cnt all_consonants  all_consonants_cnt  last_is_vowel  \\\n",
       "156               67           btrc                 129           True   \n",
       "157               68          btrcz                 130           True   \n",
       "171               78           brnk                 142           True   \n",
       "257                1           crmn                 207          False   \n",
       "611              226             nz                 478          False   \n",
       "1215             157            slm                 926           True   \n",
       "1570             413            bgl                1197          False   \n",
       "1639             228           ngrd                 481          False   \n",
       "1663               0           mrgt                1263          False   \n",
       "1666             249            mrm                1265          False   \n",
       "\n",
       "      lst_letter_a  \n",
       "156          False  \n",
       "157          False  \n",
       "171          False  \n",
       "257          False  \n",
       "611          False  \n",
       "1215         False  \n",
       "1570         False  \n",
       "1639         False  \n",
       "1663         False  \n",
       "1666         False  "
      ]
     },
     "execution_count": 33,
     "metadata": {},
     "output_type": "execute_result"
    }
   ],
   "source": [
    "df[ (df.gender == 'f') & (~df.lst_letter_a) ]"
   ]
  },
  {
   "cell_type": "markdown",
   "metadata": {},
   "source": [
    "Wśród tych 10 imion, które nie kończą się na \"a\", ile jest polskich? :)\n",
    "\n",
    "Muszę Ci się przyznać, że ten wynik jest trochę optymistyczny. Dlaczego? To jest dobre pytanie. Zastanówmy się nad tym.\n",
    "\n",
    "**Pamiętaj**, że trenowanie modelu i weryfikowanie go na tych samych danych, to jest zły pomysł. To jest tak samo, jak przyjdziesz na egzamin i wraz z pytaniami dostaniesz odpowiedzi :).\n",
    "\n",
    "Ten efekt jest nazywany przeuczaniem się (ang. [*`overfitting`*](https://en.wikipedia.org/wiki/Overfitting)) i sprawia dość duże problemy w uczeniu maszynowym. Trzeba nabrać wprawy, żeby z tym sobie radzić! \n",
    "\n",
    "Spokojnie damy radę. Już w kolejnym ćwiczeniu pokażę Ci pierwszy sposób, jak sobie z tym radzić, a w kolejnym module spędzimy jeszcze więcej czasu, żeby to zrozumieć.\n",
    "\n",
    "Tak jak powiedziałem, to jest jedna z największych \"bolączek\" w uczeniu maszynowym, która sprowadza się do pytań: \"Czy mogę zaufać modelowi? Czy ten model na pewno działa (wystarczająco) dobrze?\"."
   ]
  },
  {
   "cell_type": "markdown",
   "metadata": {},
   "source": [
    "## Przydatne linki:\n",
    "* [Machine Learning 101](https://bit.ly/3lZUcGo)\n",
    "* [Machine Learning Glossary](https://bit.ly/3m280Ao)\n",
    "* [Data Alone Isn’t Ground Truth](https://bit.ly/39o3I0Q)\n",
    "* [Google explains how artificial intelligence becomes biased against women and minorities](https://bit.ly/3m1NuQf)\n",
    "* [Numerical Optimization: Understanding L-BFGS](https://bit.ly/3w115f8)\n"
   ]
  },
  {
   "cell_type": "code",
   "execution_count": null,
   "metadata": {},
   "outputs": [],
   "source": []
  }
 ],
 "metadata": {
  "kernelspec": {
   "display_name": "Python 3 (ipykernel)",
   "language": "python",
   "name": "python3"
  },
  "language_info": {
   "codemirror_mode": {
    "name": "ipython",
    "version": 3
   },
   "file_extension": ".py",
   "mimetype": "text/x-python",
   "name": "python",
   "nbconvert_exporter": "python",
   "pygments_lexer": "ipython3",
   "version": "3.9.14"
  }
 },
 "nbformat": 4,
 "nbformat_minor": 2
}
