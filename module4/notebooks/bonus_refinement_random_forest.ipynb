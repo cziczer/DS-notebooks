{
 "cells": [
  {
   "cell_type": "markdown",
   "metadata": {
    "collapsed": true
   },
   "source": [
    "## Global Refinement of Random Forest"
   ]
  },
  {
   "cell_type": "markdown",
   "metadata": {},
   "source": [
    "Już wiesz, jak zbudować lasy losowe czy boosting (w szczególności xgboost). Natomiast można pójść jeszcze krok dalej. \n",
    "\n",
    "Załóżmy, że już masz model (random forest) ze 100-ma drzewami. Każde drzewo ma pewną ilość poziomów i na końcu są liście. Każde drzewo ma co najmniej 2 lub więcej liści (maksymalnie `2^max_depth`). Każdy obiekt (wiersz) w wyniku podziału wylądował w którymś liściu. Niech każdy liść w drzewie będzie miał identyfikator: T_**x**,L_**y**, gdzie **x** to jest numer drzewa (Tree), natomiast **y** to numer liścia (Leaf) w tym drzewie.\n",
    "\n",
    "Teraz weźmy wszystkie liście (czyli liście wszystkich drzew) i zróbmy z nich cechy. W tym przypadku cechy są binarne, to oznacza, że dany wiersz albo jest w liściu (wtedy będzie wartość 1), albo go tam nie ma (wtedy wartość 0). Tablica będzie miała bardzo dużo 0, bo każdy wiersz/obiekt pojawia się tylko raz w liściu konkretnego drzewa.\n",
    "\n",
    "### Po co to wszystko?\n",
    "1. Taki zabieg usprawnia jakość modelu.\n",
    "2. Zmniejsza się ilość poziomów (czyli usuwa/łączy ze sobą zbędne ścieżki).\n",
    "3. Model będzie bardziej stabilny, a tym samym mniej podatny na przeuczenie się.\n",
    "\n",
    "### Kod\n",
    "Przykład realizacji znajdziesz w [notebooku](https://bit.ly/3akmRkR).\n",
    "\n",
    "Swoją drogą, w podobny sposób można \"rozebrać\" również xgboost :)."
   ]
  },
  {
   "cell_type": "markdown",
   "metadata": {},
   "source": [
    "## Przydatne linki:\n",
    "1. publikacja: [Global Refinement of Random Forest](https://bit.ly/3afUPak)\n",
    "2. prezentacja: [CVPR2015 reading \"Global refinement of random forest\"](https://bit.ly/32mn3LZ)"
   ]
  },
  {
   "cell_type": "code",
   "execution_count": null,
   "metadata": {},
   "outputs": [],
   "source": []
  }
 ],
 "metadata": {
  "kernelspec": {
   "display_name": "Python 3",
   "language": "python",
   "name": "python3"
  },
  "language_info": {
   "codemirror_mode": {
    "name": "ipython",
    "version": 3
   },
   "file_extension": ".py",
   "mimetype": "text/x-python",
   "name": "python",
   "nbconvert_exporter": "python",
   "pygments_lexer": "ipython3",
   "version": "3.8.6"
  }
 },
 "nbformat": 4,
 "nbformat_minor": 2
}
