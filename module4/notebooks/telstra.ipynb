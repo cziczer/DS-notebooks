{
 "cells": [
  {
   "cell_type": "markdown",
   "metadata": {},
   "source": [
    "# [Telstra](https://bit.ly/3dq0GvD)\n",
    "\n",
    "\n",
    "### Celem jest predykcja awarii sieci (trzy możliwe stany)."
   ]
  },
  {
   "cell_type": "code",
   "execution_count": 1,
   "metadata": {},
   "outputs": [
    {
     "name": "stderr",
     "output_type": "stream",
     "text": [
      "/Users/mmastalerczyk/opt/anaconda3/envs/umap2/lib/python3.9/site-packages/xgboost/compat.py:36: FutureWarning: pandas.Int64Index is deprecated and will be removed from pandas in a future version. Use pandas.Index with the appropriate dtype instead.\n",
      "  from pandas import MultiIndex, Int64Index\n"
     ]
    }
   ],
   "source": [
    "import pandas as pd\n",
    "import numpy as np\n",
    "np.random.seed(0)\n",
    "\n",
    "from sklearn.metrics import log_loss\n",
    "from sklearn.model_selection import StratifiedKFold\n",
    "\n",
    "from sklearn.dummy import DummyClassifier\n",
    "from sklearn.tree import DecisionTreeClassifier\n",
    "from sklearn.ensemble import RandomForestClassifier, ExtraTreesClassifier\n",
    "import xgboost as xgb\n",
    "\n",
    "import scikitplot as skplt\n",
    "\n",
    "import matplotlib.pyplot as plt\n",
    "import seaborn as sns\n",
    "%matplotlib inline "
   ]
  },
  {
   "cell_type": "markdown",
   "metadata": {},
   "source": [
    "## Wczytujemy dane\n",
    "\n",
    "Zwróć uwagę, że możemy wczytać dane wprost z pliku `*.zip`."
   ]
  },
  {
   "cell_type": "code",
   "execution_count": 2,
   "metadata": {},
   "outputs": [],
   "source": [
    "train = pd.read_csv('../input/telstra.train.csv.zip', compression='zip')\n",
    "test = pd.read_csv('../input/telstra.test.csv.zip', compression='zip')\n",
    "\n",
    "event_type = pd.read_csv('../input/telstra.event_type.csv.zip', compression='zip')\n",
    "resource_type = pd.read_csv('../input/telstra.resource_type.csv.zip', compression='zip')\n",
    "severity_type = pd.read_csv('../input/telstra.severity_type.csv.zip', compression='zip')\n",
    "log_feature = pd.read_csv('../input/telstra.log_feature.csv.zip', compression='zip')\n"
   ]
  },
  {
   "cell_type": "markdown",
   "metadata": {},
   "source": [
    "## Train & Test"
   ]
  },
  {
   "cell_type": "code",
   "execution_count": 3,
   "metadata": {},
   "outputs": [
    {
     "name": "stdout",
     "output_type": "stream",
     "text": [
      "(7381, 3) (11171, 2)\n"
     ]
    },
    {
     "data": {
      "text/html": [
       "<div>\n",
       "<style scoped>\n",
       "    .dataframe tbody tr th:only-of-type {\n",
       "        vertical-align: middle;\n",
       "    }\n",
       "\n",
       "    .dataframe tbody tr th {\n",
       "        vertical-align: top;\n",
       "    }\n",
       "\n",
       "    .dataframe thead th {\n",
       "        text-align: right;\n",
       "    }\n",
       "</style>\n",
       "<table border=\"1\" class=\"dataframe\">\n",
       "  <thead>\n",
       "    <tr style=\"text-align: right;\">\n",
       "      <th></th>\n",
       "      <th>id</th>\n",
       "      <th>location</th>\n",
       "      <th>fault_severity</th>\n",
       "    </tr>\n",
       "  </thead>\n",
       "  <tbody>\n",
       "    <tr>\n",
       "      <th>6306</th>\n",
       "      <td>1424</td>\n",
       "      <td>location 414</td>\n",
       "      <td>0</td>\n",
       "    </tr>\n",
       "    <tr>\n",
       "      <th>4534</th>\n",
       "      <td>5375</td>\n",
       "      <td>location 7</td>\n",
       "      <td>1</td>\n",
       "    </tr>\n",
       "    <tr>\n",
       "      <th>1995</th>\n",
       "      <td>10911</td>\n",
       "      <td>location 211</td>\n",
       "      <td>0</td>\n",
       "    </tr>\n",
       "    <tr>\n",
       "      <th>4156</th>\n",
       "      <td>6516</td>\n",
       "      <td>location 469</td>\n",
       "      <td>0</td>\n",
       "    </tr>\n",
       "    <tr>\n",
       "      <th>6327</th>\n",
       "      <td>2434</td>\n",
       "      <td>location 810</td>\n",
       "      <td>2</td>\n",
       "    </tr>\n",
       "    <tr>\n",
       "      <th>1696</th>\n",
       "      <td>8341</td>\n",
       "      <td>location 332</td>\n",
       "      <td>0</td>\n",
       "    </tr>\n",
       "    <tr>\n",
       "      <th>4313</th>\n",
       "      <td>28</td>\n",
       "      <td>location 889</td>\n",
       "      <td>0</td>\n",
       "    </tr>\n",
       "    <tr>\n",
       "      <th>5684</th>\n",
       "      <td>12953</td>\n",
       "      <td>location 704</td>\n",
       "      <td>0</td>\n",
       "    </tr>\n",
       "    <tr>\n",
       "      <th>4901</th>\n",
       "      <td>6467</td>\n",
       "      <td>location 1035</td>\n",
       "      <td>1</td>\n",
       "    </tr>\n",
       "    <tr>\n",
       "      <th>6645</th>\n",
       "      <td>3832</td>\n",
       "      <td>location 519</td>\n",
       "      <td>0</td>\n",
       "    </tr>\n",
       "  </tbody>\n",
       "</table>\n",
       "</div>"
      ],
      "text/plain": [
       "         id       location  fault_severity\n",
       "6306   1424   location 414               0\n",
       "4534   5375     location 7               1\n",
       "1995  10911   location 211               0\n",
       "4156   6516   location 469               0\n",
       "6327   2434   location 810               2\n",
       "1696   8341   location 332               0\n",
       "4313     28   location 889               0\n",
       "5684  12953   location 704               0\n",
       "4901   6467  location 1035               1\n",
       "6645   3832   location 519               0"
      ]
     },
     "execution_count": 3,
     "metadata": {},
     "output_type": "execute_result"
    }
   ],
   "source": [
    "print(train.shape, test.shape)\n",
    "train.sample(10)\n"
   ]
  },
  {
   "cell_type": "code",
   "execution_count": 4,
   "metadata": {},
   "outputs": [
    {
     "name": "stdout",
     "output_type": "stream",
     "text": [
      "Train, unq ID: 7381\n",
      "Train, unq location: 929\n",
      "\n",
      "Test, unq ID: 11171\n",
      "Test, unq location: 1039\n",
      "\n",
      "All unique locations:  1126\n",
      "New locations (in test):  197\n"
     ]
    }
   ],
   "source": [
    "print(\"Train, unq ID:\", train.id.nunique())\n",
    "print(\"Train, unq location:\", train.location.nunique())\n",
    "print(\"\")\n",
    "print(\"Test, unq ID:\", test.id.nunique())\n",
    "print(\"Test, unq location:\", test.location.nunique())\n",
    "print(\"\")\n",
    "print(\"All unique locations: \",  len(set(train.location) | set(test.location)))\n",
    "print(\"New locations (in test): \", len(set(test.location) - set(train.location)))"
   ]
  },
  {
   "cell_type": "code",
   "execution_count": 5,
   "metadata": {},
   "outputs": [
    {
     "name": "stdout",
     "output_type": "stream",
     "text": [
      "<class 'pandas.core.frame.DataFrame'>\n",
      "RangeIndex: 7381 entries, 0 to 7380\n",
      "Data columns (total 3 columns):\n",
      " #   Column          Non-Null Count  Dtype\n",
      "---  ------          --------------  -----\n",
      " 0   id              7381 non-null   int64\n",
      " 1   location        7381 non-null   int64\n",
      " 2   fault_severity  7381 non-null   int64\n",
      "dtypes: int64(3)\n",
      "memory usage: 173.1 KB\n"
     ]
    },
    {
     "name": "stderr",
     "output_type": "stream",
     "text": [
      "/var/folders/00/3f1t2rhd45l6fvmbkz20ptgh00dr78/T/ipykernel_46974/395724053.py:1: DeprecationWarning: `np.int` is a deprecated alias for the builtin `int`. To silence this warning, use `int` by itself. Doing this will not modify any behavior and is safe. When replacing `np.int`, you may wish to use e.g. `np.int64` or `np.int32` to specify the precision. If you wish to review your current use, check the release note link for additional information.\n",
      "Deprecated in NumPy 1.20; for more details and guidance: https://numpy.org/devdocs/release/1.20.0-notes.html#deprecations\n",
      "  if np.int != train.location.dtype:\n",
      "/var/folders/00/3f1t2rhd45l6fvmbkz20ptgh00dr78/T/ipykernel_46974/395724053.py:2: DeprecationWarning: `np.int` is a deprecated alias for the builtin `int`. To silence this warning, use `int` by itself. Doing this will not modify any behavior and is safe. When replacing `np.int`, you may wish to use e.g. `np.int64` or `np.int32` to specify the precision. If you wish to review your current use, check the release note link for additional information.\n",
      "Deprecated in NumPy 1.20; for more details and guidance: https://numpy.org/devdocs/release/1.20.0-notes.html#deprecations\n",
      "  train['location'] = train.location.map(lambda x: x.split(' ')[1]).astype(np.int)\n"
     ]
    }
   ],
   "source": [
    "if np.int != train.location.dtype:\n",
    "    train['location'] = train.location.map(lambda x: x.split(' ')[1]).astype(np.int)\n",
    "train.info()"
   ]
  },
  {
   "cell_type": "markdown",
   "metadata": {},
   "source": [
    "## Target variable - `fault_severity`"
   ]
  },
  {
   "cell_type": "code",
   "execution_count": 6,
   "metadata": {},
   "outputs": [
    {
     "data": {
      "image/png": "[encoded data removed]",
      "text/plain": [
       "<Figure size 432x288 with 1 Axes>"
      ]
     },
     "metadata": {
      "needs_background": "light"
     },
     "output_type": "display_data"
    }
   ],
   "source": [
    "train[ train.fault_severity == 0  ].location.hist(bins=100)\n",
    "train[ train.fault_severity == 1  ].location.hist(bins=100)\n",
    "train[ train.fault_severity == 2  ].location.hist(bins=100);"
   ]
  },
  {
   "cell_type": "code",
   "execution_count": 7,
   "metadata": {},
   "outputs": [
    {
     "data": {
      "image/png": "[encoded data removed]",
      "text/plain": [
       "<Figure size 432x288 with 1 Axes>"
      ]
     },
     "metadata": {
      "needs_background": "light"
     },
     "output_type": "display_data"
    }
   ],
   "source": [
    "sns.stripplot(x=\"fault_severity\", y=\"location\", data=train, jitter=True);"
   ]
  },
  {
   "cell_type": "markdown",
   "metadata": {},
   "source": [
    "Wygląda na to, że są lokalizacje, pomiędzy 100 a 600, gdzie w ogóle nie występuje stan **2** (krytyczny). Jest to trochę podejrzane, bo czemu akurat tak? Być może jest tam lepszy sprzęt... Tego nie wiemy."
   ]
  },
  {
   "cell_type": "markdown",
   "metadata": {},
   "source": [
    "## Event type\n",
    "Zbadajmy teraz rodzaje zdarzeń."
   ]
  },
  {
   "cell_type": "code",
   "execution_count": 8,
   "metadata": {},
   "outputs": [
    {
     "name": "stdout",
     "output_type": "stream",
     "text": [
      "(31170, 2)\n",
      "unique ID:  18552\n",
      "unique event_type:  53\n"
     ]
    },
    {
     "data": {
      "text/html": [
       "<div>\n",
       "<style scoped>\n",
       "    .dataframe tbody tr th:only-of-type {\n",
       "        vertical-align: middle;\n",
       "    }\n",
       "\n",
       "    .dataframe tbody tr th {\n",
       "        vertical-align: top;\n",
       "    }\n",
       "\n",
       "    .dataframe thead th {\n",
       "        text-align: right;\n",
       "    }\n",
       "</style>\n",
       "<table border=\"1\" class=\"dataframe\">\n",
       "  <thead>\n",
       "    <tr style=\"text-align: right;\">\n",
       "      <th></th>\n",
       "      <th>id</th>\n",
       "      <th>event_type</th>\n",
       "    </tr>\n",
       "  </thead>\n",
       "  <tbody>\n",
       "    <tr>\n",
       "      <th>9162</th>\n",
       "      <td>16172</td>\n",
       "      <td>event_type 11</td>\n",
       "    </tr>\n",
       "    <tr>\n",
       "      <th>6189</th>\n",
       "      <td>5275</td>\n",
       "      <td>event_type 35</td>\n",
       "    </tr>\n",
       "    <tr>\n",
       "      <th>3107</th>\n",
       "      <td>2811</td>\n",
       "      <td>event_type 15</td>\n",
       "    </tr>\n",
       "    <tr>\n",
       "      <th>27723</th>\n",
       "      <td>1994</td>\n",
       "      <td>event_type 44</td>\n",
       "    </tr>\n",
       "    <tr>\n",
       "      <th>15664</th>\n",
       "      <td>1301</td>\n",
       "      <td>event_type 35</td>\n",
       "    </tr>\n",
       "  </tbody>\n",
       "</table>\n",
       "</div>"
      ],
      "text/plain": [
       "          id     event_type\n",
       "9162   16172  event_type 11\n",
       "6189    5275  event_type 35\n",
       "3107    2811  event_type 15\n",
       "27723   1994  event_type 44\n",
       "15664   1301  event_type 35"
      ]
     },
     "execution_count": 8,
     "metadata": {},
     "output_type": "execute_result"
    }
   ],
   "source": [
    "print(event_type.shape)\n",
    "print(\"unique ID: \", event_type.id.nunique())\n",
    "print(\"unique event_type: \", event_type.event_type.nunique())\n",
    "event_type.sample(5)"
   ]
  },
  {
   "cell_type": "code",
   "execution_count": 9,
   "metadata": {},
   "outputs": [
    {
     "data": {
      "image/png": "[encoded data removed]",
      "text/plain": [
       "<Figure size 432x288 with 1 Axes>"
      ]
     },
     "metadata": {
      "needs_background": "light"
     },
     "output_type": "display_data"
    }
   ],
   "source": [
    "plt.hist( event_type.event_type.factorize()[0] );"
   ]
  },
  {
   "cell_type": "code",
   "execution_count": 10,
   "metadata": {},
   "outputs": [
    {
     "data": {
      "text/plain": [
       "event_type 11    0.253064\n",
       "event_type 35    0.212223\n",
       "event_type 34    0.190151\n",
       "event_type 15    0.141001\n",
       "event_type 20    0.046776\n",
       "event_type 54    0.021944\n",
       "event_type 13    0.018672\n",
       "event_type 42    0.015335\n",
       "event_type 44    0.014950\n",
       "event_type 23    0.013763\n",
       "event_type 14    0.010587\n",
       "event_type 43    0.009817\n",
       "event_type 22    0.007154\n",
       "event_type 50    0.004941\n",
       "event_type 10    0.004652\n",
       "Name: event_type, dtype: float64"
      ]
     },
     "execution_count": 10,
     "metadata": {},
     "output_type": "execute_result"
    }
   ],
   "source": [
    "event_type.event_type.value_counts(normalize=True).head(15)"
   ]
  },
  {
   "cell_type": "markdown",
   "metadata": {},
   "source": [
    "**event_type 11** jest najbardziej popularnym zdarzeniem (25%), następnie **event_type 35** - 21%, **event_type 34** - 19%, **event_type 15** - 14%. Pierwsze cztery zdarzenia stanowią ok. 80%."
   ]
  },
  {
   "cell_type": "markdown",
   "metadata": {},
   "source": [
    "## Resource type"
   ]
  },
  {
   "cell_type": "code",
   "execution_count": 11,
   "metadata": {},
   "outputs": [
    {
     "name": "stdout",
     "output_type": "stream",
     "text": [
      "(21076, 2)\n",
      "unique ID:  18552\n",
      "unique resource_type:  10\n"
     ]
    },
    {
     "data": {
      "text/html": [
       "<div>\n",
       "<style scoped>\n",
       "    .dataframe tbody tr th:only-of-type {\n",
       "        vertical-align: middle;\n",
       "    }\n",
       "\n",
       "    .dataframe tbody tr th {\n",
       "        vertical-align: top;\n",
       "    }\n",
       "\n",
       "    .dataframe thead th {\n",
       "        text-align: right;\n",
       "    }\n",
       "</style>\n",
       "<table border=\"1\" class=\"dataframe\">\n",
       "  <thead>\n",
       "    <tr style=\"text-align: right;\">\n",
       "      <th></th>\n",
       "      <th>id</th>\n",
       "      <th>resource_type</th>\n",
       "    </tr>\n",
       "  </thead>\n",
       "  <tbody>\n",
       "    <tr>\n",
       "      <th>5931</th>\n",
       "      <td>12069</td>\n",
       "      <td>resource_type 2</td>\n",
       "    </tr>\n",
       "    <tr>\n",
       "      <th>4094</th>\n",
       "      <td>10070</td>\n",
       "      <td>resource_type 2</td>\n",
       "    </tr>\n",
       "    <tr>\n",
       "      <th>19020</th>\n",
       "      <td>3545</td>\n",
       "      <td>resource_type 6</td>\n",
       "    </tr>\n",
       "    <tr>\n",
       "      <th>6377</th>\n",
       "      <td>1577</td>\n",
       "      <td>resource_type 2</td>\n",
       "    </tr>\n",
       "    <tr>\n",
       "      <th>10068</th>\n",
       "      <td>8564</td>\n",
       "      <td>resource_type 2</td>\n",
       "    </tr>\n",
       "  </tbody>\n",
       "</table>\n",
       "</div>"
      ],
      "text/plain": [
       "          id    resource_type\n",
       "5931   12069  resource_type 2\n",
       "4094   10070  resource_type 2\n",
       "19020   3545  resource_type 6\n",
       "6377    1577  resource_type 2\n",
       "10068   8564  resource_type 2"
      ]
     },
     "execution_count": 11,
     "metadata": {},
     "output_type": "execute_result"
    }
   ],
   "source": [
    "print(resource_type.shape)\n",
    "print(\"unique ID: \", resource_type.id.nunique())\n",
    "print(\"unique resource_type: \", resource_type.resource_type.nunique())\n",
    "resource_type.sample(5)"
   ]
  },
  {
   "cell_type": "code",
   "execution_count": 12,
   "metadata": {},
   "outputs": [
    {
     "data": {
      "image/png": "[encoded data removed]",
      "text/plain": [
       "<Figure size 432x288 with 1 Axes>"
      ]
     },
     "metadata": {
      "needs_background": "light"
     },
     "output_type": "display_data"
    }
   ],
   "source": [
    "plt.hist( resource_type.resource_type.factorize()[0] );"
   ]
  },
  {
   "cell_type": "code",
   "execution_count": 13,
   "metadata": {},
   "outputs": [
    {
     "data": {
      "text/plain": [
       "resource_type 8     0.487189\n",
       "resource_type 2     0.423135\n",
       "resource_type 6     0.027614\n",
       "resource_type 7     0.023629\n",
       "resource_type 4     0.015658\n",
       "resource_type 9     0.009015\n",
       "resource_type 3     0.006880\n",
       "resource_type 10    0.003464\n",
       "resource_type 1     0.002752\n",
       "resource_type 5     0.000664\n",
       "Name: resource_type, dtype: float64"
      ]
     },
     "execution_count": 13,
     "metadata": {},
     "output_type": "execute_result"
    }
   ],
   "source": [
    "resource_type.resource_type.value_counts(normalize=True)"
   ]
  },
  {
   "cell_type": "markdown",
   "metadata": {},
   "source": [
    "**resource_type 8** ma ok. 49%, **resource_type 2** - 42%, co pokrywa ponad 90%."
   ]
  },
  {
   "cell_type": "markdown",
   "metadata": {},
   "source": [
    "## Severity_type"
   ]
  },
  {
   "cell_type": "code",
   "execution_count": 14,
   "metadata": {},
   "outputs": [
    {
     "name": "stdout",
     "output_type": "stream",
     "text": [
      "(18552, 2)\n",
      "unique ID:  18552\n",
      "unique severity_type:  5\n"
     ]
    },
    {
     "data": {
      "text/html": [
       "<div>\n",
       "<style scoped>\n",
       "    .dataframe tbody tr th:only-of-type {\n",
       "        vertical-align: middle;\n",
       "    }\n",
       "\n",
       "    .dataframe tbody tr th {\n",
       "        vertical-align: top;\n",
       "    }\n",
       "\n",
       "    .dataframe thead th {\n",
       "        text-align: right;\n",
       "    }\n",
       "</style>\n",
       "<table border=\"1\" class=\"dataframe\">\n",
       "  <thead>\n",
       "    <tr style=\"text-align: right;\">\n",
       "      <th></th>\n",
       "      <th>id</th>\n",
       "      <th>severity_type</th>\n",
       "    </tr>\n",
       "  </thead>\n",
       "  <tbody>\n",
       "    <tr>\n",
       "      <th>5521</th>\n",
       "      <td>4523</td>\n",
       "      <td>severity_type 2</td>\n",
       "    </tr>\n",
       "    <tr>\n",
       "      <th>13939</th>\n",
       "      <td>553</td>\n",
       "      <td>severity_type 1</td>\n",
       "    </tr>\n",
       "    <tr>\n",
       "      <th>16247</th>\n",
       "      <td>9797</td>\n",
       "      <td>severity_type 1</td>\n",
       "    </tr>\n",
       "    <tr>\n",
       "      <th>12428</th>\n",
       "      <td>15674</td>\n",
       "      <td>severity_type 1</td>\n",
       "    </tr>\n",
       "    <tr>\n",
       "      <th>13120</th>\n",
       "      <td>14887</td>\n",
       "      <td>severity_type 1</td>\n",
       "    </tr>\n",
       "  </tbody>\n",
       "</table>\n",
       "</div>"
      ],
      "text/plain": [
       "          id    severity_type\n",
       "5521    4523  severity_type 2\n",
       "13939    553  severity_type 1\n",
       "16247   9797  severity_type 1\n",
       "12428  15674  severity_type 1\n",
       "13120  14887  severity_type 1"
      ]
     },
     "execution_count": 14,
     "metadata": {},
     "output_type": "execute_result"
    }
   ],
   "source": [
    "print(severity_type.shape)\n",
    "print(\"unique ID: \", severity_type.id.nunique())\n",
    "print(\"unique severity_type: \", severity_type.severity_type.nunique())\n",
    "severity_type.sample(5)"
   ]
  },
  {
   "cell_type": "code",
   "execution_count": 15,
   "metadata": {},
   "outputs": [
    {
     "data": {
      "text/plain": [
       "severity_type 2    0.470947\n",
       "severity_type 1    0.470461\n",
       "severity_type 4    0.054657\n",
       "severity_type 5    0.003504\n",
       "severity_type 3    0.000431\n",
       "Name: severity_type, dtype: float64"
      ]
     },
     "execution_count": 15,
     "metadata": {},
     "output_type": "execute_result"
    }
   ],
   "source": [
    "severity_type.severity_type.value_counts(normalize=True)"
   ]
  },
  {
   "cell_type": "markdown",
   "metadata": {},
   "source": [
    "## Basic model\n",
    "Metryką sukcesu jest [logloss](https://bit.ly/3aiypVO)."
   ]
  },
  {
   "cell_type": "code",
   "execution_count": 16,
   "metadata": {},
   "outputs": [],
   "source": [
    "def cv_model(model, X, y, n_splits=3):\n",
    "\n",
    "    scores = []\n",
    "    skf = StratifiedKFold(n_splits=n_splits, random_state=2018, shuffle=True)\n",
    "\n",
    "    for train_idx, test_idx in skf.split(X, y):\n",
    "        model.fit(X[train_idx], y[train_idx])\n",
    "        y_pred = model.predict_proba(X[test_idx])\n",
    "\n",
    "        scores.append( log_loss(y[test_idx], y_pred) )\n",
    "        \n",
    "    return np.mean(scores), np.std(scores)"
   ]
  },
  {
   "cell_type": "code",
   "execution_count": 17,
   "metadata": {},
   "outputs": [
    {
     "data": {
      "text/plain": [
       "(0.8035725329559632, 0.03883194903503622)"
      ]
     },
     "execution_count": 17,
     "metadata": {},
     "output_type": "execute_result"
    }
   ],
   "source": [
    "X = train[ ['location'] ].values\n",
    "y = train['fault_severity'].values\n",
    "\n",
    "cv_model(DecisionTreeClassifier(max_depth=5), X, y)"
   ]
  },
  {
   "cell_type": "markdown",
   "metadata": {},
   "source": [
    "Już zwykłe drzewa decyzyjne dają wynik: **0.838**. Spróbujemy wyciągnąć więcej."
   ]
  },
  {
   "cell_type": "markdown",
   "metadata": {},
   "source": [
    "## Merge `train` & `severity_type`\n",
    "Zaczniemy od łączenia `severity_type` z `train`, dlatego że w tym przypadku są relacje: 1x1."
   ]
  },
  {
   "cell_type": "code",
   "execution_count": 18,
   "metadata": {},
   "outputs": [
    {
     "data": {
      "text/html": [
       "<div>\n",
       "<style scoped>\n",
       "    .dataframe tbody tr th:only-of-type {\n",
       "        vertical-align: middle;\n",
       "    }\n",
       "\n",
       "    .dataframe tbody tr th {\n",
       "        vertical-align: top;\n",
       "    }\n",
       "\n",
       "    .dataframe thead th {\n",
       "        text-align: right;\n",
       "    }\n",
       "</style>\n",
       "<table border=\"1\" class=\"dataframe\">\n",
       "  <thead>\n",
       "    <tr style=\"text-align: right;\">\n",
       "      <th></th>\n",
       "      <th>id</th>\n",
       "      <th>severity_type</th>\n",
       "      <th>location</th>\n",
       "      <th>fault_severity</th>\n",
       "    </tr>\n",
       "  </thead>\n",
       "  <tbody>\n",
       "    <tr>\n",
       "      <th>0</th>\n",
       "      <td>8011</td>\n",
       "      <td>severity_type 2</td>\n",
       "      <td>1</td>\n",
       "      <td>0</td>\n",
       "    </tr>\n",
       "    <tr>\n",
       "      <th>1</th>\n",
       "      <td>2588</td>\n",
       "      <td>severity_type 1</td>\n",
       "      <td>1</td>\n",
       "      <td>0</td>\n",
       "    </tr>\n",
       "    <tr>\n",
       "      <th>2</th>\n",
       "      <td>4848</td>\n",
       "      <td>severity_type 1</td>\n",
       "      <td>1</td>\n",
       "      <td>0</td>\n",
       "    </tr>\n",
       "    <tr>\n",
       "      <th>3</th>\n",
       "      <td>6914</td>\n",
       "      <td>severity_type 1</td>\n",
       "      <td>1</td>\n",
       "      <td>0</td>\n",
       "    </tr>\n",
       "    <tr>\n",
       "      <th>4</th>\n",
       "      <td>5337</td>\n",
       "      <td>severity_type 1</td>\n",
       "      <td>1</td>\n",
       "      <td>0</td>\n",
       "    </tr>\n",
       "    <tr>\n",
       "      <th>...</th>\n",
       "      <td>...</td>\n",
       "      <td>...</td>\n",
       "      <td>...</td>\n",
       "      <td>...</td>\n",
       "    </tr>\n",
       "    <tr>\n",
       "      <th>7376</th>\n",
       "      <td>6288</td>\n",
       "      <td>severity_type 1</td>\n",
       "      <td>999</td>\n",
       "      <td>1</td>\n",
       "    </tr>\n",
       "    <tr>\n",
       "      <th>7377</th>\n",
       "      <td>13296</td>\n",
       "      <td>severity_type 1</td>\n",
       "      <td>999</td>\n",
       "      <td>1</td>\n",
       "    </tr>\n",
       "    <tr>\n",
       "      <th>7378</th>\n",
       "      <td>8114</td>\n",
       "      <td>severity_type 2</td>\n",
       "      <td>999</td>\n",
       "      <td>0</td>\n",
       "    </tr>\n",
       "    <tr>\n",
       "      <th>7379</th>\n",
       "      <td>878</td>\n",
       "      <td>severity_type 2</td>\n",
       "      <td>999</td>\n",
       "      <td>0</td>\n",
       "    </tr>\n",
       "    <tr>\n",
       "      <th>7380</th>\n",
       "      <td>4464</td>\n",
       "      <td>severity_type 1</td>\n",
       "      <td>999</td>\n",
       "      <td>0</td>\n",
       "    </tr>\n",
       "  </tbody>\n",
       "</table>\n",
       "<p>7381 rows × 4 columns</p>\n",
       "</div>"
      ],
      "text/plain": [
       "         id    severity_type  location  fault_severity\n",
       "0      8011  severity_type 2         1               0\n",
       "1      2588  severity_type 1         1               0\n",
       "2      4848  severity_type 1         1               0\n",
       "3      6914  severity_type 1         1               0\n",
       "4      5337  severity_type 1         1               0\n",
       "...     ...              ...       ...             ...\n",
       "7376   6288  severity_type 1       999               1\n",
       "7377  13296  severity_type 1       999               1\n",
       "7378   8114  severity_type 2       999               0\n",
       "7379    878  severity_type 2       999               0\n",
       "7380   4464  severity_type 1       999               0\n",
       "\n",
       "[7381 rows x 4 columns]"
      ]
     },
     "execution_count": 18,
     "metadata": {},
     "output_type": "execute_result"
    }
   ],
   "source": [
    "combined_train = pd.merge(severity_type, train, on='id')\n",
    "\n",
    "combined_train"
   ]
  },
  {
   "cell_type": "markdown",
   "metadata": {},
   "source": [
    "Zwróć uwagę na cechę `location`. Czy widzisz, że to jest ułożone w sposób rosnący? Możemy założyć, że po połączeniu tablic, uzyskaliśmy wiersze posortowane w czasie.\n",
    "\n",
    "Sprawdźmy to! Wybierzemy trzy najbardziej popularne (z największą ilością danych) lokalizacje."
   ]
  },
  {
   "cell_type": "code",
   "execution_count": 19,
   "metadata": {},
   "outputs": [
    {
     "data": {
      "text/plain": [
       "821     85\n",
       "1107    78\n",
       "734     75\n",
       "1008    71\n",
       "126     71\n",
       "Name: location, dtype: int64"
      ]
     },
     "execution_count": 19,
     "metadata": {},
     "output_type": "execute_result"
    }
   ],
   "source": [
    "combined_train.location.value_counts().head()"
   ]
  },
  {
   "cell_type": "markdown",
   "metadata": {},
   "source": [
    "Dla lokalizacji **821** posiadamy 85 wierszy, dla **1107** - 78, **734** - 75."
   ]
  },
  {
   "cell_type": "code",
   "execution_count": 20,
   "metadata": {},
   "outputs": [
    {
     "name": "stdout",
     "output_type": "stream",
     "text": [
      "(85, 5)\n"
     ]
    },
    {
     "data": {
      "text/html": [
       "<div>\n",
       "<style scoped>\n",
       "    .dataframe tbody tr th:only-of-type {\n",
       "        vertical-align: middle;\n",
       "    }\n",
       "\n",
       "    .dataframe tbody tr th {\n",
       "        vertical-align: top;\n",
       "    }\n",
       "\n",
       "    .dataframe thead th {\n",
       "        text-align: right;\n",
       "    }\n",
       "</style>\n",
       "<table border=\"1\" class=\"dataframe\">\n",
       "  <thead>\n",
       "    <tr style=\"text-align: right;\">\n",
       "      <th></th>\n",
       "      <th>index</th>\n",
       "      <th>id</th>\n",
       "      <th>severity_type</th>\n",
       "      <th>location</th>\n",
       "      <th>fault_severity</th>\n",
       "    </tr>\n",
       "  </thead>\n",
       "  <tbody>\n",
       "    <tr>\n",
       "      <th>0</th>\n",
       "      <td>5860</td>\n",
       "      <td>0</td>\n",
       "      <td>severity_type 1</td>\n",
       "      <td>821</td>\n",
       "      <td>0</td>\n",
       "    </tr>\n",
       "    <tr>\n",
       "      <th>1</th>\n",
       "      <td>5861</td>\n",
       "      <td>1</td>\n",
       "      <td>severity_type 1</td>\n",
       "      <td>821</td>\n",
       "      <td>0</td>\n",
       "    </tr>\n",
       "    <tr>\n",
       "      <th>2</th>\n",
       "      <td>5862</td>\n",
       "      <td>2</td>\n",
       "      <td>severity_type 1</td>\n",
       "      <td>821</td>\n",
       "      <td>0</td>\n",
       "    </tr>\n",
       "    <tr>\n",
       "      <th>3</th>\n",
       "      <td>5863</td>\n",
       "      <td>3</td>\n",
       "      <td>severity_type 1</td>\n",
       "      <td>821</td>\n",
       "      <td>0</td>\n",
       "    </tr>\n",
       "    <tr>\n",
       "      <th>4</th>\n",
       "      <td>5864</td>\n",
       "      <td>4</td>\n",
       "      <td>severity_type 1</td>\n",
       "      <td>821</td>\n",
       "      <td>0</td>\n",
       "    </tr>\n",
       "  </tbody>\n",
       "</table>\n",
       "</div>"
      ],
      "text/plain": [
       "   index  id    severity_type  location  fault_severity\n",
       "0   5860   0  severity_type 1       821               0\n",
       "1   5861   1  severity_type 1       821               0\n",
       "2   5862   2  severity_type 1       821               0\n",
       "3   5863   3  severity_type 1       821               0\n",
       "4   5864   4  severity_type 1       821               0"
      ]
     },
     "execution_count": 20,
     "metadata": {},
     "output_type": "execute_result"
    }
   ],
   "source": [
    "tmp_exp = combined_train[ combined_train.location == 821 ].reset_index()\n",
    "tmp_exp['id'] = tmp_exp.index\n",
    "print(tmp_exp.shape)\n",
    "tmp_exp.head()"
   ]
  },
  {
   "cell_type": "markdown",
   "metadata": {},
   "source": [
    "**id** zawiera kolejne liczby w sposób rosnący (zaczynając od 0). Czas na wizualizację."
   ]
  },
  {
   "cell_type": "code",
   "execution_count": 21,
   "metadata": {},
   "outputs": [],
   "source": [
    "def plot_by_location(location_id):\n",
    "    tmp_exp = combined_train[ combined_train.location == location_id ].reset_index()\n",
    "    tmp_exp['id'] = tmp_exp.index\n",
    "\n",
    "    sns.set(rc={'figure.figsize':(15,5)})\n",
    "\n",
    "    plt.plot( tmp_exp[ tmp_exp.fault_severity == 0 ].id, tmp_exp[ tmp_exp.fault_severity == 0 ].fault_severity, 'o' )\n",
    "    plt.plot( tmp_exp[ tmp_exp.fault_severity == 1 ].id, tmp_exp[ tmp_exp.fault_severity == 1 ].fault_severity, 'o' )\n",
    "    plt.plot( tmp_exp[ tmp_exp.fault_severity == 2 ].id, tmp_exp[ tmp_exp.fault_severity == 2 ].fault_severity, 'o' )\n",
    "    plt.title(\"Location {0}\".format(location_id), fontsize=20)\n",
    "    plt.xlabel(\"Num\", fontsize=16)\n",
    "    plt.ylabel(\"Fault severity\", fontsize=16)\n",
    "    plt.show()"
   ]
  },
  {
   "cell_type": "code",
   "execution_count": 22,
   "metadata": {},
   "outputs": [
    {
     "data": {
      "image/png": "[encoded data removed]",
      "text/plain": [
       "<Figure size 1080x360 with 1 Axes>"
      ]
     },
     "metadata": {},
     "output_type": "display_data"
    }
   ],
   "source": [
    "plot_by_location(821)"
   ]
  },
  {
   "cell_type": "code",
   "execution_count": 23,
   "metadata": {},
   "outputs": [
    {
     "data": {
      "image/png": "[encoded data removed]",
      "text/plain": [
       "<Figure size 1080x360 with 1 Axes>"
      ]
     },
     "metadata": {},
     "output_type": "display_data"
    }
   ],
   "source": [
    "plot_by_location(1107)"
   ]
  },
  {
   "cell_type": "code",
   "execution_count": 24,
   "metadata": {},
   "outputs": [
    {
     "data": {
      "image/png": "[encoded data removed]",
      "text/plain": [
       "<Figure size 1080x360 with 1 Axes>"
      ]
     },
     "metadata": {},
     "output_type": "display_data"
    }
   ],
   "source": [
    "plot_by_location(734)"
   ]
  },
  {
   "cell_type": "markdown",
   "metadata": {},
   "source": [
    "Na osi X jest stworzona nowa (eksperymentalna) cecha, która prawdopodobnie jest czasem. Jak widać, to założenie może mieć sens. Najpierw wszystko jest dobrze (stan 0 - niebieskie kropki), następnie są częściowe trudności (stan 1, zielone kropki) i następnie krytycznie (stan 2 - czerwone kropki).\n",
    "\n",
    "Teraz wytrenujmy model i sprawdźmy, czy ta hipoteza może być pomocna."
   ]
  },
  {
   "cell_type": "code",
   "execution_count": 25,
   "metadata": {},
   "outputs": [
    {
     "data": {
      "text/html": [
       "<div>\n",
       "<style scoped>\n",
       "    .dataframe tbody tr th:only-of-type {\n",
       "        vertical-align: middle;\n",
       "    }\n",
       "\n",
       "    .dataframe tbody tr th {\n",
       "        vertical-align: top;\n",
       "    }\n",
       "\n",
       "    .dataframe thead th {\n",
       "        text-align: right;\n",
       "    }\n",
       "</style>\n",
       "<table border=\"1\" class=\"dataframe\">\n",
       "  <thead>\n",
       "    <tr style=\"text-align: right;\">\n",
       "      <th></th>\n",
       "      <th>id</th>\n",
       "      <th>severity_type</th>\n",
       "      <th>location</th>\n",
       "      <th>fault_severity</th>\n",
       "      <th>time</th>\n",
       "      <th>reverse_time</th>\n",
       "    </tr>\n",
       "  </thead>\n",
       "  <tbody>\n",
       "    <tr>\n",
       "      <th>0</th>\n",
       "      <td>8011</td>\n",
       "      <td>severity_type 2</td>\n",
       "      <td>1</td>\n",
       "      <td>0</td>\n",
       "      <td>1</td>\n",
       "      <td>24</td>\n",
       "    </tr>\n",
       "    <tr>\n",
       "      <th>1</th>\n",
       "      <td>2588</td>\n",
       "      <td>severity_type 1</td>\n",
       "      <td>1</td>\n",
       "      <td>0</td>\n",
       "      <td>2</td>\n",
       "      <td>23</td>\n",
       "    </tr>\n",
       "    <tr>\n",
       "      <th>2</th>\n",
       "      <td>4848</td>\n",
       "      <td>severity_type 1</td>\n",
       "      <td>1</td>\n",
       "      <td>0</td>\n",
       "      <td>3</td>\n",
       "      <td>22</td>\n",
       "    </tr>\n",
       "    <tr>\n",
       "      <th>3</th>\n",
       "      <td>6914</td>\n",
       "      <td>severity_type 1</td>\n",
       "      <td>1</td>\n",
       "      <td>0</td>\n",
       "      <td>4</td>\n",
       "      <td>21</td>\n",
       "    </tr>\n",
       "    <tr>\n",
       "      <th>4</th>\n",
       "      <td>5337</td>\n",
       "      <td>severity_type 1</td>\n",
       "      <td>1</td>\n",
       "      <td>0</td>\n",
       "      <td>5</td>\n",
       "      <td>20</td>\n",
       "    </tr>\n",
       "  </tbody>\n",
       "</table>\n",
       "</div>"
      ],
      "text/plain": [
       "     id    severity_type  location  fault_severity  time  reverse_time\n",
       "0  8011  severity_type 2         1               0     1            24\n",
       "1  2588  severity_type 1         1               0     2            23\n",
       "2  4848  severity_type 1         1               0     3            22\n",
       "3  6914  severity_type 1         1               0     4            21\n",
       "4  5337  severity_type 1         1               0     5            20"
      ]
     },
     "execution_count": 25,
     "metadata": {},
     "output_type": "execute_result"
    }
   ],
   "source": [
    "combined_train['time'] = combined_train.groupby('location')['severity_type'].transform(lambda x: np.arange(x.shape[0])+1)\n",
    "combined_train['reverse_time'] = combined_train.groupby('location')['severity_type'].transform(lambda x: np.arange(x.shape[0])[::-1]+1)\n",
    "\n",
    "combined_train.head()"
   ]
  },
  {
   "cell_type": "markdown",
   "metadata": {},
   "source": [
    "## DT + `time`: ~0.78"
   ]
  },
  {
   "cell_type": "code",
   "execution_count": 26,
   "metadata": {},
   "outputs": [
    {
     "data": {
      "text/plain": [
       "(0.8268849840870119, 0.028977305219066718)"
      ]
     },
     "execution_count": 26,
     "metadata": {},
     "output_type": "execute_result"
    }
   ],
   "source": [
    "X = combined_train[ ['location', 'time'] ].values\n",
    "y = combined_train['fault_severity'].values\n",
    "\n",
    "cv_model(DecisionTreeClassifier(max_depth=5), X, y)"
   ]
  },
  {
   "cell_type": "markdown",
   "metadata": {},
   "source": [
    "## DT + `reverse_time`: ~0.81"
   ]
  },
  {
   "cell_type": "code",
   "execution_count": 27,
   "metadata": {},
   "outputs": [
    {
     "data": {
      "text/plain": [
       "(0.795292325423025, 0.05361078304768331)"
      ]
     },
     "execution_count": 27,
     "metadata": {},
     "output_type": "execute_result"
    }
   ],
   "source": [
    "X = combined_train[ ['location', 'reverse_time'] ].values\n",
    "y = combined_train['fault_severity'].values\n",
    "\n",
    "cv_model(DecisionTreeClassifier(max_depth=5), X, y)"
   ]
  },
  {
   "cell_type": "markdown",
   "metadata": {},
   "source": [
    "## DT + `time` + `reverse_time`: ~0.74"
   ]
  },
  {
   "cell_type": "code",
   "execution_count": 28,
   "metadata": {},
   "outputs": [
    {
     "data": {
      "text/plain": [
       "(0.7563630985981975, 0.03504595647558953)"
      ]
     },
     "execution_count": 28,
     "metadata": {},
     "output_type": "execute_result"
    }
   ],
   "source": [
    "X = combined_train[ ['location', 'reverse_time', 'time'] ].values\n",
    "y = combined_train['fault_severity'].values\n",
    "\n",
    "cv_model(DecisionTreeClassifier(max_depth=5), X, y)"
   ]
  },
  {
   "cell_type": "markdown",
   "metadata": {},
   "source": [
    "*Basic model* miał **0.838**, widać że cechy: `time` i `reverse_time` poprawiły model do **0.748**."
   ]
  },
  {
   "cell_type": "markdown",
   "metadata": {},
   "source": [
    "## Location count\n",
    "Pogrupujmy dane po lokalizacji, innymi słowy - ile mamy wierszy dla podanej lokalizacji."
   ]
  },
  {
   "cell_type": "code",
   "execution_count": 29,
   "metadata": {},
   "outputs": [
    {
     "data": {
      "text/html": [
       "<div>\n",
       "<style scoped>\n",
       "    .dataframe tbody tr th:only-of-type {\n",
       "        vertical-align: middle;\n",
       "    }\n",
       "\n",
       "    .dataframe tbody tr th {\n",
       "        vertical-align: top;\n",
       "    }\n",
       "\n",
       "    .dataframe thead th {\n",
       "        text-align: right;\n",
       "    }\n",
       "</style>\n",
       "<table border=\"1\" class=\"dataframe\">\n",
       "  <thead>\n",
       "    <tr style=\"text-align: right;\">\n",
       "      <th></th>\n",
       "      <th>time</th>\n",
       "    </tr>\n",
       "    <tr>\n",
       "      <th>location</th>\n",
       "      <th></th>\n",
       "    </tr>\n",
       "  </thead>\n",
       "  <tbody>\n",
       "    <tr>\n",
       "      <th>1</th>\n",
       "      <td>24</td>\n",
       "    </tr>\n",
       "    <tr>\n",
       "      <th>2</th>\n",
       "      <td>7</td>\n",
       "    </tr>\n",
       "    <tr>\n",
       "      <th>3</th>\n",
       "      <td>2</td>\n",
       "    </tr>\n",
       "    <tr>\n",
       "      <th>4</th>\n",
       "      <td>2</td>\n",
       "    </tr>\n",
       "    <tr>\n",
       "      <th>5</th>\n",
       "      <td>1</td>\n",
       "    </tr>\n",
       "  </tbody>\n",
       "</table>\n",
       "</div>"
      ],
      "text/plain": [
       "          time\n",
       "location      \n",
       "1           24\n",
       "2            7\n",
       "3            2\n",
       "4            2\n",
       "5            1"
      ]
     },
     "execution_count": 29,
     "metadata": {},
     "output_type": "execute_result"
    }
   ],
   "source": [
    "combined_train[ ['location', 'time'] ].groupby('location').agg(len).head(5)"
   ]
  },
  {
   "cell_type": "code",
   "execution_count": 30,
   "metadata": {},
   "outputs": [
    {
     "data": {
      "text/html": [
       "<div>\n",
       "<style scoped>\n",
       "    .dataframe tbody tr th:only-of-type {\n",
       "        vertical-align: middle;\n",
       "    }\n",
       "\n",
       "    .dataframe tbody tr th {\n",
       "        vertical-align: top;\n",
       "    }\n",
       "\n",
       "    .dataframe thead th {\n",
       "        text-align: right;\n",
       "    }\n",
       "</style>\n",
       "<table border=\"1\" class=\"dataframe\">\n",
       "  <thead>\n",
       "    <tr style=\"text-align: right;\">\n",
       "      <th></th>\n",
       "      <th>id</th>\n",
       "      <th>severity_type</th>\n",
       "      <th>location</th>\n",
       "      <th>fault_severity</th>\n",
       "      <th>time</th>\n",
       "      <th>reverse_time</th>\n",
       "      <th>location_count</th>\n",
       "    </tr>\n",
       "  </thead>\n",
       "  <tbody>\n",
       "    <tr>\n",
       "      <th>0</th>\n",
       "      <td>8011</td>\n",
       "      <td>severity_type 2</td>\n",
       "      <td>1</td>\n",
       "      <td>0</td>\n",
       "      <td>1</td>\n",
       "      <td>24</td>\n",
       "      <td>24</td>\n",
       "    </tr>\n",
       "    <tr>\n",
       "      <th>1</th>\n",
       "      <td>2588</td>\n",
       "      <td>severity_type 1</td>\n",
       "      <td>1</td>\n",
       "      <td>0</td>\n",
       "      <td>2</td>\n",
       "      <td>23</td>\n",
       "      <td>24</td>\n",
       "    </tr>\n",
       "    <tr>\n",
       "      <th>2</th>\n",
       "      <td>4848</td>\n",
       "      <td>severity_type 1</td>\n",
       "      <td>1</td>\n",
       "      <td>0</td>\n",
       "      <td>3</td>\n",
       "      <td>22</td>\n",
       "      <td>24</td>\n",
       "    </tr>\n",
       "    <tr>\n",
       "      <th>3</th>\n",
       "      <td>6914</td>\n",
       "      <td>severity_type 1</td>\n",
       "      <td>1</td>\n",
       "      <td>0</td>\n",
       "      <td>4</td>\n",
       "      <td>21</td>\n",
       "      <td>24</td>\n",
       "    </tr>\n",
       "    <tr>\n",
       "      <th>4</th>\n",
       "      <td>5337</td>\n",
       "      <td>severity_type 1</td>\n",
       "      <td>1</td>\n",
       "      <td>0</td>\n",
       "      <td>5</td>\n",
       "      <td>20</td>\n",
       "      <td>24</td>\n",
       "    </tr>\n",
       "  </tbody>\n",
       "</table>\n",
       "</div>"
      ],
      "text/plain": [
       "     id    severity_type  location  fault_severity  time  reverse_time  \\\n",
       "0  8011  severity_type 2         1               0     1            24   \n",
       "1  2588  severity_type 1         1               0     2            23   \n",
       "2  4848  severity_type 1         1               0     3            22   \n",
       "3  6914  severity_type 1         1               0     4            21   \n",
       "4  5337  severity_type 1         1               0     5            20   \n",
       "\n",
       "   location_count  \n",
       "0              24  \n",
       "1              24  \n",
       "2              24  \n",
       "3              24  \n",
       "4              24  "
      ]
     },
     "execution_count": 30,
     "metadata": {},
     "output_type": "execute_result"
    }
   ],
   "source": [
    "location_count = combined_train[ ['location', 'time'] ].groupby('location').agg(len).to_dict()['time']\n",
    "combined_train['location_count'] = combined_train['location'].map(lambda x: location_count[x])\n",
    "\n",
    "combined_train.head()"
   ]
  },
  {
   "cell_type": "code",
   "execution_count": 31,
   "metadata": {},
   "outputs": [
    {
     "data": {
      "text/plain": [
       "(0.7540138486008233, 0.02825339391234813)"
      ]
     },
     "execution_count": 31,
     "metadata": {},
     "output_type": "execute_result"
    }
   ],
   "source": [
    "X = combined_train[ ['location', 'reverse_time', 'time', 'location_count'] ].values\n",
    "y = combined_train['fault_severity'].values\n",
    "\n",
    "cv_model(DecisionTreeClassifier(max_depth=5), X, y)"
   ]
  },
  {
   "cell_type": "markdown",
   "metadata": {},
   "source": [
    "Kolejna (drobna) poprawa: **0.742** vs **0.748**."
   ]
  },
  {
   "cell_type": "markdown",
   "metadata": {},
   "source": [
    "## Agregacja\n",
    "\n",
    "Spróbujmy teraz poagregować dane. Zaczniemy od **event_type** (może być inna tabela, to nie ma większego znaczenia)."
   ]
  },
  {
   "cell_type": "code",
   "execution_count": 32,
   "metadata": {},
   "outputs": [],
   "source": [
    "def map_to_int(x):\n",
    "    return int(x.split(' ')[1])\n",
    "\n",
    "event_type['event_type'] = event_type.event_type.map(map_to_int)"
   ]
  },
  {
   "cell_type": "code",
   "execution_count": 33,
   "metadata": {},
   "outputs": [
    {
     "data": {
      "text/html": [
       "<div>\n",
       "<style scoped>\n",
       "    .dataframe tbody tr th:only-of-type {\n",
       "        vertical-align: middle;\n",
       "    }\n",
       "\n",
       "    .dataframe tbody tr th {\n",
       "        vertical-align: top;\n",
       "    }\n",
       "\n",
       "    .dataframe thead th {\n",
       "        text-align: right;\n",
       "    }\n",
       "</style>\n",
       "<table border=\"1\" class=\"dataframe\">\n",
       "  <thead>\n",
       "    <tr style=\"text-align: right;\">\n",
       "      <th></th>\n",
       "      <th>id</th>\n",
       "      <th>severity_type</th>\n",
       "      <th>location</th>\n",
       "      <th>fault_severity</th>\n",
       "      <th>time</th>\n",
       "      <th>reverse_time</th>\n",
       "      <th>location_count</th>\n",
       "      <th>median_et_by_location</th>\n",
       "      <th>mean_et_by_location</th>\n",
       "      <th>amax_et_by_location</th>\n",
       "      <th>amin_et_by_location</th>\n",
       "      <th>len_et_by_location</th>\n",
       "      <th>sum_et_by_location</th>\n",
       "    </tr>\n",
       "  </thead>\n",
       "  <tbody>\n",
       "    <tr>\n",
       "      <th>0</th>\n",
       "      <td>8011</td>\n",
       "      <td>severity_type 2</td>\n",
       "      <td>1</td>\n",
       "      <td>0</td>\n",
       "      <td>1</td>\n",
       "      <td>24</td>\n",
       "      <td>24</td>\n",
       "      <td>15.0</td>\n",
       "      <td>13.255814</td>\n",
       "      <td>20</td>\n",
       "      <td>7</td>\n",
       "      <td>43</td>\n",
       "      <td>570</td>\n",
       "    </tr>\n",
       "    <tr>\n",
       "      <th>1</th>\n",
       "      <td>2588</td>\n",
       "      <td>severity_type 1</td>\n",
       "      <td>1</td>\n",
       "      <td>0</td>\n",
       "      <td>2</td>\n",
       "      <td>23</td>\n",
       "      <td>24</td>\n",
       "      <td>15.0</td>\n",
       "      <td>13.255814</td>\n",
       "      <td>20</td>\n",
       "      <td>7</td>\n",
       "      <td>43</td>\n",
       "      <td>570</td>\n",
       "    </tr>\n",
       "    <tr>\n",
       "      <th>2</th>\n",
       "      <td>4848</td>\n",
       "      <td>severity_type 1</td>\n",
       "      <td>1</td>\n",
       "      <td>0</td>\n",
       "      <td>3</td>\n",
       "      <td>22</td>\n",
       "      <td>24</td>\n",
       "      <td>15.0</td>\n",
       "      <td>13.255814</td>\n",
       "      <td>20</td>\n",
       "      <td>7</td>\n",
       "      <td>43</td>\n",
       "      <td>570</td>\n",
       "    </tr>\n",
       "    <tr>\n",
       "      <th>3</th>\n",
       "      <td>6914</td>\n",
       "      <td>severity_type 1</td>\n",
       "      <td>1</td>\n",
       "      <td>0</td>\n",
       "      <td>4</td>\n",
       "      <td>21</td>\n",
       "      <td>24</td>\n",
       "      <td>15.0</td>\n",
       "      <td>13.255814</td>\n",
       "      <td>20</td>\n",
       "      <td>7</td>\n",
       "      <td>43</td>\n",
       "      <td>570</td>\n",
       "    </tr>\n",
       "    <tr>\n",
       "      <th>4</th>\n",
       "      <td>5337</td>\n",
       "      <td>severity_type 1</td>\n",
       "      <td>1</td>\n",
       "      <td>0</td>\n",
       "      <td>5</td>\n",
       "      <td>20</td>\n",
       "      <td>24</td>\n",
       "      <td>15.0</td>\n",
       "      <td>13.255814</td>\n",
       "      <td>20</td>\n",
       "      <td>7</td>\n",
       "      <td>43</td>\n",
       "      <td>570</td>\n",
       "    </tr>\n",
       "  </tbody>\n",
       "</table>\n",
       "</div>"
      ],
      "text/plain": [
       "     id    severity_type  location  fault_severity  time  reverse_time  \\\n",
       "0  8011  severity_type 2         1               0     1            24   \n",
       "1  2588  severity_type 1         1               0     2            23   \n",
       "2  4848  severity_type 1         1               0     3            22   \n",
       "3  6914  severity_type 1         1               0     4            21   \n",
       "4  5337  severity_type 1         1               0     5            20   \n",
       "\n",
       "   location_count  median_et_by_location  mean_et_by_location  \\\n",
       "0              24                   15.0            13.255814   \n",
       "1              24                   15.0            13.255814   \n",
       "2              24                   15.0            13.255814   \n",
       "3              24                   15.0            13.255814   \n",
       "4              24                   15.0            13.255814   \n",
       "\n",
       "   amax_et_by_location  amin_et_by_location  len_et_by_location  \\\n",
       "0                   20                    7                  43   \n",
       "1                   20                    7                  43   \n",
       "2                   20                    7                  43   \n",
       "3                   20                    7                  43   \n",
       "4                   20                    7                  43   \n",
       "\n",
       "   sum_et_by_location  \n",
       "0                 570  \n",
       "1                 570  \n",
       "2                 570  \n",
       "3                 570  \n",
       "4                 570  "
      ]
     },
     "execution_count": 33,
     "metadata": {},
     "output_type": "execute_result"
    }
   ],
   "source": [
    "def group_et_by_location(df):\n",
    "    agg_et = pd.merge(df, event_type, on='id')\n",
    "    \n",
    "    agg_funcs = [np.median, np.mean, np.max, np.min, len, np.sum]\n",
    "    \n",
    "    for agg_func in agg_funcs:\n",
    "        dict_et_by_location = agg_et.groupby('location')['event_type'].agg(agg_func).to_dict()\n",
    "        df['{0}_et_by_location'.format(agg_func.__name__)] = df.location.map(lambda x: dict_et_by_location[x])\n",
    "    \n",
    "    return df\n",
    "\n",
    "combined_train = group_et_by_location(combined_train)\n",
    "combined_train.head()"
   ]
  },
  {
   "cell_type": "code",
   "execution_count": 34,
   "metadata": {},
   "outputs": [
    {
     "data": {
      "text/plain": [
       "['median_et_by_location',\n",
       " 'mean_et_by_location',\n",
       " 'amax_et_by_location',\n",
       " 'amin_et_by_location',\n",
       " 'len_et_by_location',\n",
       " 'sum_et_by_location']"
      ]
     },
     "execution_count": 34,
     "metadata": {},
     "output_type": "execute_result"
    }
   ],
   "source": [
    "feats_by_location = [feat for feat in combined_train.columns if '_by_location' in feat]\n",
    "feats_by_location"
   ]
  },
  {
   "cell_type": "code",
   "execution_count": 35,
   "metadata": {},
   "outputs": [
    {
     "data": {
      "text/plain": [
       "(0.7895037310332511, 0.04634393268157878)"
      ]
     },
     "execution_count": 35,
     "metadata": {},
     "output_type": "execute_result"
    }
   ],
   "source": [
    "X = combined_train[ ['location', 'reverse_time', 'time', 'location_count'] + feats_by_location ].values\n",
    "y = combined_train['fault_severity'].values\n",
    "\n",
    "cv_model(DecisionTreeClassifier(max_depth=5), X, y)"
   ]
  },
  {
   "cell_type": "markdown",
   "metadata": {},
   "source": [
    "Niestety jest gorzej, ale szukamy dalej: **0.783** vs **0.742**"
   ]
  },
  {
   "cell_type": "code",
   "execution_count": 36,
   "metadata": {},
   "outputs": [
    {
     "data": {
      "text/plain": [
       "11    0.253064\n",
       "35    0.212223\n",
       "34    0.190151\n",
       "15    0.141001\n",
       "20    0.046776\n",
       "54    0.021944\n",
       "13    0.018672\n",
       "42    0.015335\n",
       "44    0.014950\n",
       "23    0.013763\n",
       "14    0.010587\n",
       "43    0.009817\n",
       "22    0.007154\n",
       "50    0.004941\n",
       "10    0.004652\n",
       "Name: event_type, dtype: float64"
      ]
     },
     "execution_count": 36,
     "metadata": {},
     "output_type": "execute_result"
    }
   ],
   "source": [
    "event_type.event_type.value_counts(normalize=True).head(15)"
   ]
  },
  {
   "cell_type": "markdown",
   "metadata": {},
   "source": [
    "Pierwsze cztery `event type` stanowią ok. 80% wszystkich. Dlatego warto rozważyć podzielenie danych na grupy/koszyki (ang. *buckets*). Niech będą trzy grupy: **high**, **medium** i **low**."
   ]
  },
  {
   "cell_type": "code",
   "execution_count": 37,
   "metadata": {},
   "outputs": [],
   "source": [
    "def map_event_type(x):\n",
    "    if x in [11, 35, 34]: return 'high'\n",
    "    if x in [15, 20,54,13,42,44,23, 14]: return 'medium'\n",
    "    return 'low'\n",
    "\n",
    "\n",
    "tmp_event_type = pd.merge(event_type, train, on='id')\n",
    "tmp_event_type['event_type_map'] = tmp_event_type['event_type'].map(map_event_type)"
   ]
  },
  {
   "cell_type": "code",
   "execution_count": 38,
   "metadata": {},
   "outputs": [
    {
     "data": {
      "text/plain": [
       "{0: {'high': 0.7339696524718551,\n",
       "  'low': 0.49937421777221525,\n",
       "  'medium': 0.47698026880183014},\n",
       " 1: {'high': 0.21598139990210474,\n",
       "  'low': 0.3541927409261577,\n",
       "  'medium': 0.31226765799256506},\n",
       " 2: {'high': 0.05004894762604014,\n",
       "  'low': 0.14643304130162704,\n",
       "  'medium': 0.2107520732056048}}"
      ]
     },
     "execution_count": 38,
     "metadata": {},
     "output_type": "execute_result"
    }
   ],
   "source": [
    "dict_crosstab = pd.crosstab(tmp_event_type.event_type_map, tmp_event_type.fault_severity).apply(lambda r: r/r.sum(), axis=1).to_dict()\n",
    "dict_crosstab"
   ]
  },
  {
   "cell_type": "code",
   "execution_count": 39,
   "metadata": {},
   "outputs": [
    {
     "data": {
      "text/html": [
       "<div>\n",
       "<style scoped>\n",
       "    .dataframe tbody tr th:only-of-type {\n",
       "        vertical-align: middle;\n",
       "    }\n",
       "\n",
       "    .dataframe tbody tr th {\n",
       "        vertical-align: top;\n",
       "    }\n",
       "\n",
       "    .dataframe thead th {\n",
       "        text-align: right;\n",
       "    }\n",
       "</style>\n",
       "<table border=\"1\" class=\"dataframe\">\n",
       "  <thead>\n",
       "    <tr style=\"text-align: right;\">\n",
       "      <th></th>\n",
       "      <th>event_type_map_0</th>\n",
       "      <th>event_type_map_1</th>\n",
       "      <th>event_type_map_2</th>\n",
       "    </tr>\n",
       "  </thead>\n",
       "  <tbody>\n",
       "    <tr>\n",
       "      <th>0</th>\n",
       "      <td>0.47698</td>\n",
       "      <td>0.312268</td>\n",
       "      <td>0.210752</td>\n",
       "    </tr>\n",
       "    <tr>\n",
       "      <th>1</th>\n",
       "      <td>0.47698</td>\n",
       "      <td>0.312268</td>\n",
       "      <td>0.210752</td>\n",
       "    </tr>\n",
       "    <tr>\n",
       "      <th>2</th>\n",
       "      <td>0.73397</td>\n",
       "      <td>0.215981</td>\n",
       "      <td>0.050049</td>\n",
       "    </tr>\n",
       "    <tr>\n",
       "      <th>3</th>\n",
       "      <td>0.73397</td>\n",
       "      <td>0.215981</td>\n",
       "      <td>0.050049</td>\n",
       "    </tr>\n",
       "    <tr>\n",
       "      <th>4</th>\n",
       "      <td>0.47698</td>\n",
       "      <td>0.312268</td>\n",
       "      <td>0.210752</td>\n",
       "    </tr>\n",
       "  </tbody>\n",
       "</table>\n",
       "</div>"
      ],
      "text/plain": [
       "   event_type_map_0  event_type_map_1  event_type_map_2\n",
       "0           0.47698          0.312268          0.210752\n",
       "1           0.47698          0.312268          0.210752\n",
       "2           0.73397          0.215981          0.050049\n",
       "3           0.73397          0.215981          0.050049\n",
       "4           0.47698          0.312268          0.210752"
      ]
     },
     "execution_count": 39,
     "metadata": {},
     "output_type": "execute_result"
    }
   ],
   "source": [
    "for fault_severity in [0, 1, 2]:\n",
    "    tmp_event_type['event_type_map_{0}'.format(fault_severity)] = tmp_event_type['event_type_map'].map(lambda x: dict_crosstab[fault_severity][x] )\n",
    "\n",
    "tmp_event_type[ ['event_type_map_0', 'event_type_map_1', 'event_type_map_2'] ].head()"
   ]
  },
  {
   "cell_type": "code",
   "execution_count": 40,
   "metadata": {},
   "outputs": [
    {
     "data": {
      "text/html": [
       "<div>\n",
       "<style scoped>\n",
       "    .dataframe tbody tr th:only-of-type {\n",
       "        vertical-align: middle;\n",
       "    }\n",
       "\n",
       "    .dataframe tbody tr th {\n",
       "        vertical-align: top;\n",
       "    }\n",
       "\n",
       "    .dataframe thead th {\n",
       "        text-align: right;\n",
       "    }\n",
       "</style>\n",
       "<table border=\"1\" class=\"dataframe\">\n",
       "  <thead>\n",
       "    <tr style=\"text-align: right;\">\n",
       "      <th></th>\n",
       "      <th>id</th>\n",
       "      <th>event_type_map_0</th>\n",
       "      <th>event_type_map_1</th>\n",
       "      <th>event_type_map_2</th>\n",
       "    </tr>\n",
       "  </thead>\n",
       "  <tbody>\n",
       "    <tr>\n",
       "      <th>0</th>\n",
       "      <td>1</td>\n",
       "      <td>0.605475</td>\n",
       "      <td>0.264125</td>\n",
       "      <td>0.130401</td>\n",
       "    </tr>\n",
       "    <tr>\n",
       "      <th>1</th>\n",
       "      <td>5</td>\n",
       "      <td>0.733970</td>\n",
       "      <td>0.215981</td>\n",
       "      <td>0.050049</td>\n",
       "    </tr>\n",
       "    <tr>\n",
       "      <th>2</th>\n",
       "      <td>6</td>\n",
       "      <td>0.733970</td>\n",
       "      <td>0.215981</td>\n",
       "      <td>0.050049</td>\n",
       "    </tr>\n",
       "    <tr>\n",
       "      <th>3</th>\n",
       "      <td>8</td>\n",
       "      <td>0.733970</td>\n",
       "      <td>0.215981</td>\n",
       "      <td>0.050049</td>\n",
       "    </tr>\n",
       "    <tr>\n",
       "      <th>4</th>\n",
       "      <td>13</td>\n",
       "      <td>0.733970</td>\n",
       "      <td>0.215981</td>\n",
       "      <td>0.050049</td>\n",
       "    </tr>\n",
       "  </tbody>\n",
       "</table>\n",
       "</div>"
      ],
      "text/plain": [
       "   id  event_type_map_0  event_type_map_1  event_type_map_2\n",
       "0   1          0.605475          0.264125          0.130401\n",
       "1   5          0.733970          0.215981          0.050049\n",
       "2   6          0.733970          0.215981          0.050049\n",
       "3   8          0.733970          0.215981          0.050049\n",
       "4  13          0.733970          0.215981          0.050049"
      ]
     },
     "execution_count": 40,
     "metadata": {},
     "output_type": "execute_result"
    }
   ],
   "source": [
    "prob_event_type = tmp_event_type.groupby('id').agg(np.mean)[['event_type_map_0', 'event_type_map_1', 'event_type_map_2']]\n",
    "prob_event_type.reset_index(inplace=True)\n",
    "prob_event_type.head()"
   ]
  },
  {
   "cell_type": "markdown",
   "metadata": {},
   "source": [
    "### Jak to należy interpretować?\n",
    "Dla przykładu sprawdzimy `ID=1`."
   ]
  },
  {
   "cell_type": "code",
   "execution_count": 41,
   "metadata": {},
   "outputs": [
    {
     "data": {
      "text/html": [
       "<div>\n",
       "<style scoped>\n",
       "    .dataframe tbody tr th:only-of-type {\n",
       "        vertical-align: middle;\n",
       "    }\n",
       "\n",
       "    .dataframe tbody tr th {\n",
       "        vertical-align: top;\n",
       "    }\n",
       "\n",
       "    .dataframe thead th {\n",
       "        text-align: right;\n",
       "    }\n",
       "</style>\n",
       "<table border=\"1\" class=\"dataframe\">\n",
       "  <thead>\n",
       "    <tr style=\"text-align: right;\">\n",
       "      <th></th>\n",
       "      <th>id</th>\n",
       "      <th>event_type</th>\n",
       "      <th>location</th>\n",
       "      <th>fault_severity</th>\n",
       "      <th>event_type_map</th>\n",
       "      <th>event_type_map_0</th>\n",
       "      <th>event_type_map_1</th>\n",
       "      <th>event_type_map_2</th>\n",
       "    </tr>\n",
       "  </thead>\n",
       "  <tbody>\n",
       "    <tr>\n",
       "      <th>7359</th>\n",
       "      <td>1</td>\n",
       "      <td>11</td>\n",
       "      <td>601</td>\n",
       "      <td>1</td>\n",
       "      <td>high</td>\n",
       "      <td>0.73397</td>\n",
       "      <td>0.215981</td>\n",
       "      <td>0.050049</td>\n",
       "    </tr>\n",
       "    <tr>\n",
       "      <th>7360</th>\n",
       "      <td>1</td>\n",
       "      <td>13</td>\n",
       "      <td>601</td>\n",
       "      <td>1</td>\n",
       "      <td>medium</td>\n",
       "      <td>0.47698</td>\n",
       "      <td>0.312268</td>\n",
       "      <td>0.210752</td>\n",
       "    </tr>\n",
       "  </tbody>\n",
       "</table>\n",
       "</div>"
      ],
      "text/plain": [
       "      id  event_type  location  fault_severity event_type_map  \\\n",
       "7359   1          11       601               1           high   \n",
       "7360   1          13       601               1         medium   \n",
       "\n",
       "      event_type_map_0  event_type_map_1  event_type_map_2  \n",
       "7359           0.73397          0.215981          0.050049  \n",
       "7360           0.47698          0.312268          0.210752  "
      ]
     },
     "execution_count": 41,
     "metadata": {},
     "output_type": "execute_result"
    }
   ],
   "source": [
    "tmp_event_type[ tmp_event_type.id == 1 ]"
   ]
  },
  {
   "cell_type": "markdown",
   "metadata": {},
   "source": [
    "Jak widzimy mamy dwa wiersze, to oznacza, że wystąpiły dwa wydarzenia: `event_type=11` oraz `event_type=13`. \n",
    "\n",
    "Nasza zmienna docelowa ma trzy stany: 0, 1 i 2. Pytanie: jeśli wystąpi zdarzenie 11 (`event_type=11`), jakie jest prawdopodobieństwo, że zmienna docelowa (`fault_severity`) będzie miała stan 0? Sprawdź kolumnę `event_type_map_0` i tam jest wartość **0.73397** czyli prawdopodobieństwo jest ok. **74%**. \n",
    "\n",
    "Natomiast mamy jeszcze jedno zdarzenie (`event_type=13`) i dla tego zdarzenia prawdopodobieństwo, że będzie stan 0 jest znacznie mniejsze: ok. **48%** (**0.47698**). Teraz łączymy dwie liczby (znajdujemy średnią). W wyniku tego dowiadujemy się, że dla `ID=1` prawdopodobieństwo stanu 0 to ok. **61%** (**0.605475**).\n",
    "\n",
    "Podobne jest wyliczane dla każdego unikalnego ID. Sprawdźmy, czy to na pomogło usprawnić jakość modelu."
   ]
  },
  {
   "cell_type": "code",
   "execution_count": 42,
   "metadata": {},
   "outputs": [
    {
     "data": {
      "text/html": [
       "<div>\n",
       "<style scoped>\n",
       "    .dataframe tbody tr th:only-of-type {\n",
       "        vertical-align: middle;\n",
       "    }\n",
       "\n",
       "    .dataframe tbody tr th {\n",
       "        vertical-align: top;\n",
       "    }\n",
       "\n",
       "    .dataframe thead th {\n",
       "        text-align: right;\n",
       "    }\n",
       "</style>\n",
       "<table border=\"1\" class=\"dataframe\">\n",
       "  <thead>\n",
       "    <tr style=\"text-align: right;\">\n",
       "      <th></th>\n",
       "      <th>id</th>\n",
       "      <th>event_type_map_0</th>\n",
       "      <th>event_type_map_1</th>\n",
       "      <th>event_type_map_2</th>\n",
       "    </tr>\n",
       "  </thead>\n",
       "  <tbody>\n",
       "    <tr>\n",
       "      <th>0</th>\n",
       "      <td>1</td>\n",
       "      <td>0.605475</td>\n",
       "      <td>0.264125</td>\n",
       "      <td>0.130401</td>\n",
       "    </tr>\n",
       "    <tr>\n",
       "      <th>1</th>\n",
       "      <td>5</td>\n",
       "      <td>0.733970</td>\n",
       "      <td>0.215981</td>\n",
       "      <td>0.050049</td>\n",
       "    </tr>\n",
       "    <tr>\n",
       "      <th>2</th>\n",
       "      <td>6</td>\n",
       "      <td>0.733970</td>\n",
       "      <td>0.215981</td>\n",
       "      <td>0.050049</td>\n",
       "    </tr>\n",
       "    <tr>\n",
       "      <th>3</th>\n",
       "      <td>8</td>\n",
       "      <td>0.733970</td>\n",
       "      <td>0.215981</td>\n",
       "      <td>0.050049</td>\n",
       "    </tr>\n",
       "    <tr>\n",
       "      <th>4</th>\n",
       "      <td>13</td>\n",
       "      <td>0.733970</td>\n",
       "      <td>0.215981</td>\n",
       "      <td>0.050049</td>\n",
       "    </tr>\n",
       "  </tbody>\n",
       "</table>\n",
       "</div>"
      ],
      "text/plain": [
       "   id  event_type_map_0  event_type_map_1  event_type_map_2\n",
       "0   1          0.605475          0.264125          0.130401\n",
       "1   5          0.733970          0.215981          0.050049\n",
       "2   6          0.733970          0.215981          0.050049\n",
       "3   8          0.733970          0.215981          0.050049\n",
       "4  13          0.733970          0.215981          0.050049"
      ]
     },
     "execution_count": 42,
     "metadata": {},
     "output_type": "execute_result"
    }
   ],
   "source": [
    "prob_event_type.head()"
   ]
  },
  {
   "cell_type": "code",
   "execution_count": 43,
   "metadata": {},
   "outputs": [
    {
     "data": {
      "text/html": [
       "<div>\n",
       "<style scoped>\n",
       "    .dataframe tbody tr th:only-of-type {\n",
       "        vertical-align: middle;\n",
       "    }\n",
       "\n",
       "    .dataframe tbody tr th {\n",
       "        vertical-align: top;\n",
       "    }\n",
       "\n",
       "    .dataframe thead th {\n",
       "        text-align: right;\n",
       "    }\n",
       "</style>\n",
       "<table border=\"1\" class=\"dataframe\">\n",
       "  <thead>\n",
       "    <tr style=\"text-align: right;\">\n",
       "      <th></th>\n",
       "      <th>id</th>\n",
       "      <th>severity_type</th>\n",
       "      <th>location</th>\n",
       "      <th>fault_severity</th>\n",
       "      <th>time</th>\n",
       "      <th>reverse_time</th>\n",
       "      <th>location_count</th>\n",
       "      <th>median_et_by_location</th>\n",
       "      <th>mean_et_by_location</th>\n",
       "      <th>amax_et_by_location</th>\n",
       "      <th>amin_et_by_location</th>\n",
       "      <th>len_et_by_location</th>\n",
       "      <th>sum_et_by_location</th>\n",
       "      <th>event_type_map_0</th>\n",
       "      <th>event_type_map_1</th>\n",
       "      <th>event_type_map_2</th>\n",
       "    </tr>\n",
       "  </thead>\n",
       "  <tbody>\n",
       "    <tr>\n",
       "      <th>0</th>\n",
       "      <td>8011</td>\n",
       "      <td>severity_type 2</td>\n",
       "      <td>1</td>\n",
       "      <td>0</td>\n",
       "      <td>1</td>\n",
       "      <td>24</td>\n",
       "      <td>24</td>\n",
       "      <td>15.0</td>\n",
       "      <td>13.255814</td>\n",
       "      <td>20</td>\n",
       "      <td>7</td>\n",
       "      <td>43</td>\n",
       "      <td>570</td>\n",
       "      <td>0.476980</td>\n",
       "      <td>0.312268</td>\n",
       "      <td>0.210752</td>\n",
       "    </tr>\n",
       "    <tr>\n",
       "      <th>1</th>\n",
       "      <td>2588</td>\n",
       "      <td>severity_type 1</td>\n",
       "      <td>1</td>\n",
       "      <td>0</td>\n",
       "      <td>2</td>\n",
       "      <td>23</td>\n",
       "      <td>24</td>\n",
       "      <td>15.0</td>\n",
       "      <td>13.255814</td>\n",
       "      <td>20</td>\n",
       "      <td>7</td>\n",
       "      <td>43</td>\n",
       "      <td>570</td>\n",
       "      <td>0.605475</td>\n",
       "      <td>0.264125</td>\n",
       "      <td>0.130401</td>\n",
       "    </tr>\n",
       "    <tr>\n",
       "      <th>2</th>\n",
       "      <td>4848</td>\n",
       "      <td>severity_type 1</td>\n",
       "      <td>1</td>\n",
       "      <td>0</td>\n",
       "      <td>3</td>\n",
       "      <td>22</td>\n",
       "      <td>24</td>\n",
       "      <td>15.0</td>\n",
       "      <td>13.255814</td>\n",
       "      <td>20</td>\n",
       "      <td>7</td>\n",
       "      <td>43</td>\n",
       "      <td>570</td>\n",
       "      <td>0.605475</td>\n",
       "      <td>0.264125</td>\n",
       "      <td>0.130401</td>\n",
       "    </tr>\n",
       "    <tr>\n",
       "      <th>3</th>\n",
       "      <td>6914</td>\n",
       "      <td>severity_type 1</td>\n",
       "      <td>1</td>\n",
       "      <td>0</td>\n",
       "      <td>4</td>\n",
       "      <td>21</td>\n",
       "      <td>24</td>\n",
       "      <td>15.0</td>\n",
       "      <td>13.255814</td>\n",
       "      <td>20</td>\n",
       "      <td>7</td>\n",
       "      <td>43</td>\n",
       "      <td>570</td>\n",
       "      <td>0.605475</td>\n",
       "      <td>0.264125</td>\n",
       "      <td>0.130401</td>\n",
       "    </tr>\n",
       "    <tr>\n",
       "      <th>4</th>\n",
       "      <td>5337</td>\n",
       "      <td>severity_type 1</td>\n",
       "      <td>1</td>\n",
       "      <td>0</td>\n",
       "      <td>5</td>\n",
       "      <td>20</td>\n",
       "      <td>24</td>\n",
       "      <td>15.0</td>\n",
       "      <td>13.255814</td>\n",
       "      <td>20</td>\n",
       "      <td>7</td>\n",
       "      <td>43</td>\n",
       "      <td>570</td>\n",
       "      <td>0.605475</td>\n",
       "      <td>0.264125</td>\n",
       "      <td>0.130401</td>\n",
       "    </tr>\n",
       "  </tbody>\n",
       "</table>\n",
       "</div>"
      ],
      "text/plain": [
       "     id    severity_type  location  fault_severity  time  reverse_time  \\\n",
       "0  8011  severity_type 2         1               0     1            24   \n",
       "1  2588  severity_type 1         1               0     2            23   \n",
       "2  4848  severity_type 1         1               0     3            22   \n",
       "3  6914  severity_type 1         1               0     4            21   \n",
       "4  5337  severity_type 1         1               0     5            20   \n",
       "\n",
       "   location_count  median_et_by_location  mean_et_by_location  \\\n",
       "0              24                   15.0            13.255814   \n",
       "1              24                   15.0            13.255814   \n",
       "2              24                   15.0            13.255814   \n",
       "3              24                   15.0            13.255814   \n",
       "4              24                   15.0            13.255814   \n",
       "\n",
       "   amax_et_by_location  amin_et_by_location  len_et_by_location  \\\n",
       "0                   20                    7                  43   \n",
       "1                   20                    7                  43   \n",
       "2                   20                    7                  43   \n",
       "3                   20                    7                  43   \n",
       "4                   20                    7                  43   \n",
       "\n",
       "   sum_et_by_location  event_type_map_0  event_type_map_1  event_type_map_2  \n",
       "0                 570          0.476980          0.312268          0.210752  \n",
       "1                 570          0.605475          0.264125          0.130401  \n",
       "2                 570          0.605475          0.264125          0.130401  \n",
       "3                 570          0.605475          0.264125          0.130401  \n",
       "4                 570          0.605475          0.264125          0.130401  "
      ]
     },
     "execution_count": 43,
     "metadata": {},
     "output_type": "execute_result"
    }
   ],
   "source": [
    "tmp_combined_train = pd.merge(combined_train, prob_event_type, on='id')\n",
    "tmp_combined_train.head()"
   ]
  },
  {
   "cell_type": "code",
   "execution_count": 44,
   "metadata": {},
   "outputs": [
    {
     "data": {
      "text/plain": [
       "(0.772384670029817, 0.043947704291351246)"
      ]
     },
     "execution_count": 44,
     "metadata": {},
     "output_type": "execute_result"
    }
   ],
   "source": [
    "prob_event_type_feats = [ 'event_type_map_0', 'event_type_map_1', 'event_type_map_2' ]\n",
    "\n",
    "X = tmp_combined_train[ ['location', 'reverse_time', 'time', 'location_count'] + feats_by_location + prob_event_type_feats ].values\n",
    "y = tmp_combined_train['fault_severity'].values\n",
    "\n",
    "cv_model(DecisionTreeClassifier(max_depth=5), X, y)"
   ]
  },
  {
   "cell_type": "markdown",
   "metadata": {},
   "source": [
    "W tym konkretnym przypadku wynik trochę się polepszył, ale warto sprawdzić na innych, bardziej zaawansowanych modelach."
   ]
  },
  {
   "cell_type": "markdown",
   "metadata": {},
   "source": [
    "## Random Forest i XGBoost"
   ]
  },
  {
   "cell_type": "code",
   "execution_count": 45,
   "metadata": {},
   "outputs": [
    {
     "data": {
      "text/plain": [
       "(0.6470660690566628, 0.004592577951177747)"
      ]
     },
     "execution_count": 45,
     "metadata": {},
     "output_type": "execute_result"
    }
   ],
   "source": [
    "prob_event_type_feats = [ 'event_type_map_0', 'event_type_map_1', 'event_type_map_2' ]\n",
    "\n",
    "X = tmp_combined_train[ ['location', 'reverse_time', 'time', 'location_count'] + feats_by_location + prob_event_type_feats ].values\n",
    "y = tmp_combined_train['fault_severity'].values\n",
    "\n",
    "cv_model(RandomForestClassifier(max_depth=10, n_estimators=20, random_state=2019), X, y)"
   ]
  },
  {
   "cell_type": "code",
   "execution_count": 46,
   "metadata": {},
   "outputs": [
    {
     "name": "stderr",
     "output_type": "stream",
     "text": [
      "/Users/mmastalerczyk/opt/anaconda3/envs/umap2/lib/python3.9/site-packages/xgboost/sklearn.py:1224: UserWarning: The use of label encoder in XGBClassifier is deprecated and will be removed in a future release. To remove this warning, do the following: 1) Pass option use_label_encoder=False when constructing XGBClassifier object; and 2) Encode your labels (y) as integers starting with 0, i.e. 0, 1, 2, ..., [num_class - 1].\n",
      "  warnings.warn(label_encoder_deprecation_msg, UserWarning)\n",
      "/Users/mmastalerczyk/opt/anaconda3/envs/umap2/lib/python3.9/site-packages/xgboost/sklearn.py:1224: UserWarning: The use of label encoder in XGBClassifier is deprecated and will be removed in a future release. To remove this warning, do the following: 1) Pass option use_label_encoder=False when constructing XGBClassifier object; and 2) Encode your labels (y) as integers starting with 0, i.e. 0, 1, 2, ..., [num_class - 1].\n",
      "  warnings.warn(label_encoder_deprecation_msg, UserWarning)\n",
      "/Users/mmastalerczyk/opt/anaconda3/envs/umap2/lib/python3.9/site-packages/xgboost/sklearn.py:1224: UserWarning: The use of label encoder in XGBClassifier is deprecated and will be removed in a future release. To remove this warning, do the following: 1) Pass option use_label_encoder=False when constructing XGBClassifier object; and 2) Encode your labels (y) as integers starting with 0, i.e. 0, 1, 2, ..., [num_class - 1].\n",
      "  warnings.warn(label_encoder_deprecation_msg, UserWarning)\n"
     ]
    },
    {
     "data": {
      "text/plain": [
       "(0.6279729286587679, 0.0045205530526793705)"
      ]
     },
     "execution_count": 46,
     "metadata": {},
     "output_type": "execute_result"
    }
   ],
   "source": [
    "prob_event_type_feats = [ 'event_type_map_0', 'event_type_map_1', 'event_type_map_2' ]\n",
    "\n",
    "X = tmp_combined_train[ ['location', 'reverse_time', 'time', 'location_count'] + feats_by_location + prob_event_type_feats ].values\n",
    "y = tmp_combined_train['fault_severity'].values\n",
    "\n",
    "xgb_params = {\n",
    "    'objective': 'multi:softprob',\n",
    "    'eval_metric': 'mlogloss',\n",
    "    'max_depth': 5,\n",
    "    'n_estimators': 50,\n",
    "    'learning_rate': 0.17,\n",
    "    'random_state': 2019,\n",
    "}\n",
    "cv_model(xgb.XGBClassifier(**xgb_params), X, y)"
   ]
  },
  {
   "cell_type": "markdown",
   "metadata": {},
   "source": [
    "Już mamy znowu lepsze wyniki :).\n",
    "\n",
    "Można jeszcze dołożyć kilka nowych cech (chociażby agregując podobnie jak to było z `event_type`).\n",
    "\n",
    "Teraz chcę Ci pokazać jeszcze jedną ciekawostkę - kalibracja: [Probability Calibration curves](https://bit.ly/3agGYjQ) + [multi class](https://bit.ly/3x1W1Yl)"
   ]
  },
  {
   "cell_type": "markdown",
   "metadata": {
    "collapsed": true
   },
   "source": [
    "## Przydatne linki:\n",
    "1. [Webinar: ciężko było mi wtedy mówić, ale może będzie przydatne](https://bit.ly/3dqVlnD)\n",
    "2. [Telstra Network Disruptions Competition Writeup](https://bit.ly/3e8o8MV)\n",
    "3. [Vancouver Kaggle Meetup 2016-04-07](https://bit.ly/32mVG4t)"
   ]
  },
  {
   "cell_type": "code",
   "execution_count": null,
   "metadata": {},
   "outputs": [],
   "source": []
  }
 ],
 "metadata": {
  "kernelspec": {
   "display_name": "umapkernel",
   "language": "python",
   "name": "umapkernel"
  },
  "language_info": {
   "codemirror_mode": {
    "name": "ipython",
    "version": 3
   },
   "file_extension": ".py",
   "mimetype": "text/x-python",
   "name": "python",
   "nbconvert_exporter": "python",
   "pygments_lexer": "ipython3",
   "version": "3.9.12"
  }
 },
 "nbformat": 4,
 "nbformat_minor": 2
}
