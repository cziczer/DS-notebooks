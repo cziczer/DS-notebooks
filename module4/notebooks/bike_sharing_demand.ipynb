{
 "cells": [
  {
   "cell_type": "markdown",
   "metadata": {
    "collapsed": true
   },
   "source": [
    "# [Bike Sharing Demand](https://bit.ly/3gepGaZ)\n",
    "\n",
    "\n",
    "### Celem tej lekcji jest zrobienie predykcji popytu na rowery dla danej stacji o danej godzinie."
   ]
  },
  {
   "cell_type": "code",
   "execution_count": 2,
   "metadata": {},
   "outputs": [
    {
     "name": "stderr",
     "output_type": "stream",
     "text": [
      "/Users/mmastalerczyk/opt/anaconda3/envs/umap2/lib/python3.9/site-packages/xgboost/compat.py:36: FutureWarning: pandas.Int64Index is deprecated and will be removed from pandas in a future version. Use pandas.Index with the appropriate dtype instead.\n",
      "  from pandas import MultiIndex, Int64Index\n"
     ]
    }
   ],
   "source": [
    "import pandas as pd\n",
    "import numpy as np\n",
    "np.random.seed(0)\n",
    "\n",
    "from sklearn.model_selection import GroupKFold\n",
    "\n",
    "from sklearn.dummy import DummyRegressor\n",
    "from sklearn.tree import DecisionTreeRegressor\n",
    "from sklearn.ensemble import RandomForestRegressor, ExtraTreesRegressor\n",
    "\n",
    "from scikitplot.estimators import plot_learning_curve\n",
    "\n",
    "import xgboost as xgb\n",
    "\n",
    "from tqdm import tqdm\n",
    "from collections import defaultdict\n",
    "\n",
    "import matplotlib.pyplot as plt\n",
    "%matplotlib inline"
   ]
  },
  {
   "cell_type": "code",
   "execution_count": 3,
   "metadata": {},
   "outputs": [],
   "source": [
    "def rmsle(actual, predicted):\n",
    "    \"\"\"\n",
    "    Computes the root mean squared log error.\n",
    "    \"\"\"\n",
    "    return np.sqrt(np.mean((np.power(np.log(np.array(actual)+1) - \n",
    "            np.log(np.array(predicted)+1), 2))))\n"
   ]
  },
  {
   "cell_type": "markdown",
   "metadata": {},
   "source": [
    "## Wczytujemy dane\n",
    "Sprawdzamy podstawowe dane."
   ]
  },
  {
   "cell_type": "code",
   "execution_count": 4,
   "metadata": {},
   "outputs": [
    {
     "data": {
      "text/plain": [
       "(10886, 12)"
      ]
     },
     "execution_count": 4,
     "metadata": {},
     "output_type": "execute_result"
    }
   ],
   "source": [
    "train = pd.read_csv('../input/bike.train.csv')\n",
    "train.shape"
   ]
  },
  {
   "cell_type": "code",
   "execution_count": 5,
   "metadata": {},
   "outputs": [
    {
     "name": "stdout",
     "output_type": "stream",
     "text": [
      "<class 'pandas.core.frame.DataFrame'>\n",
      "RangeIndex: 10886 entries, 0 to 10885\n",
      "Data columns (total 12 columns):\n",
      " #   Column      Non-Null Count  Dtype  \n",
      "---  ------      --------------  -----  \n",
      " 0   datetime    10886 non-null  object \n",
      " 1   season      10886 non-null  int64  \n",
      " 2   holiday     10886 non-null  int64  \n",
      " 3   workingday  10886 non-null  int64  \n",
      " 4   weather     10886 non-null  int64  \n",
      " 5   temp        10886 non-null  float64\n",
      " 6   atemp       10886 non-null  float64\n",
      " 7   humidity    10886 non-null  int64  \n",
      " 8   windspeed   10886 non-null  float64\n",
      " 9   casual      10886 non-null  int64  \n",
      " 10  registered  10886 non-null  int64  \n",
      " 11  count       10886 non-null  int64  \n",
      "dtypes: float64(3), int64(8), object(1)\n",
      "memory usage: 1020.7+ KB\n"
     ]
    }
   ],
   "source": [
    "train.info()"
   ]
  },
  {
   "cell_type": "code",
   "execution_count": 6,
   "metadata": {},
   "outputs": [
    {
     "data": {
      "text/html": [
       "<div>\n",
       "<style scoped>\n",
       "    .dataframe tbody tr th:only-of-type {\n",
       "        vertical-align: middle;\n",
       "    }\n",
       "\n",
       "    .dataframe tbody tr th {\n",
       "        vertical-align: top;\n",
       "    }\n",
       "\n",
       "    .dataframe thead th {\n",
       "        text-align: right;\n",
       "    }\n",
       "</style>\n",
       "<table border=\"1\" class=\"dataframe\">\n",
       "  <thead>\n",
       "    <tr style=\"text-align: right;\">\n",
       "      <th></th>\n",
       "      <th>datetime</th>\n",
       "      <th>season</th>\n",
       "      <th>holiday</th>\n",
       "      <th>workingday</th>\n",
       "      <th>weather</th>\n",
       "      <th>temp</th>\n",
       "      <th>atemp</th>\n",
       "      <th>humidity</th>\n",
       "      <th>windspeed</th>\n",
       "      <th>casual</th>\n",
       "      <th>registered</th>\n",
       "      <th>count</th>\n",
       "    </tr>\n",
       "  </thead>\n",
       "  <tbody>\n",
       "    <tr>\n",
       "      <th>6638</th>\n",
       "      <td>2012-03-13 21:00:00</td>\n",
       "      <td>1</td>\n",
       "      <td>0</td>\n",
       "      <td>1</td>\n",
       "      <td>1</td>\n",
       "      <td>23.78</td>\n",
       "      <td>27.275</td>\n",
       "      <td>56</td>\n",
       "      <td>7.0015</td>\n",
       "      <td>44</td>\n",
       "      <td>200</td>\n",
       "      <td>244</td>\n",
       "    </tr>\n",
       "    <tr>\n",
       "      <th>7975</th>\n",
       "      <td>2012-06-12 16:00:00</td>\n",
       "      <td>2</td>\n",
       "      <td>0</td>\n",
       "      <td>1</td>\n",
       "      <td>2</td>\n",
       "      <td>27.06</td>\n",
       "      <td>29.545</td>\n",
       "      <td>89</td>\n",
       "      <td>19.0012</td>\n",
       "      <td>30</td>\n",
       "      <td>209</td>\n",
       "      <td>239</td>\n",
       "    </tr>\n",
       "    <tr>\n",
       "      <th>5915</th>\n",
       "      <td>2012-02-02 16:00:00</td>\n",
       "      <td>1</td>\n",
       "      <td>0</td>\n",
       "      <td>1</td>\n",
       "      <td>1</td>\n",
       "      <td>18.86</td>\n",
       "      <td>22.725</td>\n",
       "      <td>55</td>\n",
       "      <td>19.0012</td>\n",
       "      <td>18</td>\n",
       "      <td>211</td>\n",
       "      <td>229</td>\n",
       "    </tr>\n",
       "    <tr>\n",
       "      <th>8050</th>\n",
       "      <td>2012-06-15 19:00:00</td>\n",
       "      <td>2</td>\n",
       "      <td>0</td>\n",
       "      <td>1</td>\n",
       "      <td>1</td>\n",
       "      <td>28.70</td>\n",
       "      <td>31.820</td>\n",
       "      <td>42</td>\n",
       "      <td>11.0014</td>\n",
       "      <td>98</td>\n",
       "      <td>369</td>\n",
       "      <td>467</td>\n",
       "    </tr>\n",
       "    <tr>\n",
       "      <th>5894</th>\n",
       "      <td>2012-02-01 19:00:00</td>\n",
       "      <td>1</td>\n",
       "      <td>0</td>\n",
       "      <td>1</td>\n",
       "      <td>1</td>\n",
       "      <td>22.14</td>\n",
       "      <td>25.760</td>\n",
       "      <td>52</td>\n",
       "      <td>19.0012</td>\n",
       "      <td>20</td>\n",
       "      <td>315</td>\n",
       "      <td>335</td>\n",
       "    </tr>\n",
       "    <tr>\n",
       "      <th>1466</th>\n",
       "      <td>2011-04-06 23:00:00</td>\n",
       "      <td>2</td>\n",
       "      <td>0</td>\n",
       "      <td>1</td>\n",
       "      <td>1</td>\n",
       "      <td>18.86</td>\n",
       "      <td>22.725</td>\n",
       "      <td>41</td>\n",
       "      <td>19.9995</td>\n",
       "      <td>11</td>\n",
       "      <td>29</td>\n",
       "      <td>40</td>\n",
       "    </tr>\n",
       "    <tr>\n",
       "      <th>10710</th>\n",
       "      <td>2012-12-12 16:00:00</td>\n",
       "      <td>4</td>\n",
       "      <td>0</td>\n",
       "      <td>1</td>\n",
       "      <td>2</td>\n",
       "      <td>13.94</td>\n",
       "      <td>16.665</td>\n",
       "      <td>46</td>\n",
       "      <td>8.9981</td>\n",
       "      <td>19</td>\n",
       "      <td>310</td>\n",
       "      <td>329</td>\n",
       "    </tr>\n",
       "    <tr>\n",
       "      <th>5138</th>\n",
       "      <td>2011-12-08 04:00:00</td>\n",
       "      <td>4</td>\n",
       "      <td>0</td>\n",
       "      <td>1</td>\n",
       "      <td>2</td>\n",
       "      <td>9.84</td>\n",
       "      <td>9.850</td>\n",
       "      <td>60</td>\n",
       "      <td>31.0009</td>\n",
       "      <td>0</td>\n",
       "      <td>2</td>\n",
       "      <td>2</td>\n",
       "    </tr>\n",
       "    <tr>\n",
       "      <th>1726</th>\n",
       "      <td>2011-04-17 20:00:00</td>\n",
       "      <td>2</td>\n",
       "      <td>0</td>\n",
       "      <td>0</td>\n",
       "      <td>1</td>\n",
       "      <td>21.32</td>\n",
       "      <td>25.000</td>\n",
       "      <td>36</td>\n",
       "      <td>12.9980</td>\n",
       "      <td>44</td>\n",
       "      <td>97</td>\n",
       "      <td>141</td>\n",
       "    </tr>\n",
       "    <tr>\n",
       "      <th>3943</th>\n",
       "      <td>2011-09-15 08:00:00</td>\n",
       "      <td>3</td>\n",
       "      <td>0</td>\n",
       "      <td>1</td>\n",
       "      <td>1</td>\n",
       "      <td>26.24</td>\n",
       "      <td>30.305</td>\n",
       "      <td>73</td>\n",
       "      <td>8.9981</td>\n",
       "      <td>27</td>\n",
       "      <td>364</td>\n",
       "      <td>391</td>\n",
       "    </tr>\n",
       "  </tbody>\n",
       "</table>\n",
       "</div>"
      ],
      "text/plain": [
       "                  datetime  season  holiday  workingday  weather   temp  \\\n",
       "6638   2012-03-13 21:00:00       1        0           1        1  23.78   \n",
       "7975   2012-06-12 16:00:00       2        0           1        2  27.06   \n",
       "5915   2012-02-02 16:00:00       1        0           1        1  18.86   \n",
       "8050   2012-06-15 19:00:00       2        0           1        1  28.70   \n",
       "5894   2012-02-01 19:00:00       1        0           1        1  22.14   \n",
       "1466   2011-04-06 23:00:00       2        0           1        1  18.86   \n",
       "10710  2012-12-12 16:00:00       4        0           1        2  13.94   \n",
       "5138   2011-12-08 04:00:00       4        0           1        2   9.84   \n",
       "1726   2011-04-17 20:00:00       2        0           0        1  21.32   \n",
       "3943   2011-09-15 08:00:00       3        0           1        1  26.24   \n",
       "\n",
       "        atemp  humidity  windspeed  casual  registered  count  \n",
       "6638   27.275        56     7.0015      44         200    244  \n",
       "7975   29.545        89    19.0012      30         209    239  \n",
       "5915   22.725        55    19.0012      18         211    229  \n",
       "8050   31.820        42    11.0014      98         369    467  \n",
       "5894   25.760        52    19.0012      20         315    335  \n",
       "1466   22.725        41    19.9995      11          29     40  \n",
       "10710  16.665        46     8.9981      19         310    329  \n",
       "5138    9.850        60    31.0009       0           2      2  \n",
       "1726   25.000        36    12.9980      44          97    141  \n",
       "3943   30.305        73     8.9981      27         364    391  "
      ]
     },
     "execution_count": 6,
     "metadata": {},
     "output_type": "execute_result"
    }
   ],
   "source": [
    "train.sample(10)"
   ]
  },
  {
   "cell_type": "markdown",
   "metadata": {},
   "source": [
    "## **count** - zmienna docelowa\n",
    "Również warto zwrócić uwagę, że **casual** + **registered** = **count** (chociaż warto sprawdzić, czy faktycznie tak jest)."
   ]
  },
  {
   "cell_type": "code",
   "execution_count": 7,
   "metadata": {},
   "outputs": [
    {
     "data": {
      "text/plain": [
       "(0, 12)"
      ]
     },
     "execution_count": 7,
     "metadata": {},
     "output_type": "execute_result"
    }
   ],
   "source": [
    "train[ train['casual'] + train['registered'] != train['count'] ].shape"
   ]
  },
  {
   "cell_type": "markdown",
   "metadata": {},
   "source": [
    "Zgadza się :). To teraz sprawdźmy rozkład."
   ]
  },
  {
   "cell_type": "code",
   "execution_count": 8,
   "metadata": {},
   "outputs": [
    {
     "data": {
      "image/png": "[encoded data removed]",
      "text/plain": [
       "<Figure size 432x288 with 1 Axes>"
      ]
     },
     "metadata": {
      "needs_background": "light"
     },
     "output_type": "display_data"
    }
   ],
   "source": [
    "train['count'].hist(bins=50);"
   ]
  },
  {
   "cell_type": "code",
   "execution_count": 9,
   "metadata": {},
   "outputs": [
    {
     "data": {
      "image/png": "[encoded data removed]",
      "text/plain": [
       "<Figure size 432x288 with 1 Axes>"
      ]
     },
     "metadata": {
      "needs_background": "light"
     },
     "output_type": "display_data"
    }
   ],
   "source": [
    "np.log( train['count'] ).hist(bins=50);"
   ]
  },
  {
   "cell_type": "markdown",
   "metadata": {},
   "source": [
    "## Basic Model"
   ]
  },
  {
   "cell_type": "code",
   "execution_count": 10,
   "metadata": {},
   "outputs": [
    {
     "data": {
      "text/plain": [
       "1.5691983019475926"
      ]
     },
     "execution_count": 10,
     "metadata": {},
     "output_type": "execute_result"
    }
   ],
   "source": [
    "X = train[ ['season'] ].values\n",
    "y = train['count'].values\n",
    "\n",
    "model = DummyRegressor()\n",
    "model.fit(X, y)\n",
    "y_pred = model.predict(X)\n",
    "\n",
    "rmsle(y, y_pred)"
   ]
  },
  {
   "cell_type": "markdown",
   "metadata": {},
   "source": [
    "## Feature Engineering #1\n",
    "Wśród kolumn mamy zmienną `datetime`, którą warto rozbić na poszczególne elementy (rok, miesiąc, godzina itd)."
   ]
  },
  {
   "cell_type": "code",
   "execution_count": 11,
   "metadata": {},
   "outputs": [
    {
     "name": "stderr",
     "output_type": "stream",
     "text": [
      "/var/folders/00/3f1t2rhd45l6fvmbkz20ptgh00dr78/T/ipykernel_76922/87543674.py:10: FutureWarning: Series.dt.weekofyear and Series.dt.week have been deprecated. Please use Series.dt.isocalendar().week instead.\n",
      "  train['weekofyear'] = train['datetime'].dt.weekofyear\n"
     ]
    }
   ],
   "source": [
    "train['datetime'] = pd.to_datetime( train['datetime'] )\n",
    "\n",
    "train['year'] = train['datetime'].dt.year\n",
    "train['month'] = train['datetime'].dt.month\n",
    "train['day'] = train['datetime'].dt.day\n",
    "train['hour'] = train['datetime'].dt.hour\n",
    "train['minute'] = train['datetime'].dt.minute\n",
    "\n",
    "train['dayofweek'] = train['datetime'].dt.dayofweek\n",
    "train['weekofyear'] = train['datetime'].dt.weekofyear\n",
    "train['weekend'] = train['dayofweek'].map(lambda x: int(x in [5,6]) )\n",
    "train['dayofyear'] = train['datetime'].dt.dayofyear"
   ]
  },
  {
   "cell_type": "markdown",
   "metadata": {},
   "source": [
    "## Walidacja\n",
    "Tworzymy kilka funkcji."
   ]
  },
  {
   "cell_type": "code",
   "execution_count": 12,
   "metadata": {},
   "outputs": [],
   "source": [
    "def get_feats(df):\n",
    "    black_list = ['count', 'count_log', 'registered', 'registered_log', 'casual', 'casual_log']\n",
    "    feats = df.select_dtypes(include=[np.number]).columns\n",
    "    \n",
    "    feats = [feat for feat in feats if feat not in black_list]\n",
    "    return feats\n",
    "\n",
    "def custom_validation(df, feats, target_variable='count', n_folds=3):\n",
    "    X = df[feats].values\n",
    "    y = df[target_variable].values\n",
    "\n",
    "    groups = train['month'].values\n",
    "    group_kfold = GroupKFold(n_splits=n_folds)\n",
    "    \n",
    "    for train_idx, test_idx in group_kfold.split(X, y, groups):\n",
    "        yield X[train_idx], X[test_idx], y[train_idx], y[test_idx]\n",
    "        \n",
    "def run_cv(train, feats, model, folds=3):\n",
    "    scores = []\n",
    "    for X_train, X_test, y_train, y_test in custom_validation(train, feats):\n",
    "        model.fit(X_train, y_train)\n",
    "        y_pred = model.predict(X_test)\n",
    "        score = rmsle(y_test, y_pred)\n",
    "\n",
    "        scores.append(score)\n",
    "        \n",
    "    return np.mean(scores), np.std(scores)"
   ]
  },
  {
   "cell_type": "markdown",
   "metadata": {},
   "source": [
    "## Decision Tree"
   ]
  },
  {
   "cell_type": "code",
   "execution_count": 13,
   "metadata": {},
   "outputs": [
    {
     "data": {
      "text/plain": [
       "(0.6245319390672505, 0.004588918406066621)"
      ]
     },
     "execution_count": 13,
     "metadata": {},
     "output_type": "execute_result"
    }
   ],
   "source": [
    "run_cv(train, get_feats(train), DecisionTreeRegressor(max_depth=5, random_state=2019))"
   ]
  },
  {
   "cell_type": "code",
   "execution_count": 14,
   "metadata": {},
   "outputs": [
    {
     "data": {
      "image/png": "[encoded data removed]",
      "text/plain": [
       "<Figure size 432x288 with 1 Axes>"
      ]
     },
     "metadata": {
      "needs_background": "light"
     },
     "output_type": "display_data"
    }
   ],
   "source": [
    "X, y = train[get_feats(train)], train['count']\n",
    "\n",
    "plot_learning_curve(DecisionTreeRegressor(max_depth=5, random_state=2019), X, y, cv=3);"
   ]
  },
  {
   "cell_type": "markdown",
   "metadata": {},
   "source": [
    "## Random Forest"
   ]
  },
  {
   "cell_type": "code",
   "execution_count": 15,
   "metadata": {},
   "outputs": [
    {
     "data": {
      "text/plain": [
       "(0.6084345104534058, 0.0078401758788889)"
      ]
     },
     "execution_count": 15,
     "metadata": {},
     "output_type": "execute_result"
    }
   ],
   "source": [
    "run_cv(train, get_feats(train), RandomForestRegressor(max_depth=5, n_estimators=20, random_state=2019))"
   ]
  },
  {
   "cell_type": "code",
   "execution_count": 16,
   "metadata": {},
   "outputs": [
    {
     "data": {
      "image/png": "[encoded data removed]",
      "text/plain": [
       "<Figure size 432x288 with 1 Axes>"
      ]
     },
     "metadata": {
      "needs_background": "light"
     },
     "output_type": "display_data"
    }
   ],
   "source": [
    "X, y = train[get_feats(train)], train['count']\n",
    "\n",
    "plot_learning_curve(RandomForestRegressor(max_depth=5, n_estimators=20, random_state=2019), X, y, cv=3);"
   ]
  },
  {
   "cell_type": "markdown",
   "metadata": {},
   "source": [
    "Ta krzywa nie wygląda idealnie, próbujemy dalej...\n",
    "\n",
    "## Feature Engineering #2\n",
    "\n",
    "### Aggregation\n",
    "Zróbmy teraz kilka agregacji (grupowanie) po kluczu, np. pogrupujmy wg `year`."
   ]
  },
  {
   "cell_type": "code",
   "execution_count": 17,
   "metadata": {},
   "outputs": [
    {
     "data": {
      "text/plain": [
       "0    111.0\n",
       "1    111.0\n",
       "2    111.0\n",
       "3    111.0\n",
       "4    111.0\n",
       "Name: year, dtype: float64"
      ]
     },
     "execution_count": 17,
     "metadata": {},
     "output_type": "execute_result"
    }
   ],
   "source": [
    "median_year = train[ ['year', 'count'] ].groupby(['year']).median().to_dict()['count']\n",
    "train['year'].map(lambda x: median_year[x]).head()"
   ]
  },
  {
   "cell_type": "code",
   "execution_count": 18,
   "metadata": {},
   "outputs": [
    {
     "data": {
      "text/plain": [
       "0    32.0\n",
       "1    16.0\n",
       "2    10.0\n",
       "3     6.0\n",
       "4     5.0\n",
       "dtype: float64"
      ]
     },
     "execution_count": 18,
     "metadata": {},
     "output_type": "execute_result"
    }
   ],
   "source": [
    "agg_feats = ['year', 'hour']\n",
    "agg_func = np.median\n",
    "\n",
    "agg_hour_year = train[ agg_feats + ['count'] ].groupby(agg_feats).agg(agg_func).to_dict()['count']\n",
    "new_feat = '{0}_{1}'.format( agg_func.__name__, \"_\".join(agg_feats) )\n",
    "train[agg_feats].apply(lambda x: agg_hour_year[ tuple(dict(x).values()) ], axis=1).head()"
   ]
  },
  {
   "cell_type": "markdown",
   "metadata": {},
   "source": [
    "### Run aggregation\n",
    "Teraz zrobimy agregację po dwóch zmiennych jednocześnie."
   ]
  },
  {
   "cell_type": "code",
   "execution_count": 19,
   "metadata": {},
   "outputs": [
    {
     "name": "stderr",
     "output_type": "stream",
     "text": [
      "100%|█████████████████████████████████████████████████████████████████████████████████████████████| 3/3 [00:01<00:00,  1.84it/s]\n"
     ]
    }
   ],
   "source": [
    "agg_feats = [ \n",
    "    ['hour', 'year'],\n",
    "    ['hour', 'season'],\n",
    "    ['hour', 'month'],\n",
    "]\n",
    "\n",
    "for agg_feat in tqdm(agg_feats):\n",
    "    for agg_func in [np.mean, np.median, np.sum, np.std]:\n",
    "        dict_agg = train[ agg_feat + ['count'] ].groupby(agg_feat).agg(agg_func).to_dict()['count']\n",
    "        new_feat = 'agg_{0}_{1}'.format( agg_func.__name__, \"_\".join(agg_feat) )\n",
    "\n",
    "        default_dict_val = agg_func( list(dict_agg.values()))\n",
    "        default_dict_agg = defaultdict(lambda: default_dict_val, dict_agg)\n",
    "\n",
    "        train[new_feat] = train[agg_feat].apply(lambda x: dict_agg[ tuple(dict(x).values()) ], axis=1)"
   ]
  },
  {
   "cell_type": "code",
   "execution_count": 20,
   "metadata": {},
   "outputs": [
    {
     "data": {
      "text/plain": [
       "['agg_mean_hour_year',\n",
       " 'agg_median_hour_year',\n",
       " 'agg_sum_hour_year',\n",
       " 'agg_std_hour_year',\n",
       " 'agg_mean_hour_season',\n",
       " 'agg_median_hour_season',\n",
       " 'agg_sum_hour_season',\n",
       " 'agg_std_hour_season',\n",
       " 'agg_mean_hour_month',\n",
       " 'agg_median_hour_month',\n",
       " 'agg_sum_hour_month',\n",
       " 'agg_std_hour_month']"
      ]
     },
     "execution_count": 20,
     "metadata": {},
     "output_type": "execute_result"
    }
   ],
   "source": [
    "agg_feats = [feat for feat in  train.columns if feat.startswith('agg_') ]\n",
    "agg_feats"
   ]
  },
  {
   "cell_type": "code",
   "execution_count": 21,
   "metadata": {},
   "outputs": [
    {
     "data": {
      "text/plain": [
       "(0.6081012568681, 0.024866551028755315)"
      ]
     },
     "execution_count": 21,
     "metadata": {},
     "output_type": "execute_result"
    }
   ],
   "source": [
    "run_cv(train, get_feats(train), RandomForestRegressor(max_depth=5, n_estimators=20, random_state=2019))"
   ]
  },
  {
   "cell_type": "markdown",
   "metadata": {},
   "source": [
    "Wygląda podobnie ~**0.61**. Co prawda \"napracowaliśmy się\" znacznie więcej, ale próbujemy dalej."
   ]
  },
  {
   "cell_type": "markdown",
   "metadata": {},
   "source": [
    "## Log2 (count)\n",
    "Zróbmy teraz transformację logarytmiczną zmiennej docelowej. Dodatkowo, aby nasza zmienna była bardziej symetryczna, przed logarytmowaniem dodamy do niej stałą wartość."
   ]
  },
  {
   "cell_type": "code",
   "execution_count": 22,
   "metadata": {},
   "outputs": [
    {
     "data": {
      "text/plain": [
       "(0.5856258021778559, 0.020331896927206772)"
      ]
     },
     "execution_count": 22,
     "metadata": {},
     "output_type": "execute_result"
    }
   ],
   "source": [
    "feats = get_feats(train)\n",
    "\n",
    "X = train[feats].values\n",
    "\n",
    "groups = train['datetime'].dt.month.values\n",
    "group_kfold = GroupKFold(n_splits=3)\n",
    "\n",
    "count = train['count'].values\n",
    "offset_log = 6\n",
    "count_log = np.log2( count + offset_log)\n",
    "\n",
    "scores = []\n",
    "for train_idx, test_idx in group_kfold.split(X, count, groups):\n",
    "    model = DecisionTreeRegressor(max_depth=5, random_state=2019)\n",
    "    model.fit(X[train_idx], count_log[train_idx])\n",
    "    count_log_pred = model.predict(X[test_idx])\n",
    "    \n",
    "    count_pred = np.exp2( count_log_pred ) - offset_log\n",
    "\n",
    "    score = rmsle(count[test_idx], count_pred)\n",
    "    scores.append(score)\n",
    "\n",
    "np.mean(scores), np.std(scores)"
   ]
  },
  {
   "cell_type": "markdown",
   "metadata": {},
   "source": [
    "Wygląda lepiej: ~**0.59** vs ~**0.61** (transformacja logarytmiczna pomogła)."
   ]
  },
  {
   "cell_type": "markdown",
   "metadata": {},
   "source": [
    "## log2(registered) & log2(casual)\n",
    "\n",
    "Teraz postawimy kolejny krok i wykonamy transformację logarytmiczną dla kolumn `registered` i `casual`, a następnie zbudujemy oddzielny model prognozujący każdą z tych kolumn. Na koniec zrobimy predykcję i zsumujemy je ze sobą."
   ]
  },
  {
   "cell_type": "code",
   "execution_count": 23,
   "metadata": {},
   "outputs": [
    {
     "data": {
      "text/plain": [
       "(0.5619351616859883, 0.01840269129197032)"
      ]
     },
     "execution_count": 23,
     "metadata": {},
     "output_type": "execute_result"
    }
   ],
   "source": [
    "feats = get_feats(train)\n",
    "\n",
    "groups = train['datetime'].dt.month.values\n",
    "group_kfold = GroupKFold(n_splits=3)\n",
    "    \n",
    "X = train[feats].values\n",
    "offset_log = 3\n",
    "\n",
    "registered = train['registered'].values\n",
    "registered_log = np.log2(registered + offset_log)\n",
    "\n",
    "casual = train['casual'].values\n",
    "casual_log = np.log2(casual + offset_log)\n",
    "\n",
    "count = train['count'].values\n",
    "count_log = np.log2(count + offset_log)\n",
    "\n",
    "scores = []\n",
    "for train_idx, test_idx in group_kfold.split(X, count, groups):\n",
    "    model = DecisionTreeRegressor(max_depth=5, random_state=2019)\n",
    "    model.fit(X[train_idx], registered_log[train_idx])\n",
    "    registered_log_pred = model.predict(X[test_idx])\n",
    "    registered_pred = np.exp2(registered_log_pred) - offset_log\n",
    "    \n",
    "    model = DecisionTreeRegressor(max_depth=5)\n",
    "    model.fit(X[train_idx], casual_log[train_idx])\n",
    "    casual_log_pred = model.predict(X[test_idx])\n",
    "    casual_pred = np.exp2(casual_log_pred) - offset_log\n",
    "    \n",
    "    count_pred = registered_pred + casual_pred\n",
    "    \n",
    "    score = rmsle(count[test_idx], count_pred)\n",
    "    scores.append(score)\n",
    "\n",
    "np.mean(scores), np.std(scores)"
   ]
  },
  {
   "cell_type": "markdown",
   "metadata": {},
   "source": [
    "Wygląda lepiej: **0.56** vs **0.59**."
   ]
  },
  {
   "cell_type": "markdown",
   "metadata": {},
   "source": [
    "Zastosujemy teraz bardziej zaawansowane modele: **Random Forest** i **XGBoost**. Tylko najpierw wrzucimy powyższy kod do funkcji, żeby nie trzeba było go powtarzać."
   ]
  },
  {
   "cell_type": "code",
   "execution_count": 24,
   "metadata": {},
   "outputs": [],
   "source": [
    "def run_log_registered_casual(train, model_class, model_params={}, feats=None, folds=3):\n",
    "    if feats is None:\n",
    "        feats = get_feats(train)\n",
    "\n",
    "    groups = train['datetime'].dt.month.values\n",
    "    group_kfold = GroupKFold(n_splits=3)\n",
    "\n",
    "    X = train[feats].values\n",
    "    offset_log = 3\n",
    "\n",
    "    registered = train['registered'].values\n",
    "    registered_log = np.log2(registered + offset_log)\n",
    "\n",
    "    casual = train['casual'].values\n",
    "    casual_log = np.log2(casual + offset_log)\n",
    "\n",
    "    count = train['count'].values\n",
    "    count_log = np.log2(count + offset_log)\n",
    "\n",
    "    scores = []\n",
    "    for train_idx, test_idx in group_kfold.split(X, count, groups):\n",
    "        model = model_class(**model_params)\n",
    "        model.fit(X[train_idx], registered_log[train_idx])\n",
    "        registered_log_pred = model.predict(X[test_idx])\n",
    "        registered_pred = np.exp2(registered_log_pred) - offset_log\n",
    "\n",
    "        model = model_class(**model_params)\n",
    "        model.fit(X[train_idx], casual_log[train_idx])\n",
    "        casual_log_pred = model.predict(X[test_idx])\n",
    "        casual_pred = np.exp2(casual_log_pred) - offset_log\n",
    "\n",
    "        count_pred = registered_pred + casual_pred\n",
    "\n",
    "        score = rmsle(count[test_idx], count_pred)\n",
    "        scores.append(score)\n",
    "\n",
    "    return np.mean(scores), np.std(scores)"
   ]
  },
  {
   "cell_type": "markdown",
   "metadata": {},
   "source": [
    "## Random Forest"
   ]
  },
  {
   "cell_type": "code",
   "execution_count": 25,
   "metadata": {},
   "outputs": [
    {
     "data": {
      "text/plain": [
       "(0.3566502685231591, 0.007714002957999988)"
      ]
     },
     "execution_count": 25,
     "metadata": {},
     "output_type": "execute_result"
    }
   ],
   "source": [
    "rf_params = {\n",
    "    'n_estimators': 100, \n",
    "    'max_depth': 15, \n",
    "    'random_state': 0, \n",
    "    'min_samples_split' : 5\n",
    "}\n",
    "run_log_registered_casual(train, RandomForestRegressor, rf_params )"
   ]
  },
  {
   "cell_type": "markdown",
   "metadata": {},
   "source": [
    "## XGBoost"
   ]
  },
  {
   "cell_type": "code",
   "execution_count": 26,
   "metadata": {},
   "outputs": [
    {
     "data": {
      "text/plain": [
       "(0.37092221748081267, 0.00916620161694113)"
      ]
     },
     "execution_count": 26,
     "metadata": {},
     "output_type": "execute_result"
    }
   ],
   "source": [
    "xgb_params = {\n",
    "    'max_depth': 10, \n",
    "    'n_estimators': 100, \n",
    "    'random_state': 0,\n",
    "    'learning_rate': 0.3,\n",
    "    'objective': 'reg:squarederror'\n",
    "}\n",
    "run_log_registered_casual(train, xgb.XGBRegressor, xgb_params )"
   ]
  },
  {
   "cell_type": "markdown",
   "metadata": {},
   "source": [
    "`Random Forest` i `XGBoost` zbudowały znacznie lepszy model niż `Decision Tree`:\n",
    "\n",
    "RF ~**0.36** i XGB ~**0.37** vs ~**0.56**\n",
    "\n",
    "Następnym krokiem (który ma sens dla Kaggle, ale niekoniecznie na produkcji) jest połączenie dwóch lub więcej modeli, wtedy jest szansa jeszcze \"trochę\" poprawić jakość modelu."
   ]
  },
  {
   "cell_type": "markdown",
   "metadata": {},
   "source": [
    "## Przydatne linki:\n",
    "1. [Webinar: Bike Sharing Demand](https://bit.ly/3mSnNlE)\n",
    "2. [Kaggle Bike Sharing Demand Prediction – How I got in top 5 percentile of participants?](https://bit.ly/32lrIxE)\n",
    "3. How to finish top 10 percentile in Bike Sharing Demand Competition In Kaggle? [part1](https://bit.ly/3wZxTWq) & [part2](https://bit.ly/3e92TuD)\n",
    "4. Github: [Kaggle competition: Predict Bike Sharing Demand](https://bit.ly/3uUQ6CI)\n",
    "\n"
   ]
  },
  {
   "cell_type": "code",
   "execution_count": null,
   "metadata": {},
   "outputs": [],
   "source": []
  }
 ],
 "metadata": {
  "kernelspec": {
   "display_name": "umapkernel",
   "language": "python",
   "name": "umapkernel"
  },
  "language_info": {
   "codemirror_mode": {
    "name": "ipython",
    "version": 3
   },
   "file_extension": ".py",
   "mimetype": "text/x-python",
   "name": "python",
   "nbconvert_exporter": "python",
   "pygments_lexer": "ipython3",
   "version": "3.9.12"
  }
 },
 "nbformat": 4,
 "nbformat_minor": 2
}
