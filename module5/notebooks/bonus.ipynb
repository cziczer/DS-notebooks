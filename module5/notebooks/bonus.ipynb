{
 "cells": [
  {
   "cell_type": "markdown",
   "metadata": {},
   "source": [
    "# [Allstate Claims Severity](https://bit.ly/2PkuKj5)\n",
    " \n",
    "### Celem jest zastosować sieci neuronowe wspólnie z boostingiem.\n",
    "\n",
    "To już pewnie znany Ci problem. Wiesz, jak podejść do niego używając klasycznego uczenia maszynowego (np. XGBoost). Ciekawostka jest taka, że również można zastosować sieci neuronowe.\n",
    "\n",
    "Co prawda daje to trochę gorszy wynik, natomiast w połączeniu z boostingiem (w tym przypadku) daje to lepszy rezultat."
   ]
  },
  {
   "cell_type": "code",
   "execution_count": 1,
   "metadata": {
    "ExecuteTime": {
     "end_time": "2021-04-24T13:00:41.280332Z",
     "start_time": "2021-04-24T13:00:39.039189Z"
    }
   },
   "outputs": [
    {
     "name": "stderr",
     "output_type": "stream",
     "text": [
      "2022-10-18 13:18:59.415974: I tensorflow/core/platform/cpu_feature_guard.cc:193] This TensorFlow binary is optimized with oneAPI Deep Neural Network Library (oneDNN) to use the following CPU instructions in performance-critical operations:  AVX2 FMA\n",
      "To enable them in other operations, rebuild TensorFlow with the appropriate compiler flags.\n"
     ]
    }
   ],
   "source": [
    "import pandas as pd\n",
    "import numpy as np\n",
    "np.random.seed(2019)\n",
    "\n",
    "from scipy.sparse import csr_matrix, hstack\n",
    "from sklearn.preprocessing import StandardScaler\n",
    "\n",
    "from sklearn.dummy import DummyRegressor\n",
    "from sklearn.metrics import mean_absolute_error\n",
    "\n",
    "from sklearn.model_selection import KFold\n",
    "\n",
    "#Tensorflow\n",
    "from tensorflow.keras.models import Sequential\n",
    "from tensorflow.keras.layers import Dense, Dropout, Activation\n",
    "from tensorflow.keras.layers import BatchNormalization\n",
    "from tensorflow.keras.layers import PReLU\n",
    "from tensorflow.keras.callbacks import EarlyStopping\n",
    "\n",
    "#Keras\n",
    "#from keras.models import Sequential\n",
    "#from keras.layers.core import Dense, Dropout, Activation\n",
    "#from keras.layers.normalization import BatchNormalization\n",
    "#from keras.layers.advanced_activations import PReLU\n",
    "#from keras.callbacks import EarlyStopping\n",
    "\n",
    "import matplotlib.pyplot as plt\n",
    "%matplotlib inline"
   ]
  },
  {
   "cell_type": "markdown",
   "metadata": {},
   "source": [
    "Dane są pobrane z Kaggle, po wczytaniu pliku .csv pokazywał, że potrzebuję: `memory usage: 189.7+ MB`, a typy danych  dtypes: `float64(15), int64(1), object(116)`.\n",
    "\n",
    "Po dość prostych krokach optymalizacji udało się zejść do `memory usage: 28 MB` i typy danych są dtypes: float16(14), float64(1), int16(2), int32(1), int8(114), czyli ok. **7 razy mniej**! Po co optymalizować? To wpływa na to, ile RAM potrzebujemy, jak szybko potrafimy wczytać/zapisać dane, jak szybko dostaniemy wynik i ostatecznie, jak szybko będziemy w stanie robić kolejne eksperymenty. Jak masz wprawę, to taka optymalizacja zajmuje 10-15 min :) Warto poświęcić ten czas, bo potem dostaje się znacznie więcej... Poniżej jest kod, który uruchomiłem po wczytaniu pliku csv:\n",
    "\n",
    "```\n",
    "#objects and ints\n",
    "for feat in train.select_dtypes(include=['object', 'int']):\n",
    "    if 'cat' in feat:\n",
    "        train[feat] = pd.factorize(train[feat])[0]\n",
    "\n",
    "    if train[feat].max() < np.iinfo(np.int8).max: \n",
    "        train[feat] = train[feat].astype('int8')\n",
    "    elif train[feat].max() < np.iinfo(np.int16).max:\n",
    "        train[feat] = train[feat].astype('int16')\n",
    "    elif train[feat].max() < np.iinfo(np.int32).max:\n",
    "        train[feat] = train[feat].astype('int32')\n",
    "        \n",
    "#float\n",
    "for feat in train.select_dtypes(include=['float']):\n",
    "    if train[feat].max() < np.finfo(np.float16).max: \n",
    "        train[feat] = train[feat].astype('float16')\n",
    "    elif train[feat].max() < np.finfo(np.float16).max: \n",
    "        train[feat] = train[feat].astype('float32')\n",
    "        \n",
    "train.to_hdf('../input/train.allstate.h5', 'data', mode='w')\n",
    "```"
   ]
  },
  {
   "cell_type": "markdown",
   "metadata": {},
   "source": [
    "## Wczytujemy dane"
   ]
  },
  {
   "cell_type": "code",
   "execution_count": 2,
   "metadata": {
    "ExecuteTime": {
     "end_time": "2021-04-24T13:00:41.921617Z",
     "start_time": "2021-04-24T13:00:41.320319Z"
    }
   },
   "outputs": [],
   "source": [
    "train = pd.read_hdf('../input/allstate.train.h5')"
   ]
  },
  {
   "cell_type": "code",
   "execution_count": 3,
   "metadata": {
    "ExecuteTime": {
     "end_time": "2021-04-24T13:00:41.961491Z",
     "start_time": "2021-04-24T13:00:41.950964Z"
    }
   },
   "outputs": [
    {
     "name": "stdout",
     "output_type": "stream",
     "text": [
      "<class 'pandas.core.frame.DataFrame'>\n",
      "Int64Index: 188318 entries, 0 to 188317\n",
      "Columns: 132 entries, id to loss\n",
      "dtypes: float16(14), float64(1), int16(2), int32(1), int8(114)\n",
      "memory usage: 29.8 MB\n"
     ]
    }
   ],
   "source": [
    "train.info()"
   ]
  },
  {
   "cell_type": "markdown",
   "metadata": {},
   "source": [
    "## Czy są braki w danych?"
   ]
  },
  {
   "cell_type": "code",
   "execution_count": 4,
   "metadata": {
    "ExecuteTime": {
     "end_time": "2021-04-24T13:00:42.035622Z",
     "start_time": "2021-04-24T13:00:41.996442Z"
    }
   },
   "outputs": [
    {
     "data": {
      "text/plain": [
       "False"
      ]
     },
     "execution_count": 4,
     "metadata": {},
     "output_type": "execute_result"
    }
   ],
   "source": [
    "train.isnull().any().any()"
   ]
  },
  {
   "cell_type": "markdown",
   "metadata": {},
   "source": [
    "## Target variable \n",
    "\n",
    "Popatrzmy, jak wygląda rozkład."
   ]
  },
  {
   "cell_type": "code",
   "execution_count": 5,
   "metadata": {
    "ExecuteTime": {
     "end_time": "2021-04-24T13:00:42.098639Z",
     "start_time": "2021-04-24T13:00:42.079720Z"
    }
   },
   "outputs": [
    {
     "data": {
      "text/plain": [
       "count    188318.000000\n",
       "mean       3037.337686\n",
       "std        2904.086186\n",
       "min           0.670000\n",
       "25%        1204.460000\n",
       "50%        2115.570000\n",
       "75%        3864.045000\n",
       "max      121012.250000\n",
       "Name: loss, dtype: float64"
      ]
     },
     "execution_count": 5,
     "metadata": {},
     "output_type": "execute_result"
    }
   ],
   "source": [
    "train['loss'].describe()"
   ]
  },
  {
   "cell_type": "code",
   "execution_count": 6,
   "metadata": {
    "ExecuteTime": {
     "end_time": "2021-04-24T13:00:42.413035Z",
     "start_time": "2021-04-24T13:00:42.134194Z"
    }
   },
   "outputs": [
    {
     "data": {
      "image/png": "[encoded data removed]",
      "text/plain": [
       "<Figure size 432x288 with 1 Axes>"
      ]
     },
     "metadata": {
      "needs_background": "light"
     },
     "output_type": "display_data"
    }
   ],
   "source": [
    "train['loss'].hist(bins=100);"
   ]
  },
  {
   "cell_type": "markdown",
   "metadata": {},
   "source": [
    "Jak widać, jest to dość klasyczny skrzywiony rozkład... Raczej są dość duże wartości odstające po prawej stronie, dlatego usuńmy np. 1% danych po prawej stronie (czyli *percentile* 99)."
   ]
  },
  {
   "cell_type": "code",
   "execution_count": 7,
   "metadata": {
    "ExecuteTime": {
     "end_time": "2021-04-24T13:00:42.757041Z",
     "start_time": "2021-04-24T13:00:42.435259Z"
    }
   },
   "outputs": [
    {
     "data": {
      "image/png": "[encoded data removed]",
      "text/plain": [
       "<Figure size 432x288 with 1 Axes>"
      ]
     },
     "metadata": {
      "needs_background": "light"
     },
     "output_type": "display_data"
    }
   ],
   "source": [
    "train[ train.loss < np.percentile(train.loss, 99) ]['loss'].hist(bins=100);"
   ]
  },
  {
   "cell_type": "markdown",
   "metadata": {},
   "source": [
    "Mam nadzieję, że jak patrzysz na ten wykres, już chcesz zrobić transformację logarytmiczną, prawda? :) \n",
    "\n",
    "Zatem zróbmy ją."
   ]
  },
  {
   "cell_type": "code",
   "execution_count": 8,
   "metadata": {
    "ExecuteTime": {
     "end_time": "2021-04-24T13:00:43.230937Z",
     "start_time": "2021-04-24T13:00:42.825850Z"
    }
   },
   "outputs": [
    {
     "data": {
      "image/png": "[encoded data removed]",
      "text/plain": [
       "<Figure size 432x288 with 1 Axes>"
      ]
     },
     "metadata": {
      "needs_background": "light"
     },
     "output_type": "display_data"
    }
   ],
   "source": [
    "train['log_loss'] = np.log( train['loss'] + 1 ) #pamiętaj o +1 albo spróbuj np.log(0) w osobnej komórce\n",
    "train['log_loss'].hist(bins=100);"
   ]
  },
  {
   "cell_type": "markdown",
   "metadata": {},
   "source": [
    "Podpowiem Ci od razu jeszcze jeden \"trick\". Po tej transformacji po lewej stronie jest trochę słupków lokalnych. \n",
    "\n",
    "Już Ci to pokazuję."
   ]
  },
  {
   "cell_type": "code",
   "execution_count": 9,
   "metadata": {
    "ExecuteTime": {
     "end_time": "2021-04-24T13:00:43.549536Z",
     "start_time": "2021-04-24T13:00:43.274814Z"
    }
   },
   "outputs": [
    {
     "data": {
      "image/png": "[encoded data removed]",
      "text/plain": [
       "<Figure size 432x288 with 1 Axes>"
      ]
     },
     "metadata": {
      "needs_background": "light"
     },
     "output_type": "display_data"
    }
   ],
   "source": [
    "train[ train.log_loss < 5 ]['log_loss'].hist(bins=100);"
   ]
  },
  {
   "cell_type": "markdown",
   "metadata": {},
   "source": [
    "Miał był rozkład symetryczny, natomiast tutaj jest jakiś szum, który będzie przeszkadzać (pierwsza wartość zaczyna się ok. 0.5, potem jest przerwa i następnie ok. 2 potem znów trochę przerw itd). Żeby temu zapobiec, można w logarytmie dodać coś więcej niż 1, np. 100. Ten parametr można dobierać oczywiście wg metryki sukcesu."
   ]
  },
  {
   "cell_type": "code",
   "execution_count": 10,
   "metadata": {
    "ExecuteTime": {
     "end_time": "2021-04-24T13:00:43.863386Z",
     "start_time": "2021-04-24T13:00:43.589988Z"
    }
   },
   "outputs": [
    {
     "data": {
      "image/png": "[encoded data removed]",
      "text/plain": [
       "<Figure size 432x288 with 1 Axes>"
      ]
     },
     "metadata": {
      "needs_background": "light"
     },
     "output_type": "display_data"
    }
   ],
   "source": [
    "train['log_loss'] = np.log( train['loss'] + 50 )\n",
    "train[ train.log_loss < 5.5 ]['log_loss'].hist(bins=100);"
   ]
  },
  {
   "cell_type": "markdown",
   "metadata": {},
   "source": [
    "Popatrzmy teraz jeszcze raz na całość - już wygląda super, prawda?"
   ]
  },
  {
   "cell_type": "code",
   "execution_count": 11,
   "metadata": {
    "ExecuteTime": {
     "end_time": "2021-04-24T13:00:44.232415Z",
     "start_time": "2021-04-24T13:00:43.920597Z"
    }
   },
   "outputs": [
    {
     "data": {
      "image/png": "[encoded data removed]",
      "text/plain": [
       "<Figure size 432x288 with 1 Axes>"
      ]
     },
     "metadata": {
      "needs_background": "light"
     },
     "output_type": "display_data"
    }
   ],
   "source": [
    "train['log_loss'].hist(bins=100);"
   ]
  },
  {
   "cell_type": "markdown",
   "metadata": {},
   "source": [
    "## Zmienne kategorialne\n",
    "Mają przedrostek w nazwie `cat`"
   ]
  },
  {
   "cell_type": "code",
   "execution_count": 12,
   "metadata": {
    "ExecuteTime": {
     "end_time": "2021-04-24T13:00:44.258594Z",
     "start_time": "2021-04-24T13:00:44.254936Z"
    }
   },
   "outputs": [
    {
     "name": "stdout",
     "output_type": "stream",
     "text": [
      "116 ['cat1', 'cat2', 'cat3', 'cat4', 'cat5', 'cat6', 'cat7', 'cat8', 'cat9', 'cat10', 'cat11', 'cat12', 'cat13', 'cat14', 'cat15', 'cat16', 'cat17', 'cat18', 'cat19', 'cat20', 'cat21', 'cat22', 'cat23', 'cat24', 'cat25', 'cat26', 'cat27', 'cat28', 'cat29', 'cat30', 'cat31', 'cat32', 'cat33', 'cat34', 'cat35', 'cat36', 'cat37', 'cat38', 'cat39', 'cat40', 'cat41', 'cat42', 'cat43', 'cat44', 'cat45', 'cat46', 'cat47', 'cat48', 'cat49', 'cat50', 'cat51', 'cat52', 'cat53', 'cat54', 'cat55', 'cat56', 'cat57', 'cat58', 'cat59', 'cat60', 'cat61', 'cat62', 'cat63', 'cat64', 'cat65', 'cat66', 'cat67', 'cat68', 'cat69', 'cat70', 'cat71', 'cat72', 'cat73', 'cat74', 'cat75', 'cat76', 'cat77', 'cat78', 'cat79', 'cat80', 'cat81', 'cat82', 'cat83', 'cat84', 'cat85', 'cat86', 'cat87', 'cat88', 'cat89', 'cat90', 'cat91', 'cat92', 'cat93', 'cat94', 'cat95', 'cat96', 'cat97', 'cat98', 'cat99', 'cat100', 'cat101', 'cat102', 'cat103', 'cat104', 'cat105', 'cat106', 'cat107', 'cat108', 'cat109', 'cat110', 'cat111', 'cat112', 'cat113', 'cat114', 'cat115', 'cat116']\n"
     ]
    }
   ],
   "source": [
    "cat_feats = [feat for feat in train.columns if 'cat' in feat]\n",
    "print(len(cat_feats),  cat_feats)"
   ]
  },
  {
   "cell_type": "markdown",
   "metadata": {},
   "source": [
    "Popatrzmy, ile jest unikalnych wartości w poszczególnych zmiennych."
   ]
  },
  {
   "cell_type": "code",
   "execution_count": 13,
   "metadata": {
    "ExecuteTime": {
     "end_time": "2021-04-24T13:00:45.917805Z",
     "start_time": "2021-04-24T13:00:44.291266Z"
    }
   },
   "outputs": [
    {
     "data": {
      "image/png": "[encoded data removed]",
      "text/plain": [
       "<Figure size 1296x720 with 1 Axes>"
      ]
     },
     "metadata": {
      "needs_background": "light"
     },
     "output_type": "display_data"
    }
   ],
   "source": [
    "unq_values = [train[feat].nunique() for feat in cat_feats]\n",
    "\n",
    "id_cat_feats = range(len(cat_feats))\n",
    "plt.figure(figsize=(18, 10))\n",
    "plt.plot(id_cat_feats, unq_values)\n",
    "plt.xticks(id_cat_feats, cat_feats, rotation='vertical');"
   ]
  },
  {
   "cell_type": "code",
   "execution_count": 14,
   "metadata": {
    "ExecuteTime": {
     "end_time": "2021-04-24T13:00:47.292062Z",
     "start_time": "2021-04-24T13:00:45.941452Z"
    }
   },
   "outputs": [
    {
     "data": {
      "image/png": "[encoded data removed]",
      "text/plain": [
       "<Figure size 1296x720 with 1 Axes>"
      ]
     },
     "metadata": {
      "needs_background": "light"
     },
     "output_type": "display_data"
    }
   ],
   "source": [
    "cut_last_elems = 20\n",
    "plt.figure(figsize=(18, 10))\n",
    "plt.plot(id_cat_feats[:-cut_last_elems], unq_values[:-cut_last_elems])\n",
    "plt.xticks(id_cat_feats[:-cut_last_elems], cat_feats[:-cut_last_elems], rotation='vertical');"
   ]
  },
  {
   "cell_type": "markdown",
   "metadata": {},
   "source": [
    "## Zmienne ciągłe\n",
    "Mają przedrostek `cont`"
   ]
  },
  {
   "cell_type": "code",
   "execution_count": 15,
   "metadata": {
    "ExecuteTime": {
     "end_time": "2021-04-24T13:00:47.330918Z",
     "start_time": "2021-04-24T13:00:47.327094Z"
    }
   },
   "outputs": [
    {
     "name": "stdout",
     "output_type": "stream",
     "text": [
      "14 ['cont1', 'cont2', 'cont3', 'cont4', 'cont5', 'cont6', 'cont7', 'cont8', 'cont9', 'cont10', 'cont11', 'cont12', 'cont13', 'cont14']\n"
     ]
    }
   ],
   "source": [
    "cont_feats = [feat for feat in train.columns if 'cont' in feat]\n",
    "print(len(cont_feats),  cont_feats)"
   ]
  },
  {
   "cell_type": "code",
   "execution_count": 16,
   "metadata": {
    "ExecuteTime": {
     "end_time": "2021-04-24T13:00:49.595077Z",
     "start_time": "2021-04-24T13:00:47.354498Z"
    }
   },
   "outputs": [
    {
     "data": {
      "image/png": "[encoded data removed]",
      "text/plain": [
       "<Figure size 1440x1080 with 16 Axes>"
      ]
     },
     "metadata": {
      "needs_background": "light"
     },
     "output_type": "display_data"
    }
   ],
   "source": [
    "train[ cont_feats ].hist(bins=30, figsize=(20, 15));"
   ]
  },
  {
   "cell_type": "markdown",
   "metadata": {},
   "source": [
    "## Evaluation\n",
    "Metryką sukcesu będzie **[Mean absolute error](https://bit.ly/3sMlrpF)**.\n",
    "\n",
    "## Baseline\n",
    "Zbudujmy najprostszy model. "
   ]
  },
  {
   "cell_type": "code",
   "execution_count": 17,
   "metadata": {
    "ExecuteTime": {
     "end_time": "2021-04-24T13:00:49.672190Z",
     "start_time": "2021-04-24T13:00:49.640675Z"
    }
   },
   "outputs": [
    {
     "name": "stdout",
     "output_type": "stream",
     "text": [
      "mean loss 1966.1652855607203\n",
      "mean log_loss 1810.3605106176383\n",
      "median loss 1809.0487864675706\n",
      "median log_loss 1809.0487864675708\n"
     ]
    }
   ],
   "source": [
    "def base_line_model(train, target_variable='loss', strategy='mean'):\n",
    "    X = train[cont_feats].values\n",
    "    y = train[target_variable].values\n",
    "\n",
    "    model = DummyRegressor(strategy=strategy)\n",
    "    model.fit(X, y)\n",
    "    y_pred = model.predict(X)\n",
    "\n",
    "    if target_variable == 'log_loss':\n",
    "        y = np.exp(y) - 1\n",
    "        y_pred = np.exp(y_pred) - 1\n",
    "        y_pred[ y_pred < 0 ] = 0\n",
    "\n",
    "    score = mean_absolute_error(y, y_pred)\n",
    "        \n",
    "    return score\n",
    "\n",
    "for strategy in ['mean', 'median']:\n",
    "    for target_variable in ['loss', 'log_loss']:\n",
    "        score = base_line_model(train, target_variable=target_variable, strategy=strategy)\n",
    "        print(strategy, target_variable, score)"
   ]
  },
  {
   "cell_type": "markdown",
   "metadata": {},
   "source": [
    "## Przygotujmy dane dla sieci"
   ]
  },
  {
   "cell_type": "code",
   "execution_count": 18,
   "metadata": {
    "ExecuteTime": {
     "end_time": "2021-04-24T13:00:49.739548Z",
     "start_time": "2021-04-24T13:00:49.719794Z"
    }
   },
   "outputs": [],
   "source": [
    "df_train = train.sample(10000) #zmniejszamy ilość danych, żeby szybciej liczyło się\n",
    "y = df_train['log_loss'].values"
   ]
  },
  {
   "cell_type": "markdown",
   "metadata": {},
   "source": [
    "## Zmienne kategorialne"
   ]
  },
  {
   "cell_type": "code",
   "execution_count": 19,
   "metadata": {
    "ExecuteTime": {
     "end_time": "2021-04-24T13:00:50.200611Z",
     "start_time": "2021-04-24T13:00:49.807849Z"
    }
   },
   "outputs": [],
   "source": [
    "sparse_data = []\n",
    "\n",
    "feat_cats = [f for f in df_train.columns if 'cat' in f]\n",
    "for feat in feat_cats:\n",
    "    dummy = pd.get_dummies(df_train[feat].astype('category'))\n",
    "    tmp = csr_matrix(dummy)\n",
    "    sparse_data.append(tmp)"
   ]
  },
  {
   "cell_type": "markdown",
   "metadata": {},
   "source": [
    "## Zmienne ciągłe"
   ]
  },
  {
   "cell_type": "code",
   "execution_count": 20,
   "metadata": {
    "ExecuteTime": {
     "end_time": "2021-04-24T13:00:50.318932Z",
     "start_time": "2021-04-24T13:00:50.227437Z"
    }
   },
   "outputs": [
    {
     "data": {
      "text/plain": [
       "<10000x914 sparse matrix of type '<class 'numpy.float32'>'\n",
       "\twith 1300000 stored elements in Compressed Sparse Row format>"
      ]
     },
     "execution_count": 20,
     "metadata": {},
     "output_type": "execute_result"
    }
   ],
   "source": [
    "f_num = [f for f in df_train.columns if 'cont' in f]\n",
    "scaler = StandardScaler()\n",
    "tmp = csr_matrix(scaler.fit_transform(df_train[f_num]))\n",
    "sparse_data.append(tmp)\n",
    "\n",
    "X = hstack(sparse_data, format = 'csr')\n",
    "X"
   ]
  },
  {
   "cell_type": "markdown",
   "metadata": {},
   "source": [
    "## Architektura\n",
    "W sieci zastosowaliśmy warstwę Dense (czyli połączenia każdy z każdym), również pojawił **Dropout**.\n",
    "\n",
    "Pojawiły się także nowe pojęcia:\n",
    "- **BatchNormalization**\n",
    "- funkcja aktywacja **PReLU**\n",
    "\n",
    "BN (BatchNormalizaiton) pomaga walczyć z przeuczeniem się, ale również, jak pokazuje praktyka, potrafi przyspieszyć czas na naukę sieci.\n",
    "\n",
    "PReLU to jest zmodyfikowana funkcja aktywacji ReLU (która zwracała zawsze 0 dla wszystkich wartości ujemnych).\n",
    "\n",
    "![](../images/prelu.png)"
   ]
  },
  {
   "cell_type": "code",
   "execution_count": 21,
   "metadata": {
    "ExecuteTime": {
     "end_time": "2021-04-24T13:00:50.349428Z",
     "start_time": "2021-04-24T13:00:50.345238Z"
    }
   },
   "outputs": [],
   "source": [
    "def nn_model(input_dim):\n",
    "    model = Sequential()\n",
    "\n",
    "    model.add(Dense(400, input_dim = input_dim))\n",
    "    model.add(PReLU())\n",
    "    model.add(BatchNormalization())\n",
    "    model.add(Dropout(0.45))\n",
    "\n",
    "    model.add(Dense(200))\n",
    "    model.add(PReLU())\n",
    "    model.add(BatchNormalization())\n",
    "    model.add(Dropout(0.2))\n",
    "\n",
    "    model.add(Dense(50))\n",
    "    model.add(PReLU())\n",
    "    model.add(BatchNormalization())\n",
    "    model.add(Dropout(0.2))\n",
    "\n",
    "    model.add(Dense(1))\n",
    "    model.compile(loss = 'mae', optimizer = 'adam')\n",
    "    return(model)"
   ]
  },
  {
   "cell_type": "markdown",
   "metadata": {},
   "source": [
    "## Generatory\n",
    "\n",
    "Poniżej jest trochę kodu, ale nie przejmuj się tym - idea jest bardzo prosta. W praktyce zwykle danych dla sieci neuronowych jest sporo (musi tyle być). Wczytanie ich wszystkich do pamięci jest mało efektywne, ale również czasem nie da się inaczej (nie mieszczą się).\n",
    "\n",
    "Dlatego dane wczytuje się paczkami.\n"
   ]
  },
  {
   "cell_type": "code",
   "execution_count": 22,
   "metadata": {
    "ExecuteTime": {
     "end_time": "2021-04-24T13:00:50.405361Z",
     "start_time": "2021-04-24T13:00:50.399739Z"
    }
   },
   "outputs": [],
   "source": [
    "def batch_generator(X, y, batch_size, shuffle):\n",
    "    #chenglong code for fiting from generator (https://www.kaggle.com/c/talkingdata-mobile-user-demographics/forums/t/22567/neural-network-for-sparse-matrices)\n",
    "    number_of_batches = np.ceil(X.shape[0]/batch_size)\n",
    "    counter = 0\n",
    "    sample_index = np.arange(X.shape[0])\n",
    "\n",
    "    if shuffle:\n",
    "        np.random.shuffle(sample_index)\n",
    "        \n",
    "    while True:\n",
    "        batch_index = sample_index[batch_size*counter:batch_size*(counter+1)]\n",
    "        X_batch = X[batch_index,:].toarray()\n",
    "        y_batch = y[batch_index]\n",
    "        counter += 1\n",
    "        yield X_batch, y_batch\n",
    "\n",
    "        if (counter == number_of_batches):\n",
    "            if shuffle:\n",
    "                np.random.shuffle(sample_index)\n",
    "            counter = 0\n",
    "            \n",
    "def batch_generatorp(X, batch_size, shuffle):\n",
    "    number_of_batches = X.shape[0] / np.ceil(X.shape[0]/batch_size)\n",
    "    counter = 0\n",
    "    sample_index = np.arange(X.shape[0])\n",
    "    while True:\n",
    "        batch_index = sample_index[batch_size * counter:batch_size * (counter + 1)]\n",
    "        X_batch = X[batch_index, :].toarray()\n",
    "        counter += 1\n",
    "        yield X_batch\n",
    "        if (counter == number_of_batches):\n",
    "            counter = 0"
   ]
  },
  {
   "cell_type": "markdown",
   "metadata": {},
   "source": [
    "## Uruchamiamy trenowanie"
   ]
  },
  {
   "cell_type": "code",
   "execution_count": 23,
   "metadata": {
    "ExecuteTime": {
     "end_time": "2021-04-24T13:02:05.857240Z",
     "start_time": "2021-04-24T13:00:50.428469Z"
    }
   },
   "outputs": [
    {
     "name": "stderr",
     "output_type": "stream",
     "text": [
      "2022-10-18 13:26:10.717353: I tensorflow/core/platform/cpu_feature_guard.cc:193] This TensorFlow binary is optimized with oneAPI Deep Neural Network Library (oneDNN) to use the following CPU instructions in performance-critical operations:  AVX2 FMA\n",
      "To enable them in other operations, rebuild TensorFlow with the appropriate compiler flags.\n"
     ]
    },
    {
     "name": "stdout",
     "output_type": "stream",
     "text": [
      "Epoch 1/4\n",
      "WARNING:tensorflow:Your input ran out of data; interrupting training. Make sure that your dataset or generator can generate at least `steps_per_epoch * epochs` batches (in this case, 62.5 batches). You may need to use the repeat() function when building your dataset.\n",
      "100/100 - 3s - loss: 7.1715 - val_loss: 6.8714 - 3s/epoch - 26ms/step\n",
      "Epoch 2/4\n",
      "100/100 - 1s - loss: 4.9503 - 802ms/epoch - 8ms/step\n",
      "Epoch 3/4\n",
      "100/100 - 1s - loss: 1.9992 - 825ms/epoch - 8ms/step\n",
      "Epoch 4/4\n",
      "100/100 - 1s - loss: 1.2960 - 807ms/epoch - 8ms/step\n"
     ]
    },
    {
     "name": "stderr",
     "output_type": "stream",
     "text": [
      "/var/folders/00/3f1t2rhd45l6fvmbkz20ptgh00dr78/T/ipykernel_84017/2962722046.py:19: UserWarning: `Model.predict_generator` is deprecated and will be removed in a future version. Please use `Model.predict`, which supports generators.\n",
      "  y_pred = np.exp(model.predict_generator(generator = batch_generatorp(X_test, 128, False), steps = X_test.shape[0])[:,0])\n"
     ]
    },
    {
     "name": "stdout",
     "output_type": "stream",
     "text": [
      "Fold1, score=1634.4840805802462\n",
      "Epoch 1/4\n",
      "WARNING:tensorflow:Your input ran out of data; interrupting training. Make sure that your dataset or generator can generate at least `steps_per_epoch * epochs` batches (in this case, 62.5 batches). You may need to use the repeat() function when building your dataset.\n",
      "100/100 - 2s - loss: 7.1146 - val_loss: 6.7120 - 2s/epoch - 20ms/step\n",
      "Epoch 2/4\n",
      "100/100 - 1s - loss: 4.8363 - 767ms/epoch - 8ms/step\n",
      "Epoch 3/4\n",
      "100/100 - 1s - loss: 1.9867 - 814ms/epoch - 8ms/step\n",
      "Epoch 4/4\n",
      "100/100 - 1s - loss: 1.3298 - 851ms/epoch - 9ms/step\n"
     ]
    },
    {
     "name": "stderr",
     "output_type": "stream",
     "text": [
      "/var/folders/00/3f1t2rhd45l6fvmbkz20ptgh00dr78/T/ipykernel_84017/2962722046.py:19: UserWarning: `Model.predict_generator` is deprecated and will be removed in a future version. Please use `Model.predict`, which supports generators.\n",
      "  y_pred = np.exp(model.predict_generator(generator = batch_generatorp(X_test, 128, False), steps = X_test.shape[0])[:,0])\n"
     ]
    },
    {
     "name": "stdout",
     "output_type": "stream",
     "text": [
      "Fold2, score=1844.3859590144807\n",
      "Epoch 1/4\n",
      "WARNING:tensorflow:Your input ran out of data; interrupting training. Make sure that your dataset or generator can generate at least `steps_per_epoch * epochs` batches (in this case, 62.5 batches). You may need to use the repeat() function when building your dataset.\n",
      "100/100 - 2s - loss: 7.0922 - val_loss: 6.0995 - 2s/epoch - 19ms/step\n",
      "Epoch 2/4\n",
      "100/100 - 1s - loss: 4.7742 - 1s/epoch - 10ms/step\n",
      "Epoch 3/4\n",
      "100/100 - 1s - loss: 1.9803 - 1s/epoch - 10ms/step\n",
      "Epoch 4/4\n",
      "100/100 - 1s - loss: 1.3389 - 1s/epoch - 12ms/step\n"
     ]
    },
    {
     "name": "stderr",
     "output_type": "stream",
     "text": [
      "/var/folders/00/3f1t2rhd45l6fvmbkz20ptgh00dr78/T/ipykernel_84017/2962722046.py:19: UserWarning: `Model.predict_generator` is deprecated and will be removed in a future version. Please use `Model.predict`, which supports generators.\n",
      "  y_pred = np.exp(model.predict_generator(generator = batch_generatorp(X_test, 128, False), steps = X_test.shape[0])[:,0])\n"
     ]
    },
    {
     "name": "stdout",
     "output_type": "stream",
     "text": [
      "Fold3, score=1842.1715337226474\n"
     ]
    }
   ],
   "source": [
    "nepochs = 4\n",
    "nfolds = 3\n",
    "\n",
    "cv = KFold(n_splits=nfolds, shuffle = True, random_state = 2019)\n",
    "\n",
    "for num_iter, (train_index, test_index) in enumerate(cv.split(y)):\n",
    "    X_train, y_train = X[train_index], y[train_index]\n",
    "    X_test, y_test   = X[test_index], y[test_index]\n",
    "        \n",
    "    model = nn_model(X_train.shape[1])\n",
    "\n",
    "    model.fit(batch_generator(X_train, y_train, 128, True),\n",
    "                                  epochs = nepochs,\n",
    "                                  steps_per_epoch = 100,\n",
    "                                  validation_data=(X_test.todense(), y_test),\n",
    "                                  validation_steps=62.5,\n",
    "                                  verbose = 2) \n",
    "    \n",
    "    y_pred = np.exp(model.predict_generator(generator = batch_generatorp(X_test, 128, False), steps = X_test.shape[0])[:,0])\n",
    "\n",
    "    score = mean_absolute_error(np.exp(y_test), y_pred)\n",
    "    print(\"Fold{0}, score={1}\".format(num_iter+1, score))"
   ]
  },
  {
   "cell_type": "code",
   "execution_count": null,
   "metadata": {},
   "outputs": [],
   "source": []
  }
 ],
 "metadata": {
  "kernelspec": {
   "display_name": "umapkernel",
   "language": "python",
   "name": "umapkernel"
  },
  "language_info": {
   "codemirror_mode": {
    "name": "ipython",
    "version": 3
   },
   "file_extension": ".py",
   "mimetype": "text/x-python",
   "name": "python",
   "nbconvert_exporter": "python",
   "pygments_lexer": "ipython3",
   "version": "3.9.12"
  }
 },
 "nbformat": 4,
 "nbformat_minor": 2
}
