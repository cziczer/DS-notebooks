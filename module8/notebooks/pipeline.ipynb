{
 "cells": [
  {
   "cell_type": "markdown",
   "metadata": {},
   "source": [
    "# Pipeline"
   ]
  },
  {
   "cell_type": "code",
   "execution_count": 2,
   "metadata": {
    "ExecuteTime": {
     "end_time": "2021-05-16T14:34:44.819989Z",
     "start_time": "2021-05-16T14:34:43.555281Z"
    }
   },
   "outputs": [],
   "source": [
    "import pandas as pd\n",
    "import numpy as np\n",
    "np.random.seed(0)\n",
    "\n",
    "from ml_metrics import rmsle\n",
    "from sklearn.dummy import DummyRegressor\n",
    "from sklearn.linear_model import LinearRegression\n",
    "from sklearn.tree import DecisionTreeRegressor\n",
    "from sklearn.ensemble import RandomForestRegressor\n",
    "\n",
    "from sklearn.model_selection import GroupKFold\n",
    "\n",
    "from sklearn.pipeline import Pipeline, make_pipeline, FeatureUnion, make_union\n",
    "from sklearn.base import TransformerMixin, BaseEstimator, RegressorMixin\n",
    "from sklearn.impute import SimpleImputer\n",
    "\n",
    "from sklearn.preprocessing import StandardScaler, MinMaxScaler\n",
    "from sklearn.feature_selection import VarianceThreshold, SelectKBest, RFE\n",
    "\n",
    "import matplotlib.pyplot as plt\n",
    "%matplotlib inline"
   ]
  },
  {
   "cell_type": "code",
   "execution_count": 3,
   "metadata": {},
   "outputs": [],
   "source": [
    "def confusion_matrix(rater_a, rater_b, min_rating=None, max_rating=None):\n",
    "    \"\"\"\n",
    "    Returns the confusion matrix between rater's ratings\n",
    "    \"\"\"\n",
    "    assert(len(rater_a) == len(rater_b))\n",
    "    if min_rating is None:\n",
    "        min_rating = min(rater_a + rater_b)\n",
    "    if max_rating is None:\n",
    "        max_rating = max(rater_a + rater_b)\n",
    "    num_ratings = int(max_rating - min_rating + 1)\n",
    "    conf_mat = [[0 for i in range(num_ratings)]\n",
    "                for j in range(num_ratings)]\n",
    "    for a, b in zip(rater_a, rater_b):\n",
    "        conf_mat[a - min_rating][b - min_rating] += 1\n",
    "    return conf_mat\n",
    "\n",
    "\n",
    "def histogram(ratings, min_rating=None, max_rating=None):\n",
    "    \"\"\"\n",
    "    Returns the counts of each type of rating that a rater made\n",
    "    \"\"\"\n",
    "    if min_rating is None:\n",
    "        min_rating = min(ratings)\n",
    "    if max_rating is None:\n",
    "        max_rating = max(ratings)\n",
    "    num_ratings = int(max_rating - min_rating + 1)\n",
    "    hist_ratings = [0 for x in range(num_ratings)]\n",
    "    for r in ratings:\n",
    "        hist_ratings[r - min_rating] += 1\n",
    "    return hist_ratings\n",
    "\n",
    "\n",
    "def quadratic_weighted_kappa(rater_a, rater_b, min_rating=None, max_rating=None):\n",
    "    \"\"\"\n",
    "    Calculates the quadratic weighted kappa\n",
    "    quadratic_weighted_kappa calculates the quadratic weighted kappa\n",
    "    value, which is a measure of inter-rater agreement between two raters\n",
    "    that provide discrete numeric ratings.  Potential values range from -1\n",
    "    (representing complete disagreement) to 1 (representing complete\n",
    "    agreement).  A kappa value of 0 is expected if all agreement is due to\n",
    "    chance.\n",
    "    quadratic_weighted_kappa(rater_a, rater_b), where rater_a and rater_b\n",
    "    each correspond to a list of integer ratings.  These lists must have the\n",
    "    same length.\n",
    "    The ratings should be integers, and it is assumed that they contain\n",
    "    the complete range of possible ratings.\n",
    "    quadratic_weighted_kappa(X, min_rating, max_rating), where min_rating\n",
    "    is the minimum possible rating, and max_rating is the maximum possible\n",
    "    rating\n",
    "    \"\"\"\n",
    "    rater_a = np.array(rater_a, dtype=int)\n",
    "    rater_b = np.array(rater_b, dtype=int)\n",
    "    assert(len(rater_a) == len(rater_b))\n",
    "    if min_rating is None:\n",
    "        min_rating = min(min(rater_a), min(rater_b))\n",
    "    if max_rating is None:\n",
    "        max_rating = max(max(rater_a), max(rater_b))\n",
    "    conf_mat = confusion_matrix(rater_a, rater_b,\n",
    "                                min_rating, max_rating)\n",
    "    num_ratings = len(conf_mat)\n",
    "    num_scored_items = float(len(rater_a))\n",
    "\n",
    "    hist_rater_a = histogram(rater_a, min_rating, max_rating)\n",
    "    hist_rater_b = histogram(rater_b, min_rating, max_rating)\n",
    "\n",
    "    numerator = 0.0\n",
    "    denominator = 0.0\n",
    "\n",
    "    for i in range(num_ratings):\n",
    "        for j in range(num_ratings):\n",
    "            expected_count = (hist_rater_a[i] * hist_rater_b[j]\n",
    "                              / num_scored_items)\n",
    "            d = pow(i - j, 2.0) / pow(num_ratings - 1, 2.0)\n",
    "            numerator += d * conf_mat[i][j] / num_scored_items\n",
    "            denominator += d * expected_count / num_scored_items\n",
    "\n",
    "    return 1.0 - numerator / denominator\n",
    "\n",
    "\n",
    "def linear_weighted_kappa(rater_a, rater_b, min_rating=None, max_rating=None):\n",
    "    \"\"\"\n",
    "    Calculates the linear weighted kappa\n",
    "    linear_weighted_kappa calculates the linear weighted kappa\n",
    "    value, which is a measure of inter-rater agreement between two raters\n",
    "    that provide discrete numeric ratings.  Potential values range from -1\n",
    "    (representing complete disagreement) to 1 (representing complete\n",
    "    agreement).  A kappa value of 0 is expected if all agreement is due to\n",
    "    chance.\n",
    "    linear_weighted_kappa(rater_a, rater_b), where rater_a and rater_b\n",
    "    each correspond to a list of integer ratings.  These lists must have the\n",
    "    same length.\n",
    "    The ratings should be integers, and it is assumed that they contain\n",
    "    the complete range of possible ratings.\n",
    "    linear_weighted_kappa(X, min_rating, max_rating), where min_rating\n",
    "    is the minimum possible rating, and max_rating is the maximum possible\n",
    "    rating\n",
    "    \"\"\"\n",
    "    assert(len(rater_a) == len(rater_b))\n",
    "    if min_rating is None:\n",
    "        min_rating = min(rater_a + rater_b)\n",
    "    if max_rating is None:\n",
    "        max_rating = max(rater_a + rater_b)\n",
    "    conf_mat = confusion_matrix(rater_a, rater_b,\n",
    "                                min_rating, max_rating)\n",
    "    num_ratings = len(conf_mat)\n",
    "    num_scored_items = float(len(rater_a))\n",
    "\n",
    "    hist_rater_a = histogram(rater_a, min_rating, max_rating)\n",
    "    hist_rater_b = histogram(rater_b, min_rating, max_rating)\n",
    "\n",
    "    numerator = 0.0\n",
    "    denominator = 0.0\n",
    "\n",
    "    for i in range(num_ratings):\n",
    "        for j in range(num_ratings):\n",
    "            expected_count = (hist_rater_a[i] * hist_rater_b[j]\n",
    "                              / num_scored_items)\n",
    "            d = abs(i - j) / float(num_ratings - 1)\n",
    "            numerator += d * conf_mat[i][j] / num_scored_items\n",
    "            denominator += d * expected_count / num_scored_items\n",
    "\n",
    "    return 1.0 - numerator / denominator\n",
    "\n",
    "\n",
    "def kappa(rater_a, rater_b, min_rating=None, max_rating=None):\n",
    "    \"\"\"\n",
    "    Calculates the kappa\n",
    "    kappa calculates the kappa\n",
    "    value, which is a measure of inter-rater agreement between two raters\n",
    "    that provide discrete numeric ratings.  Potential values range from -1\n",
    "    (representing complete disagreement) to 1 (representing complete\n",
    "    agreement).  A kappa value of 0 is expected if all agreement is due to\n",
    "    chance.\n",
    "    kappa(rater_a, rater_b), where rater_a and rater_b\n",
    "    each correspond to a list of integer ratings.  These lists must have the\n",
    "    same length.\n",
    "    The ratings should be integers, and it is assumed that they contain\n",
    "    the complete range of possible ratings.\n",
    "    kappa(X, min_rating, max_rating), where min_rating\n",
    "    is the minimum possible rating, and max_rating is the maximum possible\n",
    "    rating\n",
    "    \"\"\"\n",
    "    assert(len(rater_a) == len(rater_b))\n",
    "    if min_rating is None:\n",
    "        min_rating = min(rater_a + rater_b)\n",
    "    if max_rating is None:\n",
    "        max_rating = max(rater_a + rater_b)\n",
    "    conf_mat = confusion_matrix(rater_a, rater_b,\n",
    "                                min_rating, max_rating)\n",
    "    num_ratings = len(conf_mat)\n",
    "    num_scored_items = float(len(rater_a))\n",
    "\n",
    "    hist_rater_a = histogram(rater_a, min_rating, max_rating)\n",
    "    hist_rater_b = histogram(rater_b, min_rating, max_rating)\n",
    "\n",
    "    numerator = 0.0\n",
    "    denominator = 0.0\n",
    "\n",
    "    for i in range(num_ratings):\n",
    "        for j in range(num_ratings):\n",
    "            expected_count = (hist_rater_a[i] * hist_rater_b[j]\n",
    "                              / num_scored_items)\n",
    "            if i == j:\n",
    "                d = 0.0\n",
    "            else:\n",
    "                d = 1.0\n",
    "            numerator += d * conf_mat[i][j] / num_scored_items\n",
    "            denominator += d * expected_count / num_scored_items\n",
    "\n",
    "    return 1.0 - numerator / denominator\n",
    "\n",
    "\n",
    "def mean_quadratic_weighted_kappa(kappas, weights=None):\n",
    "    \"\"\"\n",
    "    Calculates the mean of the quadratic\n",
    "    weighted kappas after applying Fisher's r-to-z transform, which is\n",
    "    approximately a variance-stabilizing transformation.  This\n",
    "    transformation is undefined if one of the kappas is 1.0, so all kappa\n",
    "    values are capped in the range (-0.999, 0.999).  The reverse\n",
    "    transformation is then applied before returning the result.\n",
    "    mean_quadratic_weighted_kappa(kappas), where kappas is a vector of\n",
    "    kappa values\n",
    "    mean_quadratic_weighted_kappa(kappas, weights), where weights is a vector\n",
    "    of weights that is the same size as kappas.  Weights are applied in the\n",
    "    z-space\n",
    "    \"\"\"\n",
    "    kappas = np.array(kappas, dtype=float)\n",
    "    if weights is None:\n",
    "        weights = np.ones(np.shape(kappas))\n",
    "    else:\n",
    "        weights = weights / np.mean(weights)\n",
    "\n",
    "    # ensure that kappas are in the range [-.999, .999]\n",
    "    kappas = np.array([min(x, .999) for x in kappas])\n",
    "    kappas = np.array([max(x, -.999) for x in kappas])\n",
    "\n",
    "    z = 0.5 * np.log((1 + kappas) / (1 - kappas)) * weights\n",
    "    z = np.mean(z)\n",
    "    return (np.exp(2 * z) - 1) / (np.exp(2 * z) + 1)\n",
    "\n",
    "\n",
    "def weighted_mean_quadratic_weighted_kappa(solution, submission):\n",
    "    predicted_score = submission[submission.columns[-1]].copy()\n",
    "    predicted_score.name = \"predicted_score\"\n",
    "    if predicted_score.index[0] == 0:\n",
    "        predicted_score = predicted_score[:len(solution)]\n",
    "        predicted_score.index = solution.index\n",
    "    combined = solution.join(predicted_score, how=\"left\")\n",
    "    groups = combined.groupby(by=\"essay_set\")\n",
    "    kappas = [quadratic_weighted_kappa(group[1][\"essay_score\"], group[1][\"predicted_score\"]) for group in groups]\n",
    "    weights = [group[1][\"essay_weight\"].irow(0) for group in groups]\n",
    "    return mean_quadratic_weighted_kappa(kappas, weights=weights)"
   ]
  },
  {
   "cell_type": "code",
   "execution_count": 8,
   "metadata": {},
   "outputs": [],
   "source": [
    "def ae(actual, predicted):\n",
    "    \"\"\"\n",
    "    Computes the absolute error.\n",
    "    This function computes the absolute error between two numbers,\n",
    "    or for element between a pair of lists or numpy arrays.\n",
    "    Parameters\n",
    "    ----------\n",
    "    actual : int, float, list of numbers, numpy array\n",
    "             The ground truth value\n",
    "    predicted : same type as actual\n",
    "                The predicted value\n",
    "    Returns\n",
    "    -------\n",
    "    score : double or list of doubles\n",
    "            The absolute error between actual and predicted\n",
    "    \"\"\"\n",
    "    return np.abs(np.array(actual)-np.array(predicted))\n",
    "\n",
    "def ce(actual, predicted):\n",
    "    \"\"\"\n",
    "    Computes the classification error.\n",
    "    This function computes the classification error between two lists\n",
    "    Parameters\n",
    "    ----------\n",
    "    actual : list\n",
    "             A list of the true classes\n",
    "    predicted : list\n",
    "                A list of the predicted classes\n",
    "    Returns\n",
    "    -------\n",
    "    score : double\n",
    "            The classification error between actual and predicted\n",
    "    \"\"\"\n",
    "    return (sum([1.0 for x,y in zip(actual,predicted) if x != y]) /\n",
    "            len(actual))\n",
    "\n",
    "def mae(actual, predicted):\n",
    "    \"\"\"\n",
    "    Computes the mean absolute error.\n",
    "    This function computes the mean absolute error between two lists\n",
    "    of numbers.\n",
    "    Parameters\n",
    "    ----------\n",
    "    actual : list of numbers, numpy array\n",
    "             The ground truth value\n",
    "    predicted : same type as actual\n",
    "                The predicted value\n",
    "    Returns\n",
    "    -------\n",
    "    score : double\n",
    "            The mean absolute error between actual and predicted\n",
    "    \"\"\"\n",
    "    return np.mean(ae(actual, predicted))\n",
    "\n",
    "def mse(actual, predicted):\n",
    "    \"\"\"\n",
    "    Computes the mean squared error.\n",
    "    This function computes the mean squared error between two lists\n",
    "    of numbers.\n",
    "    Parameters\n",
    "    ----------\n",
    "    actual : list of numbers, numpy array\n",
    "             The ground truth value\n",
    "    predicted : same type as actual\n",
    "                The predicted value\n",
    "    Returns\n",
    "    -------\n",
    "    score : double\n",
    "            The mean squared error between actual and predicted\n",
    "    \"\"\"\n",
    "    return np.mean(se(actual, predicted))\n",
    "\n",
    "def msle(actual, predicted):\n",
    "    \"\"\"\n",
    "    Computes the mean squared log error.\n",
    "    This function computes the mean squared log error between two lists\n",
    "    of numbers.\n",
    "    Parameters\n",
    "    ----------\n",
    "    actual : list of numbers, numpy array\n",
    "             The ground truth value\n",
    "    predicted : same type as actual\n",
    "                The predicted value\n",
    "    Returns\n",
    "    -------\n",
    "    score : double\n",
    "            The mean squared log error between actual and predicted\n",
    "    \"\"\"\n",
    "    return np.mean(sle(actual, predicted))\n",
    "\n",
    "def rmse(actual, predicted):\n",
    "    \"\"\"\n",
    "    Computes the root mean squared error.\n",
    "    This function computes the root mean squared error between two lists\n",
    "    of numbers.\n",
    "    Parameters\n",
    "    ----------\n",
    "    actual : list of numbers, numpy array\n",
    "             The ground truth value\n",
    "    predicted : same type as actual\n",
    "                The predicted value\n",
    "    Returns\n",
    "    -------\n",
    "    score : double\n",
    "            The root mean squared error between actual and predicted\n",
    "    \"\"\"\n",
    "    return np.sqrt(mse(actual, predicted))\n",
    "\n",
    "def rmsle(actual, predicted):\n",
    "    \"\"\"\n",
    "    Computes the root mean squared log error.\n",
    "    This function computes the root mean squared log error between two lists\n",
    "    of numbers.\n",
    "    Parameters\n",
    "    ----------\n",
    "    actual : list of numbers, numpy array\n",
    "             The ground truth value\n",
    "    predicted : same type as actual\n",
    "                The predicted value\n",
    "    Returns\n",
    "    -------\n",
    "    score : double\n",
    "            The root mean squared log error between actual and predicted\n",
    "    \"\"\"\n",
    "    return np.sqrt(msle(actual, predicted))\n",
    "\n",
    "def se(actual, predicted):\n",
    "    \"\"\"\n",
    "    Computes the squared error.\n",
    "    This function computes the squared error between two numbers,\n",
    "    or for element between a pair of lists or numpy arrays.\n",
    "    Parameters\n",
    "    ----------\n",
    "    actual : int, float, list of numbers, numpy array\n",
    "             The ground truth value\n",
    "    predicted : same type as actual\n",
    "                The predicted value\n",
    "    Returns\n",
    "    -------\n",
    "    score : double or list of doubles\n",
    "            The squared error between actual and predicted\n",
    "    \"\"\"\n",
    "    return np.power(np.array(actual)-np.array(predicted), 2)\n",
    "\n",
    "def sle(actual, predicted):\n",
    "    \"\"\"\n",
    "    Computes the squared log error.\n",
    "    This function computes the squared log error between two numbers,\n",
    "    or for element between a pair of lists or numpy arrays.\n",
    "    Parameters\n",
    "    ----------\n",
    "    actual : int, float, list of numbers, numpy array\n",
    "             The ground truth value\n",
    "    predicted : same type as actual\n",
    "                The predicted value\n",
    "    Returns\n",
    "    -------\n",
    "    score : double or list of doubles\n",
    "            The squared log error between actual and predicted\n",
    "    \"\"\"\n",
    "    return (np.power(np.log(np.array(actual)+1) - \n",
    "            np.log(np.array(predicted)+1), 2))\n",
    "\n",
    "def ll(actual, predicted):\n",
    "    \"\"\"\n",
    "    Computes the log likelihood.\n",
    "    This function computes the log likelihood between two numbers,\n",
    "    or for element between a pair of lists or numpy arrays.\n",
    "    Parameters\n",
    "    ----------\n",
    "    actual : int, float, list of numbers, numpy array\n",
    "             The ground truth value\n",
    "    predicted : same type as actual\n",
    "                The predicted value\n",
    "    Returns\n",
    "    -------\n",
    "    score : double or list of doubles\n",
    "            The log likelihood error between actual and predicted\n",
    "    \"\"\"\n",
    "    actual = np.array(actual)\n",
    "    predicted = np.array(predicted)\n",
    "    err = np.seterr(all='ignore')\n",
    "    score = -(actual*np.log(predicted)+(1-actual)*np.log(1-predicted))\n",
    "    np.seterr(divide=err['divide'], over=err['over'],\n",
    "              under=err['under'], invalid=err['invalid'])\n",
    "    if type(score)==np.ndarray:\n",
    "        score[np.isnan(score)] = 0\n",
    "    else:\n",
    "        if np.isnan(score):\n",
    "            score = 0\n",
    "    return score\n",
    "\n",
    "def log_loss(actual, predicted):\n",
    "    \"\"\"\n",
    "    Computes the log loss.\n",
    "    This function computes the log loss between two lists\n",
    "    of numbers.\n",
    "    Parameters\n",
    "    ----------\n",
    "    actual : list of numbers, numpy array\n",
    "             The ground truth value\n",
    "    predicted : same type as actual\n",
    "                The predicted value\n",
    "    Returns\n",
    "    -------\n",
    "    score : double\n",
    "            The log loss between actual and predicted\n",
    "    \"\"\"\n",
    "    return np.mean(ll(actual, predicted))"
   ]
  },
  {
   "cell_type": "code",
   "execution_count": 4,
   "metadata": {
    "ExecuteTime": {
     "end_time": "2021-05-16T14:34:45.078739Z",
     "start_time": "2021-05-16T14:34:44.856216Z"
    }
   },
   "outputs": [
    {
     "name": "stdout",
     "output_type": "stream",
     "text": [
      "<class 'pandas.core.frame.DataFrame'>\n",
      "Int64Index: 10886 entries, 0 to 10885\n",
      "Data columns (total 12 columns):\n",
      " #   Column      Non-Null Count  Dtype  \n",
      "---  ------      --------------  -----  \n",
      " 0   datetime    10886 non-null  object \n",
      " 1   season      10886 non-null  int64  \n",
      " 2   holiday     10886 non-null  int64  \n",
      " 3   workingday  10886 non-null  int64  \n",
      " 4   weather     10886 non-null  int64  \n",
      " 5   temp        10886 non-null  float64\n",
      " 6   atemp       10886 non-null  float64\n",
      " 7   humidity    10886 non-null  int64  \n",
      " 8   windspeed   10886 non-null  float64\n",
      " 9   casual      10886 non-null  int64  \n",
      " 10  registered  10886 non-null  int64  \n",
      " 11  count       10886 non-null  int64  \n",
      "dtypes: float64(3), int64(8), object(1)\n",
      "memory usage: 1.1+ MB\n"
     ]
    }
   ],
   "source": [
    "df_train = pd.read_hdf('../input/train_bike.h5')\n",
    "df_train.info()"
   ]
  },
  {
   "cell_type": "markdown",
   "metadata": {},
   "source": [
    "## Dane\n",
    "Wróćmy do zbioru, którego dotknęliśmy w module 4 - `Bike Sharing Demand`.\n",
    "\n",
    "Zadaniem jest zrobienie predykcji popytu - ile rowerów powinno być na danej stacji dla danej godziny.\n",
    "\n",
    "https://www.kaggle.com/c/bike-sharing-demand/data\n",
    "\n",
    "- **datetime** - hourly date + timestamp  \n",
    "- **season** -  1 = spring, 2 = summer, 3 = fall, 4 = winter \n",
    "- **holiday** - whether the day is considered a holiday\n",
    "- **workingday** - whether the day is neither a weekend nor holiday\n",
    "- **weather** -   \n",
    "    1: Clear, Few clouds, Partly cloudy, Partly cloudy  \n",
    "    2: Mist + Cloudy, Mist + Broken clouds, Mist + Few clouds, Mist  \n",
    "    3: Light Snow, Light Rain + Thunderstorm + Scattered clouds, Light Rain + Scattered clouds  \n",
    "    4: Heavy Rain + Ice Pallets + Thunderstorm + Mist, Snow + Fog \n",
    "- **temp** - temperature in Celsius\n",
    "- **atemp** - \"feels like\" temperature in Celsius\n",
    "- **humidity** - relative humidity\n",
    "- **windspeed** - wind speed\n",
    "- **casual** - number of non-registered user rentals initiated\n",
    "- **registered** - number of registered user rentals initiated\n",
    "- **count** - number of total rentals\n",
    "\n",
    "*Zwróć uwagę*, że `count = casual + registered`. To oznacza, że trzy kolumny są powiązane ze zmienną docelową i nie mogą być użyte podczas trenowania.\n",
    "\n",
    "Sprawdźmy rozkład zmiennej docelowej."
   ]
  },
  {
   "cell_type": "code",
   "execution_count": 5,
   "metadata": {
    "ExecuteTime": {
     "end_time": "2021-05-16T14:34:45.612499Z",
     "start_time": "2021-05-16T14:34:45.118092Z"
    }
   },
   "outputs": [
    {
     "data": {
      "image/png": "[encoded data removed]",
      "text/plain": [
       "<Figure size 1080x360 with 1 Axes>"
      ]
     },
     "metadata": {
      "needs_background": "light"
     },
     "output_type": "display_data"
    }
   ],
   "source": [
    "df_train['count'].hist(bins=100, figsize=(15, 5));"
   ]
  },
  {
   "cell_type": "markdown",
   "metadata": {},
   "source": [
    "*Swoją drogą*, czy to dla Ciebie była niespodzianka, że rozkład z \"popytem\" będzie wyglądał na skrzywiony? \n",
    "Pewnie już wiesz, co chcemy z tym zrobić, ale na razie zostawmy tak jak jest.\n",
    "\n",
    "Metryką sukcesu będzie **RMSLE** (która bardziej karze zaniżanie wyniku). W ramach przypomnienia poniżej wzór:\n",
    "\n",
    "$$ \\sqrt{\\frac{1}{n} \\sum_{i=1}^n (\\log(p_i + 1) - \\log(a_i+1))^2 }$$\n",
    "\n",
    "Zbudujmy najprostszy możliwy model."
   ]
  },
  {
   "cell_type": "markdown",
   "metadata": {},
   "source": [
    "## Basic Model"
   ]
  },
  {
   "cell_type": "code",
   "execution_count": 6,
   "metadata": {
    "ExecuteTime": {
     "end_time": "2021-05-16T14:34:45.668830Z",
     "start_time": "2021-05-16T14:34:45.653460Z"
    }
   },
   "outputs": [],
   "source": [
    "feats = df_train.select_dtypes(include=[np.int64, np.float64]).columns\n",
    "feats = feats[ (feats != 'count') & (feats != 'registered') & (feats != 'casual') ]\n",
    "\n",
    "X = df_train[feats].values\n",
    "y = df_train['count'].values"
   ]
  },
  {
   "cell_type": "code",
   "execution_count": 9,
   "metadata": {
    "ExecuteTime": {
     "end_time": "2021-05-16T14:34:45.716452Z",
     "start_time": "2021-05-16T14:34:45.705313Z"
    }
   },
   "outputs": [
    {
     "name": "stdout",
     "output_type": "stream",
     "text": [
      "dummy-mean 1.5691983019475926\n",
      "dummy-median 1.4725894242962372\n"
     ]
    }
   ],
   "source": [
    "models = [\n",
    "    ('dummy-mean', DummyRegressor(strategy='mean')),\n",
    "    ('dummy-median', DummyRegressor(strategy='median')),\n",
    "]\n",
    "\n",
    "for model_name, model in models:\n",
    "    model.fit(X, y)\n",
    "    y_pred = model.predict(X)\n",
    "    score = rmsle(y, y_pred)\n",
    "    \n",
    "    print(model_name, score)"
   ]
  },
  {
   "cell_type": "markdown",
   "metadata": {},
   "source": [
    "Teraz spróbujmy użyć drzewa decyzyjnego i lasów losowych.\n",
    "\n",
    "*Zwróć uwagę*, że podaję `random_state`, żeby wynik był powtarzalny."
   ]
  },
  {
   "cell_type": "code",
   "execution_count": 10,
   "metadata": {
    "ExecuteTime": {
     "end_time": "2021-05-16T14:34:46.007173Z",
     "start_time": "2021-05-16T14:34:45.758522Z"
    }
   },
   "outputs": [
    {
     "name": "stdout",
     "output_type": "stream",
     "text": [
      "dt 1.3345865242240684\n",
      "rf 1.3325396672694263\n"
     ]
    }
   ],
   "source": [
    "models = [\n",
    "    ('dt', DecisionTreeRegressor(max_depth=5, random_state=2019)),\n",
    "    ('rf', RandomForestRegressor(max_depth=5, n_estimators=20, random_state=2019)),\n",
    "]\n",
    "\n",
    "for model_name, model in models:\n",
    "    model.fit(X, y)\n",
    "    y_pred = model.predict(X)\n",
    "    score = rmsle(y, y_pred)\n",
    "    \n",
    "    print(model_name, score)"
   ]
  },
  {
   "cell_type": "markdown",
   "metadata": {},
   "source": [
    "Wynik jest trochę lepszy niż dla `dummy`, ale jest jeszcze nad czym popracować. W tej chwili w ogóle nie wykorzystujemy cechy `datetime`, więc coś z tym zaraz zrobimy.\n",
    "\n",
    "Warto już również zacząć myśleć o tym, jak będziemy walidować rozwiązanie, bo cały czas trenujemy i testujemy na tym samym zbiorze."
   ]
  },
  {
   "cell_type": "code",
   "execution_count": 11,
   "metadata": {
    "ExecuteTime": {
     "end_time": "2021-05-16T14:34:46.065714Z",
     "start_time": "2021-05-16T14:34:46.043792Z"
    }
   },
   "outputs": [],
   "source": [
    "df_train['datetime'] = pd.to_datetime( df_train['datetime'] )\n",
    "\n",
    "df_train['hour'] = df_train['datetime'].dt.hour\n",
    "df_train['day'] = df_train['datetime'].dt.day\n",
    "df_train['month'] = df_train['datetime'].dt.month\n",
    "df_train['year'] = df_train['datetime'].dt.year"
   ]
  },
  {
   "cell_type": "markdown",
   "metadata": {},
   "source": [
    "Pojawiły się nowe cechy, więc trzeba jeszcze raz wczytać dane do `X`."
   ]
  },
  {
   "cell_type": "code",
   "execution_count": 12,
   "metadata": {
    "ExecuteTime": {
     "end_time": "2021-05-16T14:34:46.124320Z",
     "start_time": "2021-05-16T14:34:46.110544Z"
    }
   },
   "outputs": [],
   "source": [
    "feats = df_train.select_dtypes(include=[np.int64, np.float64]).columns\n",
    "feats = feats[ (feats != 'count') & (feats != 'registered') & (feats != 'casual') ]\n",
    "\n",
    "X = df_train[feats].values\n",
    "y = df_train['count'].values"
   ]
  },
  {
   "cell_type": "code",
   "execution_count": 13,
   "metadata": {
    "ExecuteTime": {
     "end_time": "2021-05-16T14:34:46.501270Z",
     "start_time": "2021-05-16T14:34:46.163325Z"
    }
   },
   "outputs": [
    {
     "name": "stdout",
     "output_type": "stream",
     "text": [
      "dt 0.6021408888997963\n",
      "rf 0.5949945087320397\n"
     ]
    }
   ],
   "source": [
    "models = [\n",
    "    ('dt', DecisionTreeRegressor(max_depth=5, random_state=2019)),\n",
    "    ('rf', RandomForestRegressor(max_depth=5, n_estimators=20, random_state=2019)),\n",
    "]\n",
    "\n",
    "for model_name, model in models:\n",
    "    model.fit(X, y)\n",
    "    y_pred = model.predict(X)\n",
    "    score = rmsle(y, y_pred)\n",
    "    \n",
    "    print(model_name, score)"
   ]
  },
  {
   "cell_type": "code",
   "execution_count": 14,
   "metadata": {
    "ExecuteTime": {
     "end_time": "2021-05-16T14:34:46.551403Z",
     "start_time": "2021-05-16T14:34:46.545246Z"
    }
   },
   "outputs": [],
   "source": [
    "def custom_validation(data, feats, target_variable='count', n_folds=3):\n",
    "    X = data[feats].values\n",
    "    y = data[target_variable].values\n",
    "\n",
    "    groups = data['datetime'].dt.month.values\n",
    "    group_kfold = GroupKFold(n_splits=n_folds)\n",
    "    \n",
    "    for train_idx, test_idx in group_kfold.split(X, y, groups):\n",
    "        yield X[train_idx], X[test_idx], y[train_idx], y[test_idx]\n",
    "        \n",
    "        \n",
    "def run_model(model, X_train, X_test, y_train, y_test):\n",
    "    model.fit(X_train, y_train)\n",
    "    y_pred = model.predict(X_test)\n",
    "    return rmsle(y_test, y_pred)"
   ]
  },
  {
   "cell_type": "code",
   "execution_count": 15,
   "metadata": {
    "ExecuteTime": {
     "end_time": "2021-05-16T14:34:47.245152Z",
     "start_time": "2021-05-16T14:34:46.585054Z"
    }
   },
   "outputs": [
    {
     "name": "stdout",
     "output_type": "stream",
     "text": [
      "Model: dt, scores-mean: 0.6209599748149964, scores-std: 0.012074654497161295\n",
      "Model: rf, scores-mean: 0.6045477718222559, scores-std: 0.013652588538452191\n"
     ]
    }
   ],
   "source": [
    "for model_name, model in models:\n",
    "    scores = []\n",
    "    for X_train, X_test, y_train, y_test in custom_validation(df_train, feats):\n",
    "        score = run_model(model, X_train, X_test, y_train, y_test)\n",
    "        scores.append(score)\n",
    "        \n",
    "    print(\"Model: {0}, scores-mean: {1}, scores-std: {2}\".format(model_name, np.mean(scores), np.std(scores)))"
   ]
  },
  {
   "cell_type": "markdown",
   "metadata": {},
   "source": [
    "## Feature engineering\n",
    "Spróbujmy wygenerować jeszcze więcej cech."
   ]
  },
  {
   "cell_type": "code",
   "execution_count": 16,
   "metadata": {
    "ExecuteTime": {
     "end_time": "2021-05-16T14:34:47.298809Z",
     "start_time": "2021-05-16T14:34:47.280086Z"
    }
   },
   "outputs": [
    {
     "name": "stderr",
     "output_type": "stream",
     "text": [
      "/var/folders/00/3f1t2rhd45l6fvmbkz20ptgh00dr78/T/ipykernel_9436/1917838673.py:2: FutureWarning: Series.dt.weekofyear and Series.dt.week have been deprecated. Please use Series.dt.isocalendar().week instead.\n",
      "  df_train['weekofyear'] = df_train['datetime'].dt.weekofyear\n"
     ]
    }
   ],
   "source": [
    "df_train['dayofweek'] = df_train['datetime'].dt.dayofweek\n",
    "df_train['weekofyear'] = df_train['datetime'].dt.weekofyear\n",
    "df_train['weekend'] = df_train.dayofweek.map(lambda x: int(x in [5,6]) )"
   ]
  },
  {
   "cell_type": "code",
   "execution_count": 17,
   "metadata": {
    "ExecuteTime": {
     "end_time": "2021-05-16T14:34:47.343460Z",
     "start_time": "2021-05-16T14:34:47.329629Z"
    }
   },
   "outputs": [],
   "source": [
    "feats = df_train.select_dtypes(include=[np.int64, np.float64]).columns\n",
    "feats = feats[ (feats != 'count') & (feats != 'registered') & (feats != 'casual') ]\n",
    "\n",
    "X = df_train[feats].values\n",
    "y = df_train['count'].values"
   ]
  },
  {
   "cell_type": "code",
   "execution_count": 18,
   "metadata": {
    "ExecuteTime": {
     "end_time": "2021-05-16T14:34:48.128662Z",
     "start_time": "2021-05-16T14:34:47.375478Z"
    }
   },
   "outputs": [
    {
     "name": "stdout",
     "output_type": "stream",
     "text": [
      "Model: dt, scores-mean: 0.6295266771184037, scores-std: 0.0162794568121357\n",
      "Model: rf, scores-mean: 0.608049914962654, scores-std: 0.017740841432186828\n"
     ]
    }
   ],
   "source": [
    "for model_name, model in models:\n",
    "    scores = []\n",
    "    for X_train, X_test, y_train, y_test in custom_validation(df_train, feats):\n",
    "        score = run_model(model, X_train, X_test, y_train, y_test)\n",
    "        scores.append(score)\n",
    "        \n",
    "    print(\"Model: {0}, scores-mean: {1}, scores-std: {2}\".format(model_name, np.mean(scores), np.std(scores)))"
   ]
  },
  {
   "cell_type": "markdown",
   "metadata": {},
   "source": [
    "Widać, że wynik jest porównywalny a nawet trochę gorszy... Również widać, że część kodu powtarza się. Mało tego, bardzo łatwo można się pogubić i odnotować, które cechy są stworzone i w którym miejscu. Dodatkowo, pamiętaj że dokładnie te same transformacje trzeba zrobić zarówno dla zbioru treningowego, jak i testowego.\n",
    "\n",
    "Spróbujmy to uporządkować.\n",
    "\n",
    "Możesz zauważyć, że przedtem zrobiliśmy kilka kroków:\n",
    "1. Wczytanie danych.\n",
    "2. Transformacja (wybranie odpowiednich kolumn i generowanie nowych).\n",
    "3. Budowanie modelu.\n",
    "\n",
    "To wszystko możemy podłączyć do `Pipeline`, które oczekuje na kroki działania. Warto teraz wspomnieć o dwóch rodzajach klas w `sklearn`:\n",
    "- **Transformers** (posiada metody: `fit` i `transform`)\n",
    "- **Estimators** (posiada metody: `fit` i `predict`)\n",
    "\n",
    "`Pipeline` może zawierać jeden lub więcej `Transformer`ów, a ostatni krok to musi być `Estimator` lub innymi słowy model (np. `DecisionTreeRegressor` albo `RandomForestRegressor`).\n",
    "\n",
    "Przykłady transformerów:\n",
    "- [Label Encoder](https://bit.ly/3fobOst) - przypisanie ID dla każdej zmiennej kategorialnej,\n",
    "- [Imputer](https://bit.ly/3uU31oX) - zarządzanie brakami danych,\n",
    "- [SelectKBest](https://bit.ly/2RmOcg2) - wybór *k* najlepszych cech.\n",
    "\n",
    "Możemy również zdefiniować własną klasę tak dla `Transformers`, jak i dla `Estimators`. Zrobienie własnej klasy, która transformuje dane w ten czy inny sposób, zdarza się znacznie częściej, niż tworzenie własnego modelu/estimatora.\n",
    "\n",
    "Na początek zróbmy prosty przykład z modelem liniowym. Najpierw tak jak to robiliśmy dotychczas, a potem z użyciem `Pipeline`."
   ]
  },
  {
   "cell_type": "code",
   "execution_count": 19,
   "metadata": {
    "ExecuteTime": {
     "end_time": "2021-05-16T14:34:48.171301Z",
     "start_time": "2021-05-16T14:34:48.167383Z"
    }
   },
   "outputs": [],
   "source": [
    "def train_and_predict(model, X, y):\n",
    "    model.fit(X, y)\n",
    "    y_pred = model.predict(X)\n",
    "    y_pred[ y_pred < 0 ] =0\n",
    "    return rmsle(y, y_pred)"
   ]
  },
  {
   "cell_type": "code",
   "execution_count": 20,
   "metadata": {
    "ExecuteTime": {
     "end_time": "2021-05-16T14:34:48.213190Z",
     "start_time": "2021-05-16T14:34:48.205551Z"
    }
   },
   "outputs": [],
   "source": [
    "feats = df_train.select_dtypes(include=[np.int64, np.float64]).columns\n",
    "feats = feats[ (feats != 'count') & (feats != 'registered') & (feats != 'casual') ]"
   ]
  },
  {
   "cell_type": "code",
   "execution_count": 21,
   "metadata": {
    "ExecuteTime": {
     "end_time": "2021-05-16T14:34:48.281534Z",
     "start_time": "2021-05-16T14:34:48.249955Z"
    }
   },
   "outputs": [
    {
     "data": {
      "text/plain": [
       "1.2987262749693944"
      ]
     },
     "execution_count": 21,
     "metadata": {},
     "output_type": "execute_result"
    }
   ],
   "source": [
    "X = df_train[feats].values\n",
    "y = df_train['count'].values\n",
    "\n",
    "scalr = MinMaxScaler()\n",
    "X = scalr.fit_transform(X)\n",
    "model = LinearRegression()\n",
    "\n",
    "train_and_predict(model, X, y)"
   ]
  },
  {
   "cell_type": "markdown",
   "metadata": {},
   "source": [
    "## Pipeline\n",
    "To samo co wyżej tylko z `Pipeline`."
   ]
  },
  {
   "cell_type": "code",
   "execution_count": 22,
   "metadata": {
    "ExecuteTime": {
     "end_time": "2021-05-16T14:34:48.379213Z",
     "start_time": "2021-05-16T14:34:48.321180Z"
    }
   },
   "outputs": [
    {
     "data": {
      "text/plain": [
       "1.2987262749693944"
      ]
     },
     "execution_count": 22,
     "metadata": {},
     "output_type": "execute_result"
    }
   ],
   "source": [
    "X = df_train[feats].values\n",
    "y = df_train['count'].values\n",
    "\n",
    "pipeline = Pipeline( [\n",
    "    ('normalize', MinMaxScaler()),\n",
    "    ('model', LinearRegression())\n",
    "])\n",
    "\n",
    "train_and_predict(pipeline, X, y)"
   ]
  },
  {
   "cell_type": "markdown",
   "metadata": {},
   "source": [
    "Również możemy dodać kod, który uzupełnia brakujące elementy używając `SimpleImputer`."
   ]
  },
  {
   "cell_type": "code",
   "execution_count": 23,
   "metadata": {
    "ExecuteTime": {
     "end_time": "2021-05-16T14:34:48.569330Z",
     "start_time": "2021-05-16T14:34:48.470398Z"
    }
   },
   "outputs": [
    {
     "data": {
      "text/plain": [
       "1.2987262749693944"
      ]
     },
     "execution_count": 23,
     "metadata": {},
     "output_type": "execute_result"
    }
   ],
   "source": [
    "pipeline = Pipeline( [\n",
    "    ('imputer', SimpleImputer(strategy='median')),\n",
    "    ('normalize', MinMaxScaler()),\n",
    "    ('model', LinearRegression())\n",
    "])\n",
    "\n",
    "train_and_predict(pipeline, X, y)"
   ]
  },
  {
   "cell_type": "markdown",
   "metadata": {},
   "source": [
    "Zwróć uwagę, że teraz uruchamiamy `fit` i `predict` na `Pipeline` i tam w środku odbywa się cały łańcuch zmian. \n",
    "\n",
    "Idziemy dalej. Spróbujmy np. wybrać cechy, używając `VarianceThreshold`."
   ]
  },
  {
   "cell_type": "code",
   "execution_count": 24,
   "metadata": {
    "ExecuteTime": {
     "end_time": "2021-05-16T14:34:48.740720Z",
     "start_time": "2021-05-16T14:34:48.635629Z"
    }
   },
   "outputs": [
    {
     "data": {
      "text/plain": [
       "1.273889746042342"
      ]
     },
     "execution_count": 24,
     "metadata": {},
     "output_type": "execute_result"
    }
   ],
   "source": [
    "pipeline = Pipeline( [\n",
    "    ('imputer', SimpleImputer(strategy='median')),\n",
    "    ('normalize', MinMaxScaler()),\n",
    "    ('variance-treshold', VarianceThreshold(threshold=0.05)),\n",
    "    ('model', LinearRegression())\n",
    "])\n",
    "\n",
    "train_and_predict(pipeline, X, y)"
   ]
  },
  {
   "cell_type": "markdown",
   "metadata": {},
   "source": [
    "Również możemy użyć rekurencyjnego wybierania cech (pamiętaj, że to jest bardzo efektywna, ale wolna metoda)."
   ]
  },
  {
   "cell_type": "code",
   "execution_count": 25,
   "metadata": {
    "ExecuteTime": {
     "end_time": "2021-05-16T14:34:48.906754Z",
     "start_time": "2021-05-16T14:34:48.835069Z"
    }
   },
   "outputs": [
    {
     "data": {
      "text/plain": [
       "1.272635499068297"
      ]
     },
     "execution_count": 25,
     "metadata": {},
     "output_type": "execute_result"
    }
   ],
   "source": [
    "pipeline = Pipeline( [\n",
    "    ('imputer', SimpleImputer(strategy='median')),\n",
    "    ('normalize', MinMaxScaler()),\n",
    "    ('variance-treshold', VarianceThreshold(threshold=0.05)),\n",
    "    ('RFE', RFE(LinearRegression())),\n",
    "    ('model', LinearRegression())\n",
    "])\n",
    "\n",
    "train_and_predict(pipeline, X, y)"
   ]
  },
  {
   "cell_type": "markdown",
   "metadata": {},
   "source": [
    "To wrzućmy teraz bardziej złożony model np. `DecisionTreeRegressor`."
   ]
  },
  {
   "cell_type": "code",
   "execution_count": 26,
   "metadata": {
    "ExecuteTime": {
     "end_time": "2021-05-16T14:34:49.051979Z",
     "start_time": "2021-05-16T14:34:48.944052Z"
    }
   },
   "outputs": [
    {
     "data": {
      "text/plain": [
       "0.3323608160094821"
      ]
     },
     "execution_count": 26,
     "metadata": {},
     "output_type": "execute_result"
    }
   ],
   "source": [
    "pipeline = Pipeline( [\n",
    "    ('imputer', SimpleImputer(strategy='median')),\n",
    "    ('normalize', MinMaxScaler()),\n",
    "    ('variance-treshold', VarianceThreshold(threshold=0.05)),\n",
    "    ('model', DecisionTreeRegressor(max_depth=10))\n",
    "])\n",
    "\n",
    "train_and_predict(pipeline, X, y)"
   ]
  },
  {
   "cell_type": "markdown",
   "metadata": {},
   "source": [
    "A teraz `RandomForestRegressor`."
   ]
  },
  {
   "cell_type": "code",
   "execution_count": 27,
   "metadata": {
    "ExecuteTime": {
     "end_time": "2021-05-16T14:34:49.299438Z",
     "start_time": "2021-05-16T14:34:49.080856Z"
    }
   },
   "outputs": [
    {
     "data": {
      "text/plain": [
       "0.3251482035054004"
      ]
     },
     "execution_count": 27,
     "metadata": {},
     "output_type": "execute_result"
    }
   ],
   "source": [
    "pipeline = Pipeline( [\n",
    "    ('imputer', SimpleImputer(strategy='median')),\n",
    "    ('normalize', MinMaxScaler()),\n",
    "    ('variance-treshold', VarianceThreshold(threshold=0.05)),\n",
    "    ('model', RandomForestRegressor(max_depth=10, n_estimators=10))\n",
    "])\n",
    "\n",
    "train_and_predict(pipeline, X, y)"
   ]
  },
  {
   "cell_type": "markdown",
   "metadata": {},
   "source": [
    "Swoją drogą, masz również możliwość dostania się do każdego kroku `Pipeline` np. do modelu."
   ]
  },
  {
   "cell_type": "code",
   "execution_count": 28,
   "metadata": {
    "ExecuteTime": {
     "end_time": "2021-05-16T14:34:49.337050Z",
     "start_time": "2021-05-16T14:34:49.330196Z"
    }
   },
   "outputs": [
    {
     "data": {
      "text/plain": [
       "RandomForestRegressor(max_depth=10, n_estimators=10)"
      ]
     },
     "execution_count": 28,
     "metadata": {},
     "output_type": "execute_result"
    }
   ],
   "source": [
    "pipeline.named_steps['model']"
   ]
  },
  {
   "cell_type": "markdown",
   "metadata": {},
   "source": [
    "Spróbujmy napisać własny `Transformer` (nie musisz rozumieć poniższego kodu)."
   ]
  },
  {
   "cell_type": "code",
   "execution_count": 29,
   "metadata": {
    "ExecuteTime": {
     "end_time": "2021-05-16T14:34:49.368515Z",
     "start_time": "2021-05-16T14:34:49.364320Z"
    }
   },
   "outputs": [],
   "source": [
    "class SelectFeature(TransformerMixin, BaseEstimator):\n",
    "    def __init__(self, feature):\n",
    "        self.feature = feature\n",
    "\n",
    "    def fit(self, *_):\n",
    "        return self\n",
    "    \n",
    "    def transform(self, data):\n",
    "        return data[self.feature]"
   ]
  },
  {
   "cell_type": "markdown",
   "metadata": {},
   "source": [
    "Można pójść dalej i zrobić własny ogólny `Transformer`."
   ]
  },
  {
   "cell_type": "code",
   "execution_count": 30,
   "metadata": {
    "ExecuteTime": {
     "end_time": "2021-05-16T14:34:49.399773Z",
     "start_time": "2021-05-16T14:34:49.395361Z"
    }
   },
   "outputs": [],
   "source": [
    "class DFTransform(TransformerMixin, BaseEstimator):\n",
    "    def __init__(self, func, copy=False):\n",
    "        self.func = func\n",
    "        self.copy = copy\n",
    "        \n",
    "    def fit(self, *_):\n",
    "        return self\n",
    "\n",
    "    def transform(self, X):\n",
    "        X_ = X if not self.copy else X.copy()\n",
    "        return self.func(X_)"
   ]
  },
  {
   "cell_type": "markdown",
   "metadata": {},
   "source": [
    "Definiujemy funkcje, które wykorzystamy w naszym `Pipeline`."
   ]
  },
  {
   "cell_type": "code",
   "execution_count": 31,
   "metadata": {
    "ExecuteTime": {
     "end_time": "2021-05-16T14:34:49.441207Z",
     "start_time": "2021-05-16T14:34:49.435513Z"
    }
   },
   "outputs": [],
   "source": [
    "def _remove_target_vars(df):\n",
    "    feats = df.columns\n",
    "    feats = feats[ (feats != 'count') & (feats != 'registered') & (feats != 'casual') ]\n",
    "    \n",
    "    return df[feats]\n",
    "\n",
    "def _parse_date(df, feat):\n",
    "    df[feat] = pd.to_datetime(df[feat])\n",
    "    return df\n",
    "\n",
    "def _extract_dt(df, feat):\n",
    "    \n",
    "    df['hour'] = df[feat].dt.hour\n",
    "    df['day'] = df[feat].dt.day\n",
    "    df['month'] = df[feat].dt.month\n",
    "    df['year'] = df[feat].dt.year\n",
    "    df['dayofweek'] = df[feat].dt.dayofweek\n",
    "    df['weekofyear'] = df[feat].dt.weekofyear\n",
    "    df['weekend'] = df.dayofweek.map(lambda x: int(x in [5,6]) )\n",
    "    \n",
    "    return df"
   ]
  },
  {
   "cell_type": "markdown",
   "metadata": {},
   "source": [
    "Tworzymy `Pipeline` używając naszych funkcji."
   ]
  },
  {
   "cell_type": "code",
   "execution_count": 32,
   "metadata": {
    "ExecuteTime": {
     "end_time": "2021-05-16T14:34:49.476988Z",
     "start_time": "2021-05-16T14:34:49.471787Z"
    }
   },
   "outputs": [],
   "source": [
    "pipeline = Pipeline([\n",
    "    ('fill_na', DFTransform(lambda df: df.fillna(-1), copy=True) ),\n",
    "    ('remove_target_var', DFTransform(_remove_target_vars) ),\n",
    "    \n",
    "    ('parse_date',  DFTransform(lambda df: _parse_date(df, 'datetime')) ),\n",
    "    ('extract_dt', DFTransform(lambda df: _extract_dt(df, 'datetime')) ),\n",
    "    \n",
    "    ('numerical', Pipeline([\n",
    "       ('select', DFTransform(lambda df: df.select_dtypes(include=['int'])) ), \n",
    "    ])),\n",
    "    \n",
    "    ('model', RandomForestRegressor(max_depth=10, n_estimators=10, random_state=2019) )\n",
    "])"
   ]
  },
  {
   "cell_type": "markdown",
   "metadata": {},
   "source": [
    "Teraz już dochodzimy do sedna, żeby zobaczyć wartość takiej \"układanki\". \n",
    "\n",
    "Wczytujemy zbiór treningowy, który posiada odpowiedź i zbiór testowy, który odpowiedzi nie ma. Przetwarzanie dla obu zbiorów będzie identyczne (zbiór testowy wprawdzie nie zawiera zmiennych docelowych, więc wykonanie na nim operacji usuwania tych zmiennych jest niepotrzebne, ale to nie przeszkadza, bo zachowujemy spójność `Pipeline`). \n",
    "\n",
    "Zobacz, jak łatwo wygląda teraz predykcja."
   ]
  },
  {
   "cell_type": "code",
   "execution_count": 33,
   "metadata": {
    "ExecuteTime": {
     "end_time": "2021-05-16T14:34:49.923907Z",
     "start_time": "2021-05-16T14:34:49.508819Z"
    }
   },
   "outputs": [
    {
     "name": "stderr",
     "output_type": "stream",
     "text": [
      "/var/folders/00/3f1t2rhd45l6fvmbkz20ptgh00dr78/T/ipykernel_9436/3358762817.py:18: FutureWarning: Series.dt.weekofyear and Series.dt.week have been deprecated. Please use Series.dt.isocalendar().week instead.\n",
      "  df['weekofyear'] = df[feat].dt.weekofyear\n",
      "/var/folders/00/3f1t2rhd45l6fvmbkz20ptgh00dr78/T/ipykernel_9436/3358762817.py:18: FutureWarning: Series.dt.weekofyear and Series.dt.week have been deprecated. Please use Series.dt.isocalendar().week instead.\n",
      "  df['weekofyear'] = df[feat].dt.weekofyear\n"
     ]
    },
    {
     "data": {
      "text/plain": [
       "array([ 17.14978261,   6.60303533,   6.25903439, ..., 128.37424242,\n",
       "       107.08570707,  74.84654611])"
      ]
     },
     "execution_count": 33,
     "metadata": {},
     "output_type": "execute_result"
    }
   ],
   "source": [
    "df_train = pd.read_hdf('../input/train_bike.h5')\n",
    "df_test = pd.read_hdf('../input/test_bike.h5')\n",
    "\n",
    "pipeline.fit(df_train, y)\n",
    "y_pred = pipeline.predict(df_test)\n",
    "\n",
    "y_pred"
   ]
  },
  {
   "cell_type": "markdown",
   "metadata": {},
   "source": [
    "*Swoją drogą*, jeśli chodzi *serializację*, to teraz możesz zapisać na dysku całą logikę `Pipeline`. Mam nadzieje, że to już jest dla Ciebie oczywiste, jaką to daje przewagę w porównaniu do *serializacji* tylko \"gołego\" modelu. Pamiętaj tylko, że standardowy `pickle` nie poradzi sobie z `lambdami` (funkcje anonimowe), ale to już było omówione w poprzedniej lekcji."
   ]
  },
  {
   "cell_type": "markdown",
   "metadata": {},
   "source": [
    "## Przydatne linki:\n",
    "1. [Deploying Machine Learning using sklearn pipelines](https://bit.ly/3uRHk93)\n",
    "2. [Why you should use scikit-learn's Pipeline object](https://bit.ly/3olRb4h)\n",
    "3. [Integrating Pandas and scikit-learn with pipelines](https://bit.ly/3eO53kG)\n",
    "4. [Pandas, Pipelines, and Custom Transformers](https://bit.ly/3hvjAnd)"
   ]
  },
  {
   "cell_type": "code",
   "execution_count": null,
   "metadata": {},
   "outputs": [],
   "source": []
  }
 ],
 "metadata": {
  "kernelspec": {
   "display_name": "umapkernel",
   "language": "python",
   "name": "umapkernel"
  },
  "language_info": {
   "codemirror_mode": {
    "name": "ipython",
    "version": 3
   },
   "file_extension": ".py",
   "mimetype": "text/x-python",
   "name": "python",
   "nbconvert_exporter": "python",
   "pygments_lexer": "ipython3",
   "version": "3.9.12"
  }
 },
 "nbformat": 4,
 "nbformat_minor": 2
}
