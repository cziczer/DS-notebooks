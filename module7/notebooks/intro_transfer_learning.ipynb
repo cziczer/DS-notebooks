{
 "cells": [
  {
   "cell_type": "markdown",
   "metadata": {},
   "source": [
    "# Transfer Learning (podstawy) "
   ]
  },
  {
   "cell_type": "code",
   "execution_count": 1,
   "metadata": {
    "ExecuteTime": {
     "end_time": "2021-05-09T16:17:45.377817Z",
     "start_time": "2021-05-09T16:17:42.355803Z"
    }
   },
   "outputs": [],
   "source": [
    "from tensorflow.keras.applications.resnet50 import ResNet50\n",
    "from tensorflow.keras.preprocessing import image\n",
    "from tensorflow.keras.applications.resnet50 import preprocess_input, decode_predictions\n",
    "\n",
    "import numpy as np\n",
    "np.random.seed(0)\n",
    "\n",
    "import matplotlib.pyplot as plt\n",
    "%matplotlib inline\n",
    "\n",
    "import os\n",
    "os.environ['OMP_NUM_THREADS'] = \"1\""
   ]
  },
  {
   "cell_type": "markdown",
   "metadata": {},
   "source": [
    "Wczytujemy już gotowy model (to może trochę potrwać), w tym przypadku jest to ResNet50."
   ]
  },
  {
   "cell_type": "code",
   "execution_count": 2,
   "metadata": {
    "ExecuteTime": {
     "end_time": "2021-05-09T16:17:47.692643Z",
     "start_time": "2021-05-09T16:17:45.402804Z"
    }
   },
   "outputs": [
    {
     "name": "stderr",
     "output_type": "stream",
     "text": [
      "2022-11-08 11:04:42.679406: I tensorflow/core/platform/cpu_feature_guard.cc:142] This TensorFlow binary is optimized with oneAPI Deep Neural Network Library (oneDNN) to use the following CPU instructions in performance-critical operations:  SSE4.1 SSE4.2 AVX AVX2 FMA\n",
      "To enable them in other operations, rebuild TensorFlow with the appropriate compiler flags.\n"
     ]
    },
    {
     "name": "stdout",
     "output_type": "stream",
     "text": [
      "Downloading data from https://storage.googleapis.com/tensorflow/keras-applications/resnet/resnet50_weights_tf_dim_ordering_tf_kernels.h5\n",
      "102973440/102967424 [==============================] - 53s 1us/step\n"
     ]
    }
   ],
   "source": [
    "model = ResNet50(weights='imagenet')"
   ]
  },
  {
   "cell_type": "markdown",
   "metadata": {},
   "source": [
    "## Dane\n",
    "\n",
    "Wczytujemy zdjęcie i przygotowujemy dane. Dane wejściowe muszą być 224x224, jeśli zdjęcie będzie inne, automatycznie zostanie zmienione."
   ]
  },
  {
   "cell_type": "code",
   "execution_count": 3,
   "metadata": {
    "ExecuteTime": {
     "end_time": "2021-05-09T16:17:47.762519Z",
     "start_time": "2021-05-09T16:17:47.733721Z"
    }
   },
   "outputs": [
    {
     "name": "stdout",
     "output_type": "stream",
     "text": [
      "<PIL.Image.Image image mode=RGB size=224x224 at 0x7FE0A94DFCA0>\n",
      "(1, 224, 224, 3)\n"
     ]
    }
   ],
   "source": [
    "img = image.load_img('../input/cat.jpg', target_size=(224, 224))\n",
    "print(img)\n",
    "\n",
    "X = np.expand_dims(image.img_to_array(img), axis=0)\n",
    "print(X.shape)\n",
    "\n",
    "X = preprocess_input(X)"
   ]
  },
  {
   "cell_type": "markdown",
   "metadata": {},
   "source": [
    "## Predykcja"
   ]
  },
  {
   "cell_type": "code",
   "execution_count": 4,
   "metadata": {
    "ExecuteTime": {
     "end_time": "2021-05-09T16:17:50.189157Z",
     "start_time": "2021-05-09T16:17:47.788876Z"
    }
   },
   "outputs": [
    {
     "name": "stderr",
     "output_type": "stream",
     "text": [
      "2022-11-08 11:06:12.457124: I tensorflow/compiler/mlir/mlir_graph_optimization_pass.cc:116] None of the MLIR optimization passes are enabled (registered 2)\n"
     ]
    },
    {
     "name": "stdout",
     "output_type": "stream",
     "text": [
      "Downloading data from https://storage.googleapis.com/download.tensorflow.org/data/imagenet_class_index.json\n",
      "40960/35363 [==================================] - 0s 1us/step\n"
     ]
    },
    {
     "data": {
      "text/plain": [
       "[('n02123045', 'tabby', 0.6051829),\n",
       " ('n02127052', 'lynx', 0.27800566),\n",
       " ('n02124075', 'Egyptian_cat', 0.075190455)]"
      ]
     },
     "execution_count": 4,
     "metadata": {},
     "output_type": "execute_result"
    }
   ],
   "source": [
    "preds = model.predict(X)\n",
    "y_pred = decode_predictions(preds, top=3)[0]\n",
    "\n",
    "y_pred"
   ]
  },
  {
   "cell_type": "markdown",
   "metadata": {},
   "source": [
    "Model zwraca krotkę (ang. *tuple*) z trzema elementami:\n",
    "- ID klasy\n",
    "- nazwa (tak po ludzku)\n",
    "- prawdopodobieństwo (że obiekt/zdjęcie należy do tej klasy)\n",
    "\n",
    "## Wizualizacja"
   ]
  },
  {
   "cell_type": "code",
   "execution_count": 5,
   "metadata": {
    "ExecuteTime": {
     "end_time": "2021-05-09T16:17:50.357346Z",
     "start_time": "2021-05-09T16:17:50.217973Z"
    }
   },
   "outputs": [
    {
     "data": {
      "image/png": "[encoded data removed]",
      "text/plain": [
       "<Figure size 432x288 with 1 Axes>"
      ]
     },
     "metadata": {
      "needs_background": "light"
     },
     "output_type": "display_data"
    }
   ],
   "source": [
    "def show_result(y_pred):\n",
    "    plt.title(\"Kto to jest?\")\n",
    "    plt.ylabel(\"Prawdopodobieństwo\")\n",
    "    plt.xlabel(\"Klasa\")\n",
    "\n",
    "    values = [x[2] for x in y_pred]\n",
    "    labels = [x[1] for x in y_pred]\n",
    "    idxs = range(len(values))\n",
    "\n",
    "    plt.bar( idxs, values )\n",
    "    plt.xticks(idxs, labels)\n",
    "    \n",
    "show_result(y_pred)"
   ]
  },
  {
   "cell_type": "markdown",
   "metadata": {},
   "source": [
    "## Przydatne linki:\n",
    "1. [A Comprehensive Hands-on Guide to Transfer Learning with Real-World Applications in Deep Learning](https://bit.ly/3tsZpIQ)\n",
    "2. [Very deep convolutional networks for large-scale image recognition](https://bit.ly/3f0I2do)"
   ]
  },
  {
   "cell_type": "code",
   "execution_count": null,
   "metadata": {},
   "outputs": [],
   "source": []
  }
 ],
 "metadata": {
  "kernelspec": {
   "display_name": "umapkernel",
   "language": "python",
   "name": "umapkernel"
  },
  "language_info": {
   "codemirror_mode": {
    "name": "ipython",
    "version": 3
   },
   "file_extension": ".py",
   "mimetype": "text/x-python",
   "name": "python",
   "nbconvert_exporter": "python",
   "pygments_lexer": "ipython3",
   "version": "3.9.12"
  }
 },
 "nbformat": 4,
 "nbformat_minor": 2
}
